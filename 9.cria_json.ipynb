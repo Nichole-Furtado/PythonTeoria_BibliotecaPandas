{
 "cells": [
  {
   "cell_type": "code",
   "execution_count": 2,
   "id": "90b66c12",
   "metadata": {},
   "outputs": [],
   "source": [
    "import json"
   ]
  },
  {
   "cell_type": "code",
   "execution_count": 3,
   "id": "3ef687c8",
   "metadata": {},
   "outputs": [],
   "source": [
    "dados_receita = {\n",
    "    \"receita\": [\n",
    "        {\n",
    "            \"titulo\": \"Bolo de Cenoura\",\n",
    "            \"tempo_preparo\": 60,\n",
    "            \"porcoes\": 8,\n",
    "            \"ingredientes\": [\n",
    "                {\"ingrediente\": \"Cenoura\", \"quantidade\": \"2 unidades\"},\n",
    "                {\"ingrediente\": \"Açúcar\", \"quantidade\": \"2 xícaras\"},\n",
    "                {\"ingrediente\": \"Farinha de trigo\", \"quantidade\": \"2 xícaras\"},\n",
    "                {\"ingrediente\": \"Ovo\", \"quantidade\": \"3 unidades\"},\n",
    "                {\"ingrediente\": \"Óleo\", \"quantidade\": \"1 xícara\"},\n",
    "                {\"ingrediente\": \"Fermento em pó\", \"quantidade\": \"1 colher de sopa\"}\n",
    "            ],\n",
    "        },\n",
    "        {\n",
    "            \"titulo\": \"Pudim de Leite\",\n",
    "            \"tempo_preparo\": 90,\n",
    "            \"porcoes\": 6,\n",
    "            \"ingredientes\": [\n",
    "                {\"ingrediente\": \"Leite condensado\", \"quantidade\": \"1 lata\"},\n",
    "                {\"ingrediente\": \"Leite\", \"quantidade\": \"2 latas\"},\n",
    "                {\"ingrediente\": \"Ovo\", \"quantidade\": \"3 unidades\"},\n",
    "                {\"ingrediente\": \"Açúcar\", \"quantidade\": \"1 xícara\"},\n",
    "                {\"ingrediente\": \"Essência de baunilha\", \"quantidade\": \"a gosto\"}\n",
    "            ],\n",
    "        },\n",
    "        {\n",
    "            \"titulo\": \"Salada de Frutas\",\n",
    "            \"tempo_preparo\": 15,\n",
    "            \"porcoes\": 4,\n",
    "            \"ingredientes\": [\n",
    "                {\"ingrediente\": \"Maçã\", \"quantidade\": \"1 unidade\"},\n",
    "                {\"ingrediente\": \"Banana\", \"quantidade\": \"2 unidades\"},\n",
    "                {\"ingrediente\": \"Laranja\", \"quantidade\": \"1 unidade\"},\n",
    "                {\"ingrediente\": \"Uva\", \"quantidade\": \"1 cacho\"},\n",
    "                {\"ingrediente\": \"Mel\", \"quantidade\": \"a gosto\"}\n",
    "            ],\n",
    "        }\n",
    "    ]\n",
    "}"
   ]
  },
  {
   "cell_type": "code",
   "execution_count": 4,
   "id": "377cd083",
   "metadata": {},
   "outputs": [],
   "source": [
    "with open(\"receitas.json\", \"w\", encoding = \"utf-8\") as file:\n",
    "    json.dump(dados_receita, file, ensure_ascii=False, indent=4)"
   ]
  },
  {
   "cell_type": "markdown",
   "id": "8e0bd693",
   "metadata": {},
   "source": []
  }
 ],
 "metadata": {
  "kernelspec": {
   "display_name": ".venv",
   "language": "python",
   "name": "python3"
  },
  "language_info": {
   "codemirror_mode": {
    "name": "ipython",
    "version": 3
   },
   "file_extension": ".py",
   "mimetype": "text/x-python",
   "name": "python",
   "nbconvert_exporter": "python",
   "pygments_lexer": "ipython3",
   "version": "3.13.2"
  }
 },
 "nbformat": 4,
 "nbformat_minor": 5
}
