{
 "cells": [
  {
   "cell_type": "code",
   "execution_count": 1,
   "id": "65ca6181",
   "metadata": {},
   "outputs": [],
   "source": [
    "import pandas as pd"
   ]
  },
  {
   "cell_type": "code",
   "execution_count": 3,
   "id": "a8c4b35f",
   "metadata": {},
   "outputs": [
    {
     "data": {
      "application/vnd.microsoft.datawrangler.viewer.v0+json": {
       "columns": [
        {
         "name": "index",
         "rawType": "int64",
         "type": "integer"
        },
        {
         "name": "receita",
         "rawType": "object",
         "type": "unknown"
        }
       ],
       "conversionMethod": "pd.DataFrame",
       "ref": "77bdd644-584b-417a-b7bd-ea5ff7083373",
       "rows": [
        [
         "0",
         "{'titulo': 'Bolo de Cenoura', 'tempo_preparo': 60, 'porcoes': 8, 'ingredientes': [{'ingrediente': 'Cenoura', 'quantidade': '2 unidades'}, {'ingrediente': 'Açúcar', 'quantidade': '2 xícaras'}, {'ingrediente': 'Farinha de trigo', 'quantidade': '2 xícaras'}, {'ingrediente': 'Ovo', 'quantidade': '3 unidades'}, {'ingrediente': 'Óleo', 'quantidade': '1 xícara'}, {'ingrediente': 'Fermento em pó', 'quantidade': '1 colher de sopa'}]}"
        ],
        [
         "1",
         "{'titulo': 'Pudim de Leite', 'tempo_preparo': 90, 'porcoes': 6, 'ingredientes': [{'ingrediente': 'Leite condensado', 'quantidade': '1 lata'}, {'ingrediente': 'Leite', 'quantidade': '2 latas'}, {'ingrediente': 'Ovo', 'quantidade': '3 unidades'}, {'ingrediente': 'Açúcar', 'quantidade': '1 xícara'}, {'ingrediente': 'Essência de baunilha', 'quantidade': 'a gosto'}]}"
        ],
        [
         "2",
         "{'titulo': 'Salada de Frutas', 'tempo_preparo': 15, 'porcoes': 4, 'ingredientes': [{'ingrediente': 'Maçã', 'quantidade': '1 unidade'}, {'ingrediente': 'Banana', 'quantidade': '2 unidades'}, {'ingrediente': 'Laranja', 'quantidade': '1 unidade'}, {'ingrediente': 'Uva', 'quantidade': '1 cacho'}, {'ingrediente': 'Mel', 'quantidade': 'a gosto'}]}"
        ]
       ],
       "shape": {
        "columns": 1,
        "rows": 3
       }
      },
      "text/html": [
       "<div>\n",
       "<style scoped>\n",
       "    .dataframe tbody tr th:only-of-type {\n",
       "        vertical-align: middle;\n",
       "    }\n",
       "\n",
       "    .dataframe tbody tr th {\n",
       "        vertical-align: top;\n",
       "    }\n",
       "\n",
       "    .dataframe thead th {\n",
       "        text-align: right;\n",
       "    }\n",
       "</style>\n",
       "<table border=\"1\" class=\"dataframe\">\n",
       "  <thead>\n",
       "    <tr style=\"text-align: right;\">\n",
       "      <th></th>\n",
       "      <th>receita</th>\n",
       "    </tr>\n",
       "  </thead>\n",
       "  <tbody>\n",
       "    <tr>\n",
       "      <th>0</th>\n",
       "      <td>{'titulo': 'Bolo de Cenoura', 'tempo_preparo':...</td>\n",
       "    </tr>\n",
       "    <tr>\n",
       "      <th>1</th>\n",
       "      <td>{'titulo': 'Pudim de Leite', 'tempo_preparo': ...</td>\n",
       "    </tr>\n",
       "    <tr>\n",
       "      <th>2</th>\n",
       "      <td>{'titulo': 'Salada de Frutas', 'tempo_preparo'...</td>\n",
       "    </tr>\n",
       "  </tbody>\n",
       "</table>\n",
       "</div>"
      ],
      "text/plain": [
       "                                             receita\n",
       "0  {'titulo': 'Bolo de Cenoura', 'tempo_preparo':...\n",
       "1  {'titulo': 'Pudim de Leite', 'tempo_preparo': ...\n",
       "2  {'titulo': 'Salada de Frutas', 'tempo_preparo'..."
      ]
     },
     "execution_count": 3,
     "metadata": {},
     "output_type": "execute_result"
    }
   ],
   "source": [
    "df = pd.read_json(\"dados/receitas.json\", encoding=\"utf-8\")\n",
    "df"
   ]
  },
  {
   "cell_type": "code",
   "execution_count": 7,
   "id": "9e01f998",
   "metadata": {},
   "outputs": [],
   "source": [
    "#Analise total de ingredientes por receita\n",
    "receitas_expandidas =[]\n",
    "for receita in df[\"receita\"]:\n",
    "    total_ingredientes = len(receita[\"ingredientes\"])\n",
    "    receita_info = {\n",
    "        \"titulo\": receita[\"titulo\"],\n",
    "        \"tempo_preparo\": receita[\"tempo_preparo\"],\n",
    "        \"porcoes\": receita[\"porcoes\"],\n",
    "        \"total_ingredientes\": total_ingredientes\n",
    "    }\n",
    "    receitas_expandidas.append(receita_info)"
   ]
  },
  {
   "cell_type": "code",
   "execution_count": 8,
   "id": "e9940701",
   "metadata": {},
   "outputs": [
    {
     "data": {
      "text/plain": [
       "[{'titulo': 'Bolo de Cenoura',\n",
       "  'tempo_preparo': 60,\n",
       "  'porcoes': 8,\n",
       "  'total_ingredientes': 6},\n",
       " {'titulo': 'Pudim de Leite',\n",
       "  'tempo_preparo': 90,\n",
       "  'porcoes': 6,\n",
       "  'total_ingredientes': 5},\n",
       " {'titulo': 'Salada de Frutas',\n",
       "  'tempo_preparo': 15,\n",
       "  'porcoes': 4,\n",
       "  'total_ingredientes': 5}]"
      ]
     },
     "execution_count": 8,
     "metadata": {},
     "output_type": "execute_result"
    }
   ],
   "source": [
    "receitas_expandidas"
   ]
  },
  {
   "cell_type": "code",
   "execution_count": 9,
   "id": "8f77c48b",
   "metadata": {},
   "outputs": [
    {
     "data": {
      "application/vnd.microsoft.datawrangler.viewer.v0+json": {
       "columns": [
        {
         "name": "index",
         "rawType": "int64",
         "type": "integer"
        },
        {
         "name": "titulo",
         "rawType": "object",
         "type": "string"
        },
        {
         "name": "tempo_preparo",
         "rawType": "int64",
         "type": "integer"
        },
        {
         "name": "porcoes",
         "rawType": "int64",
         "type": "integer"
        },
        {
         "name": "total_ingredientes",
         "rawType": "int64",
         "type": "integer"
        }
       ],
       "conversionMethod": "pd.DataFrame",
       "ref": "0fe9ed2f-6c53-4d2d-b532-738d6b110ab5",
       "rows": [
        [
         "0",
         "Bolo de Cenoura",
         "60",
         "8",
         "6"
        ],
        [
         "1",
         "Pudim de Leite",
         "90",
         "6",
         "5"
        ],
        [
         "2",
         "Salada de Frutas",
         "15",
         "4",
         "5"
        ]
       ],
       "shape": {
        "columns": 4,
        "rows": 3
       }
      },
      "text/html": [
       "<div>\n",
       "<style scoped>\n",
       "    .dataframe tbody tr th:only-of-type {\n",
       "        vertical-align: middle;\n",
       "    }\n",
       "\n",
       "    .dataframe tbody tr th {\n",
       "        vertical-align: top;\n",
       "    }\n",
       "\n",
       "    .dataframe thead th {\n",
       "        text-align: right;\n",
       "    }\n",
       "</style>\n",
       "<table border=\"1\" class=\"dataframe\">\n",
       "  <thead>\n",
       "    <tr style=\"text-align: right;\">\n",
       "      <th></th>\n",
       "      <th>titulo</th>\n",
       "      <th>tempo_preparo</th>\n",
       "      <th>porcoes</th>\n",
       "      <th>total_ingredientes</th>\n",
       "    </tr>\n",
       "  </thead>\n",
       "  <tbody>\n",
       "    <tr>\n",
       "      <th>0</th>\n",
       "      <td>Bolo de Cenoura</td>\n",
       "      <td>60</td>\n",
       "      <td>8</td>\n",
       "      <td>6</td>\n",
       "    </tr>\n",
       "    <tr>\n",
       "      <th>1</th>\n",
       "      <td>Pudim de Leite</td>\n",
       "      <td>90</td>\n",
       "      <td>6</td>\n",
       "      <td>5</td>\n",
       "    </tr>\n",
       "    <tr>\n",
       "      <th>2</th>\n",
       "      <td>Salada de Frutas</td>\n",
       "      <td>15</td>\n",
       "      <td>4</td>\n",
       "      <td>5</td>\n",
       "    </tr>\n",
       "  </tbody>\n",
       "</table>\n",
       "</div>"
      ],
      "text/plain": [
       "             titulo  tempo_preparo  porcoes  total_ingredientes\n",
       "0   Bolo de Cenoura             60        8                   6\n",
       "1    Pudim de Leite             90        6                   5\n",
       "2  Salada de Frutas             15        4                   5"
      ]
     },
     "execution_count": 9,
     "metadata": {},
     "output_type": "execute_result"
    }
   ],
   "source": [
    "df_expandido = pd.DataFrame(receitas_expandidas)\n",
    "df_expandido"
   ]
  },
  {
   "cell_type": "code",
   "execution_count": null,
   "id": "46ae6751",
   "metadata": {},
   "outputs": [],
   "source": []
  }
 ],
 "metadata": {
  "kernelspec": {
   "display_name": ".venv",
   "language": "python",
   "name": "python3"
  },
  "language_info": {
   "codemirror_mode": {
    "name": "ipython",
    "version": 3
   },
   "file_extension": ".py",
   "mimetype": "text/x-python",
   "name": "python",
   "nbconvert_exporter": "python",
   "pygments_lexer": "ipython3",
   "version": "3.13.2"
  }
 },
 "nbformat": 4,
 "nbformat_minor": 5
}
