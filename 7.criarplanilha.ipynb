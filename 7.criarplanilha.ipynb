{
 "cells": [
  {
   "cell_type": "code",
   "execution_count": 11,
   "id": "ebadb9cf",
   "metadata": {},
   "outputs": [],
   "source": [
    "import pandas as pd\n",
    "import openpyxl"
   ]
  },
  {
   "cell_type": "code",
   "execution_count": 2,
   "id": "e5be3788",
   "metadata": {},
   "outputs": [],
   "source": [
    "dados = {\n",
    "    'Time': ['Flamengo', 'Fluminense', 'Vasco', 'Botafogo', 'Corinthians'],\n",
    "    'Partidas_Jogadas': [10, 10, 10, 10, 10],\n",
    "    'Vitorias': [5, 3, 2, 4, 6],\n",
    "    'Empates': [3, 4, 5, 2, 2],\n",
    "    'Derrotas': [2, 3, 3, 4, 2],\n",
    "    'Gols_Pro': [20, 15, 10, 12, 25],\n",
    "    'Gols_Contra': [10, 12, 15, 10, 8],\n",
    "}"
   ]
  },
  {
   "cell_type": "code",
   "execution_count": 5,
   "id": "752a39d3",
   "metadata": {},
   "outputs": [
    {
     "data": {
      "application/vnd.microsoft.datawrangler.viewer.v0+json": {
       "columns": [
        {
         "name": "index",
         "rawType": "int64",
         "type": "integer"
        },
        {
         "name": "Time",
         "rawType": "object",
         "type": "string"
        },
        {
         "name": "Partidas_Jogadas",
         "rawType": "int64",
         "type": "integer"
        },
        {
         "name": "Vitorias",
         "rawType": "int64",
         "type": "integer"
        },
        {
         "name": "Empates",
         "rawType": "int64",
         "type": "integer"
        },
        {
         "name": "Derrotas",
         "rawType": "int64",
         "type": "integer"
        },
        {
         "name": "Gols_Pro",
         "rawType": "int64",
         "type": "integer"
        },
        {
         "name": "Gols_Contra",
         "rawType": "int64",
         "type": "integer"
        }
       ],
       "conversionMethod": "pd.DataFrame",
       "ref": "2dc1f0be-9817-4bb4-8b67-e965a43b17e4",
       "rows": [
        [
         "0",
         "Flamengo",
         "10",
         "5",
         "3",
         "2",
         "20",
         "10"
        ],
        [
         "1",
         "Fluminense",
         "10",
         "3",
         "4",
         "3",
         "15",
         "12"
        ],
        [
         "2",
         "Vasco",
         "10",
         "2",
         "5",
         "3",
         "10",
         "15"
        ],
        [
         "3",
         "Botafogo",
         "10",
         "4",
         "2",
         "4",
         "12",
         "10"
        ],
        [
         "4",
         "Corinthians",
         "10",
         "6",
         "2",
         "2",
         "25",
         "8"
        ]
       ],
       "shape": {
        "columns": 7,
        "rows": 5
       }
      },
      "text/html": [
       "<div>\n",
       "<style scoped>\n",
       "    .dataframe tbody tr th:only-of-type {\n",
       "        vertical-align: middle;\n",
       "    }\n",
       "\n",
       "    .dataframe tbody tr th {\n",
       "        vertical-align: top;\n",
       "    }\n",
       "\n",
       "    .dataframe thead th {\n",
       "        text-align: right;\n",
       "    }\n",
       "</style>\n",
       "<table border=\"1\" class=\"dataframe\">\n",
       "  <thead>\n",
       "    <tr style=\"text-align: right;\">\n",
       "      <th></th>\n",
       "      <th>Time</th>\n",
       "      <th>Partidas_Jogadas</th>\n",
       "      <th>Vitorias</th>\n",
       "      <th>Empates</th>\n",
       "      <th>Derrotas</th>\n",
       "      <th>Gols_Pro</th>\n",
       "      <th>Gols_Contra</th>\n",
       "    </tr>\n",
       "  </thead>\n",
       "  <tbody>\n",
       "    <tr>\n",
       "      <th>0</th>\n",
       "      <td>Flamengo</td>\n",
       "      <td>10</td>\n",
       "      <td>5</td>\n",
       "      <td>3</td>\n",
       "      <td>2</td>\n",
       "      <td>20</td>\n",
       "      <td>10</td>\n",
       "    </tr>\n",
       "    <tr>\n",
       "      <th>1</th>\n",
       "      <td>Fluminense</td>\n",
       "      <td>10</td>\n",
       "      <td>3</td>\n",
       "      <td>4</td>\n",
       "      <td>3</td>\n",
       "      <td>15</td>\n",
       "      <td>12</td>\n",
       "    </tr>\n",
       "    <tr>\n",
       "      <th>2</th>\n",
       "      <td>Vasco</td>\n",
       "      <td>10</td>\n",
       "      <td>2</td>\n",
       "      <td>5</td>\n",
       "      <td>3</td>\n",
       "      <td>10</td>\n",
       "      <td>15</td>\n",
       "    </tr>\n",
       "    <tr>\n",
       "      <th>3</th>\n",
       "      <td>Botafogo</td>\n",
       "      <td>10</td>\n",
       "      <td>4</td>\n",
       "      <td>2</td>\n",
       "      <td>4</td>\n",
       "      <td>12</td>\n",
       "      <td>10</td>\n",
       "    </tr>\n",
       "    <tr>\n",
       "      <th>4</th>\n",
       "      <td>Corinthians</td>\n",
       "      <td>10</td>\n",
       "      <td>6</td>\n",
       "      <td>2</td>\n",
       "      <td>2</td>\n",
       "      <td>25</td>\n",
       "      <td>8</td>\n",
       "    </tr>\n",
       "  </tbody>\n",
       "</table>\n",
       "</div>"
      ],
      "text/plain": [
       "          Time  Partidas_Jogadas  Vitorias  Empates  Derrotas  Gols_Pro  \\\n",
       "0     Flamengo                10         5        3         2        20   \n",
       "1   Fluminense                10         3        4         3        15   \n",
       "2        Vasco                10         2        5         3        10   \n",
       "3     Botafogo                10         4        2         4        12   \n",
       "4  Corinthians                10         6        2         2        25   \n",
       "\n",
       "   Gols_Contra  \n",
       "0           10  \n",
       "1           12  \n",
       "2           15  \n",
       "3           10  \n",
       "4            8  "
      ]
     },
     "execution_count": 5,
     "metadata": {},
     "output_type": "execute_result"
    }
   ],
   "source": [
    "df = pd.DataFrame(dados)\n",
    "df"
   ]
  },
  {
   "cell_type": "code",
   "execution_count": 6,
   "id": "9741e1f3",
   "metadata": {},
   "outputs": [
    {
     "data": {
      "application/vnd.microsoft.datawrangler.viewer.v0+json": {
       "columns": [
        {
         "name": "index",
         "rawType": "int64",
         "type": "integer"
        },
        {
         "name": "Time",
         "rawType": "object",
         "type": "string"
        },
        {
         "name": "Partidas_Jogadas",
         "rawType": "int64",
         "type": "integer"
        },
        {
         "name": "Vitorias",
         "rawType": "int64",
         "type": "integer"
        },
        {
         "name": "Empates",
         "rawType": "int64",
         "type": "integer"
        },
        {
         "name": "Derrotas",
         "rawType": "int64",
         "type": "integer"
        },
        {
         "name": "Gols_Pro",
         "rawType": "int64",
         "type": "integer"
        },
        {
         "name": "Gols_Contra",
         "rawType": "int64",
         "type": "integer"
        },
        {
         "name": "Saldo_Gols",
         "rawType": "int64",
         "type": "integer"
        }
       ],
       "conversionMethod": "pd.DataFrame",
       "ref": "41c53fe5-0d8b-489c-bb48-b27f067723aa",
       "rows": [
        [
         "0",
         "Flamengo",
         "10",
         "5",
         "3",
         "2",
         "20",
         "10",
         "10"
        ],
        [
         "1",
         "Fluminense",
         "10",
         "3",
         "4",
         "3",
         "15",
         "12",
         "3"
        ],
        [
         "2",
         "Vasco",
         "10",
         "2",
         "5",
         "3",
         "10",
         "15",
         "-5"
        ],
        [
         "3",
         "Botafogo",
         "10",
         "4",
         "2",
         "4",
         "12",
         "10",
         "2"
        ],
        [
         "4",
         "Corinthians",
         "10",
         "6",
         "2",
         "2",
         "25",
         "8",
         "17"
        ]
       ],
       "shape": {
        "columns": 8,
        "rows": 5
       }
      },
      "text/html": [
       "<div>\n",
       "<style scoped>\n",
       "    .dataframe tbody tr th:only-of-type {\n",
       "        vertical-align: middle;\n",
       "    }\n",
       "\n",
       "    .dataframe tbody tr th {\n",
       "        vertical-align: top;\n",
       "    }\n",
       "\n",
       "    .dataframe thead th {\n",
       "        text-align: right;\n",
       "    }\n",
       "</style>\n",
       "<table border=\"1\" class=\"dataframe\">\n",
       "  <thead>\n",
       "    <tr style=\"text-align: right;\">\n",
       "      <th></th>\n",
       "      <th>Time</th>\n",
       "      <th>Partidas_Jogadas</th>\n",
       "      <th>Vitorias</th>\n",
       "      <th>Empates</th>\n",
       "      <th>Derrotas</th>\n",
       "      <th>Gols_Pro</th>\n",
       "      <th>Gols_Contra</th>\n",
       "      <th>Saldo_Gols</th>\n",
       "    </tr>\n",
       "  </thead>\n",
       "  <tbody>\n",
       "    <tr>\n",
       "      <th>0</th>\n",
       "      <td>Flamengo</td>\n",
       "      <td>10</td>\n",
       "      <td>5</td>\n",
       "      <td>3</td>\n",
       "      <td>2</td>\n",
       "      <td>20</td>\n",
       "      <td>10</td>\n",
       "      <td>10</td>\n",
       "    </tr>\n",
       "    <tr>\n",
       "      <th>1</th>\n",
       "      <td>Fluminense</td>\n",
       "      <td>10</td>\n",
       "      <td>3</td>\n",
       "      <td>4</td>\n",
       "      <td>3</td>\n",
       "      <td>15</td>\n",
       "      <td>12</td>\n",
       "      <td>3</td>\n",
       "    </tr>\n",
       "    <tr>\n",
       "      <th>2</th>\n",
       "      <td>Vasco</td>\n",
       "      <td>10</td>\n",
       "      <td>2</td>\n",
       "      <td>5</td>\n",
       "      <td>3</td>\n",
       "      <td>10</td>\n",
       "      <td>15</td>\n",
       "      <td>-5</td>\n",
       "    </tr>\n",
       "    <tr>\n",
       "      <th>3</th>\n",
       "      <td>Botafogo</td>\n",
       "      <td>10</td>\n",
       "      <td>4</td>\n",
       "      <td>2</td>\n",
       "      <td>4</td>\n",
       "      <td>12</td>\n",
       "      <td>10</td>\n",
       "      <td>2</td>\n",
       "    </tr>\n",
       "    <tr>\n",
       "      <th>4</th>\n",
       "      <td>Corinthians</td>\n",
       "      <td>10</td>\n",
       "      <td>6</td>\n",
       "      <td>2</td>\n",
       "      <td>2</td>\n",
       "      <td>25</td>\n",
       "      <td>8</td>\n",
       "      <td>17</td>\n",
       "    </tr>\n",
       "  </tbody>\n",
       "</table>\n",
       "</div>"
      ],
      "text/plain": [
       "          Time  Partidas_Jogadas  Vitorias  Empates  Derrotas  Gols_Pro  \\\n",
       "0     Flamengo                10         5        3         2        20   \n",
       "1   Fluminense                10         3        4         3        15   \n",
       "2        Vasco                10         2        5         3        10   \n",
       "3     Botafogo                10         4        2         4        12   \n",
       "4  Corinthians                10         6        2         2        25   \n",
       "\n",
       "   Gols_Contra  Saldo_Gols  \n",
       "0           10          10  \n",
       "1           12           3  \n",
       "2           15          -5  \n",
       "3           10           2  \n",
       "4            8          17  "
      ]
     },
     "execution_count": 6,
     "metadata": {},
     "output_type": "execute_result"
    }
   ],
   "source": [
    "df['Saldo_Gols'] = df['Gols_Pro'] - df['Gols_Contra']\n",
    "df"
   ]
  },
  {
   "cell_type": "code",
   "execution_count": 7,
   "id": "92f4c02f",
   "metadata": {},
   "outputs": [
    {
     "data": {
      "application/vnd.microsoft.datawrangler.viewer.v0+json": {
       "columns": [
        {
         "name": "index",
         "rawType": "int64",
         "type": "integer"
        },
        {
         "name": "Time",
         "rawType": "object",
         "type": "string"
        },
        {
         "name": "Partidas_Jogadas",
         "rawType": "int64",
         "type": "integer"
        },
        {
         "name": "Vitorias",
         "rawType": "int64",
         "type": "integer"
        },
        {
         "name": "Empates",
         "rawType": "int64",
         "type": "integer"
        },
        {
         "name": "Derrotas",
         "rawType": "int64",
         "type": "integer"
        },
        {
         "name": "Gols_Pro",
         "rawType": "int64",
         "type": "integer"
        },
        {
         "name": "Gols_Contra",
         "rawType": "int64",
         "type": "integer"
        },
        {
         "name": "Saldo_Gols",
         "rawType": "int64",
         "type": "integer"
        },
        {
         "name": "Pontos",
         "rawType": "int64",
         "type": "integer"
        }
       ],
       "conversionMethod": "pd.DataFrame",
       "ref": "d4e836da-9f70-4fe2-9e2f-bb0f6fabd892",
       "rows": [
        [
         "0",
         "Flamengo",
         "10",
         "5",
         "3",
         "2",
         "20",
         "10",
         "10",
         "18"
        ],
        [
         "1",
         "Fluminense",
         "10",
         "3",
         "4",
         "3",
         "15",
         "12",
         "3",
         "13"
        ],
        [
         "2",
         "Vasco",
         "10",
         "2",
         "5",
         "3",
         "10",
         "15",
         "-5",
         "11"
        ],
        [
         "3",
         "Botafogo",
         "10",
         "4",
         "2",
         "4",
         "12",
         "10",
         "2",
         "14"
        ],
        [
         "4",
         "Corinthians",
         "10",
         "6",
         "2",
         "2",
         "25",
         "8",
         "17",
         "20"
        ]
       ],
       "shape": {
        "columns": 9,
        "rows": 5
       }
      },
      "text/html": [
       "<div>\n",
       "<style scoped>\n",
       "    .dataframe tbody tr th:only-of-type {\n",
       "        vertical-align: middle;\n",
       "    }\n",
       "\n",
       "    .dataframe tbody tr th {\n",
       "        vertical-align: top;\n",
       "    }\n",
       "\n",
       "    .dataframe thead th {\n",
       "        text-align: right;\n",
       "    }\n",
       "</style>\n",
       "<table border=\"1\" class=\"dataframe\">\n",
       "  <thead>\n",
       "    <tr style=\"text-align: right;\">\n",
       "      <th></th>\n",
       "      <th>Time</th>\n",
       "      <th>Partidas_Jogadas</th>\n",
       "      <th>Vitorias</th>\n",
       "      <th>Empates</th>\n",
       "      <th>Derrotas</th>\n",
       "      <th>Gols_Pro</th>\n",
       "      <th>Gols_Contra</th>\n",
       "      <th>Saldo_Gols</th>\n",
       "      <th>Pontos</th>\n",
       "    </tr>\n",
       "  </thead>\n",
       "  <tbody>\n",
       "    <tr>\n",
       "      <th>0</th>\n",
       "      <td>Flamengo</td>\n",
       "      <td>10</td>\n",
       "      <td>5</td>\n",
       "      <td>3</td>\n",
       "      <td>2</td>\n",
       "      <td>20</td>\n",
       "      <td>10</td>\n",
       "      <td>10</td>\n",
       "      <td>18</td>\n",
       "    </tr>\n",
       "    <tr>\n",
       "      <th>1</th>\n",
       "      <td>Fluminense</td>\n",
       "      <td>10</td>\n",
       "      <td>3</td>\n",
       "      <td>4</td>\n",
       "      <td>3</td>\n",
       "      <td>15</td>\n",
       "      <td>12</td>\n",
       "      <td>3</td>\n",
       "      <td>13</td>\n",
       "    </tr>\n",
       "    <tr>\n",
       "      <th>2</th>\n",
       "      <td>Vasco</td>\n",
       "      <td>10</td>\n",
       "      <td>2</td>\n",
       "      <td>5</td>\n",
       "      <td>3</td>\n",
       "      <td>10</td>\n",
       "      <td>15</td>\n",
       "      <td>-5</td>\n",
       "      <td>11</td>\n",
       "    </tr>\n",
       "    <tr>\n",
       "      <th>3</th>\n",
       "      <td>Botafogo</td>\n",
       "      <td>10</td>\n",
       "      <td>4</td>\n",
       "      <td>2</td>\n",
       "      <td>4</td>\n",
       "      <td>12</td>\n",
       "      <td>10</td>\n",
       "      <td>2</td>\n",
       "      <td>14</td>\n",
       "    </tr>\n",
       "    <tr>\n",
       "      <th>4</th>\n",
       "      <td>Corinthians</td>\n",
       "      <td>10</td>\n",
       "      <td>6</td>\n",
       "      <td>2</td>\n",
       "      <td>2</td>\n",
       "      <td>25</td>\n",
       "      <td>8</td>\n",
       "      <td>17</td>\n",
       "      <td>20</td>\n",
       "    </tr>\n",
       "  </tbody>\n",
       "</table>\n",
       "</div>"
      ],
      "text/plain": [
       "          Time  Partidas_Jogadas  Vitorias  Empates  Derrotas  Gols_Pro  \\\n",
       "0     Flamengo                10         5        3         2        20   \n",
       "1   Fluminense                10         3        4         3        15   \n",
       "2        Vasco                10         2        5         3        10   \n",
       "3     Botafogo                10         4        2         4        12   \n",
       "4  Corinthians                10         6        2         2        25   \n",
       "\n",
       "   Gols_Contra  Saldo_Gols  Pontos  \n",
       "0           10          10      18  \n",
       "1           12           3      13  \n",
       "2           15          -5      11  \n",
       "3           10           2      14  \n",
       "4            8          17      20  "
      ]
     },
     "execution_count": 7,
     "metadata": {},
     "output_type": "execute_result"
    }
   ],
   "source": [
    "df['Pontos'] = (df['Vitorias'] * 3) + df['Empates'] * 1\n",
    "df"
   ]
  },
  {
   "cell_type": "code",
   "execution_count": 8,
   "id": "6d69fea7",
   "metadata": {},
   "outputs": [
    {
     "data": {
      "application/vnd.microsoft.datawrangler.viewer.v0+json": {
       "columns": [
        {
         "name": "index",
         "rawType": "int64",
         "type": "integer"
        },
        {
         "name": "Time",
         "rawType": "object",
         "type": "string"
        },
        {
         "name": "Partidas_Jogadas",
         "rawType": "int64",
         "type": "integer"
        },
        {
         "name": "Vitorias",
         "rawType": "int64",
         "type": "integer"
        },
        {
         "name": "Empates",
         "rawType": "int64",
         "type": "integer"
        },
        {
         "name": "Derrotas",
         "rawType": "int64",
         "type": "integer"
        },
        {
         "name": "Gols_Pro",
         "rawType": "int64",
         "type": "integer"
        },
        {
         "name": "Gols_Contra",
         "rawType": "int64",
         "type": "integer"
        },
        {
         "name": "Saldo_Gols",
         "rawType": "int64",
         "type": "integer"
        },
        {
         "name": "Pontos",
         "rawType": "int64",
         "type": "integer"
        }
       ],
       "conversionMethod": "pd.DataFrame",
       "ref": "82e3c093-74e3-4b78-9de1-ad3fe6b62640",
       "rows": [
        [
         "4",
         "Corinthians",
         "10",
         "6",
         "2",
         "2",
         "25",
         "8",
         "17",
         "20"
        ],
        [
         "0",
         "Flamengo",
         "10",
         "5",
         "3",
         "2",
         "20",
         "10",
         "10",
         "18"
        ],
        [
         "3",
         "Botafogo",
         "10",
         "4",
         "2",
         "4",
         "12",
         "10",
         "2",
         "14"
        ],
        [
         "1",
         "Fluminense",
         "10",
         "3",
         "4",
         "3",
         "15",
         "12",
         "3",
         "13"
        ],
        [
         "2",
         "Vasco",
         "10",
         "2",
         "5",
         "3",
         "10",
         "15",
         "-5",
         "11"
        ]
       ],
       "shape": {
        "columns": 9,
        "rows": 5
       }
      },
      "text/html": [
       "<div>\n",
       "<style scoped>\n",
       "    .dataframe tbody tr th:only-of-type {\n",
       "        vertical-align: middle;\n",
       "    }\n",
       "\n",
       "    .dataframe tbody tr th {\n",
       "        vertical-align: top;\n",
       "    }\n",
       "\n",
       "    .dataframe thead th {\n",
       "        text-align: right;\n",
       "    }\n",
       "</style>\n",
       "<table border=\"1\" class=\"dataframe\">\n",
       "  <thead>\n",
       "    <tr style=\"text-align: right;\">\n",
       "      <th></th>\n",
       "      <th>Time</th>\n",
       "      <th>Partidas_Jogadas</th>\n",
       "      <th>Vitorias</th>\n",
       "      <th>Empates</th>\n",
       "      <th>Derrotas</th>\n",
       "      <th>Gols_Pro</th>\n",
       "      <th>Gols_Contra</th>\n",
       "      <th>Saldo_Gols</th>\n",
       "      <th>Pontos</th>\n",
       "    </tr>\n",
       "  </thead>\n",
       "  <tbody>\n",
       "    <tr>\n",
       "      <th>4</th>\n",
       "      <td>Corinthians</td>\n",
       "      <td>10</td>\n",
       "      <td>6</td>\n",
       "      <td>2</td>\n",
       "      <td>2</td>\n",
       "      <td>25</td>\n",
       "      <td>8</td>\n",
       "      <td>17</td>\n",
       "      <td>20</td>\n",
       "    </tr>\n",
       "    <tr>\n",
       "      <th>0</th>\n",
       "      <td>Flamengo</td>\n",
       "      <td>10</td>\n",
       "      <td>5</td>\n",
       "      <td>3</td>\n",
       "      <td>2</td>\n",
       "      <td>20</td>\n",
       "      <td>10</td>\n",
       "      <td>10</td>\n",
       "      <td>18</td>\n",
       "    </tr>\n",
       "    <tr>\n",
       "      <th>3</th>\n",
       "      <td>Botafogo</td>\n",
       "      <td>10</td>\n",
       "      <td>4</td>\n",
       "      <td>2</td>\n",
       "      <td>4</td>\n",
       "      <td>12</td>\n",
       "      <td>10</td>\n",
       "      <td>2</td>\n",
       "      <td>14</td>\n",
       "    </tr>\n",
       "    <tr>\n",
       "      <th>1</th>\n",
       "      <td>Fluminense</td>\n",
       "      <td>10</td>\n",
       "      <td>3</td>\n",
       "      <td>4</td>\n",
       "      <td>3</td>\n",
       "      <td>15</td>\n",
       "      <td>12</td>\n",
       "      <td>3</td>\n",
       "      <td>13</td>\n",
       "    </tr>\n",
       "    <tr>\n",
       "      <th>2</th>\n",
       "      <td>Vasco</td>\n",
       "      <td>10</td>\n",
       "      <td>2</td>\n",
       "      <td>5</td>\n",
       "      <td>3</td>\n",
       "      <td>10</td>\n",
       "      <td>15</td>\n",
       "      <td>-5</td>\n",
       "      <td>11</td>\n",
       "    </tr>\n",
       "  </tbody>\n",
       "</table>\n",
       "</div>"
      ],
      "text/plain": [
       "          Time  Partidas_Jogadas  Vitorias  Empates  Derrotas  Gols_Pro  \\\n",
       "4  Corinthians                10         6        2         2        25   \n",
       "0     Flamengo                10         5        3         2        20   \n",
       "3     Botafogo                10         4        2         4        12   \n",
       "1   Fluminense                10         3        4         3        15   \n",
       "2        Vasco                10         2        5         3        10   \n",
       "\n",
       "   Gols_Contra  Saldo_Gols  Pontos  \n",
       "4            8          17      20  \n",
       "0           10          10      18  \n",
       "3           10           2      14  \n",
       "1           12           3      13  \n",
       "2           15          -5      11  "
      ]
     },
     "execution_count": 8,
     "metadata": {},
     "output_type": "execute_result"
    }
   ],
   "source": [
    "df = df.sort_values(by='Pontos', ascending=False)\n",
    "df"
   ]
  },
  {
   "cell_type": "code",
   "execution_count": 12,
   "id": "cf6dc693",
   "metadata": {},
   "outputs": [],
   "source": [
    "df.to_excel('classificacao_campeonato.xlsx', index=False)"
   ]
  }
 ],
 "metadata": {
  "kernelspec": {
   "display_name": ".venv",
   "language": "python",
   "name": "python3"
  },
  "language_info": {
   "codemirror_mode": {
    "name": "ipython",
    "version": 3
   },
   "file_extension": ".py",
   "mimetype": "text/x-python",
   "name": "python",
   "nbconvert_exporter": "python",
   "pygments_lexer": "ipython3",
   "version": "3.13.2"
  }
 },
 "nbformat": 4,
 "nbformat_minor": 5
}
