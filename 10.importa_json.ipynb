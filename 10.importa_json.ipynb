{
 "cells": [
  {
   "cell_type": "code",
   "execution_count": 4,
   "id": "0b310f22",
   "metadata": {},
   "outputs": [],
   "source": [
    "import pandas as pd"
   ]
  },
  {
   "cell_type": "code",
   "execution_count": 7,
   "id": "b0737b32",
   "metadata": {},
   "outputs": [
    {
     "data": {
      "application/vnd.microsoft.datawrangler.viewer.v0+json": {
       "columns": [
        {
         "name": "index",
         "rawType": "int64",
         "type": "integer"
        },
        {
         "name": "receita",
         "rawType": "object",
         "type": "unknown"
        }
       ],
       "conversionMethod": "pd.DataFrame",
       "ref": "027e1a02-2a9d-4f90-a1e4-c811f324dcf6",
       "rows": [
        [
         "0",
         "{'titulo': 'Bolo de Cenoura', 'tempo_preparo': 60, 'porcoes': 8, 'ingredientes': [{'ingrediente': 'Cenoura', 'quantidade': '2 unidades'}, {'ingrediente': 'Açúcar', 'quantidade': '2 xícaras'}, {'ingrediente': 'Farinha de trigo', 'quantidade': '2 xícaras'}, {'ingrediente': 'Ovo', 'quantidade': '3 unidades'}, {'ingrediente': 'Óleo', 'quantidade': '1 xícara'}, {'ingrediente': 'Fermento em pó', 'quantidade': '1 colher de sopa'}]}"
        ],
        [
         "1",
         "{'titulo': 'Pudim de Leite', 'tempo_preparo': 90, 'porcoes': 6, 'ingredientes': [{'ingrediente': 'Leite condensado', 'quantidade': '1 lata'}, {'ingrediente': 'Leite', 'quantidade': '2 latas'}, {'ingrediente': 'Ovo', 'quantidade': '3 unidades'}, {'ingrediente': 'Açúcar', 'quantidade': '1 xícara'}, {'ingrediente': 'Essência de baunilha', 'quantidade': 'a gosto'}]}"
        ],
        [
         "2",
         "{'titulo': 'Salada de Frutas', 'tempo_preparo': 15, 'porcoes': 4, 'ingredientes': [{'ingrediente': 'Maçã', 'quantidade': '1 unidade'}, {'ingrediente': 'Banana', 'quantidade': '2 unidades'}, {'ingrediente': 'Laranja', 'quantidade': '1 unidade'}, {'ingrediente': 'Uva', 'quantidade': '1 cacho'}, {'ingrediente': 'Mel', 'quantidade': 'a gosto'}]}"
        ]
       ],
       "shape": {
        "columns": 1,
        "rows": 3
       }
      },
      "text/html": [
       "<div>\n",
       "<style scoped>\n",
       "    .dataframe tbody tr th:only-of-type {\n",
       "        vertical-align: middle;\n",
       "    }\n",
       "\n",
       "    .dataframe tbody tr th {\n",
       "        vertical-align: top;\n",
       "    }\n",
       "\n",
       "    .dataframe thead th {\n",
       "        text-align: right;\n",
       "    }\n",
       "</style>\n",
       "<table border=\"1\" class=\"dataframe\">\n",
       "  <thead>\n",
       "    <tr style=\"text-align: right;\">\n",
       "      <th></th>\n",
       "      <th>receita</th>\n",
       "    </tr>\n",
       "  </thead>\n",
       "  <tbody>\n",
       "    <tr>\n",
       "      <th>0</th>\n",
       "      <td>{'titulo': 'Bolo de Cenoura', 'tempo_preparo':...</td>\n",
       "    </tr>\n",
       "    <tr>\n",
       "      <th>1</th>\n",
       "      <td>{'titulo': 'Pudim de Leite', 'tempo_preparo': ...</td>\n",
       "    </tr>\n",
       "    <tr>\n",
       "      <th>2</th>\n",
       "      <td>{'titulo': 'Salada de Frutas', 'tempo_preparo'...</td>\n",
       "    </tr>\n",
       "  </tbody>\n",
       "</table>\n",
       "</div>"
      ],
      "text/plain": [
       "                                             receita\n",
       "0  {'titulo': 'Bolo de Cenoura', 'tempo_preparo':...\n",
       "1  {'titulo': 'Pudim de Leite', 'tempo_preparo': ...\n",
       "2  {'titulo': 'Salada de Frutas', 'tempo_preparo'..."
      ]
     },
     "execution_count": 7,
     "metadata": {},
     "output_type": "execute_result"
    }
   ],
   "source": [
    "df = pd.read_json(\"dados/receitas.json\", encoding='utf-8')\n",
    "df"
   ]
  },
  {
   "cell_type": "code",
   "execution_count": 9,
   "id": "7c74da4e",
   "metadata": {},
   "outputs": [],
   "source": [
    "df_receitas = pd.json_normalize(\n",
    "    df['receita'],\n",
    "    'ingredientes',\n",
    "    ['titulo', 'tempo_preparo', 'porcoes'],\n",
    ")"
   ]
  },
  {
   "cell_type": "code",
   "execution_count": 10,
   "id": "c3dc7576",
   "metadata": {},
   "outputs": [
    {
     "data": {
      "application/vnd.microsoft.datawrangler.viewer.v0+json": {
       "columns": [
        {
         "name": "index",
         "rawType": "int64",
         "type": "integer"
        },
        {
         "name": "ingrediente",
         "rawType": "object",
         "type": "string"
        },
        {
         "name": "quantidade",
         "rawType": "object",
         "type": "string"
        },
        {
         "name": "titulo",
         "rawType": "object",
         "type": "string"
        },
        {
         "name": "tempo_preparo",
         "rawType": "object",
         "type": "unknown"
        },
        {
         "name": "porcoes",
         "rawType": "object",
         "type": "unknown"
        }
       ],
       "conversionMethod": "pd.DataFrame",
       "ref": "d69d5e74-8d13-4330-a460-475884034e21",
       "rows": [
        [
         "0",
         "Cenoura",
         "2 unidades",
         "Bolo de Cenoura",
         "60",
         "8"
        ],
        [
         "1",
         "Açúcar",
         "2 xícaras",
         "Bolo de Cenoura",
         "60",
         "8"
        ],
        [
         "2",
         "Farinha de trigo",
         "2 xícaras",
         "Bolo de Cenoura",
         "60",
         "8"
        ],
        [
         "3",
         "Ovo",
         "3 unidades",
         "Bolo de Cenoura",
         "60",
         "8"
        ],
        [
         "4",
         "Óleo",
         "1 xícara",
         "Bolo de Cenoura",
         "60",
         "8"
        ],
        [
         "5",
         "Fermento em pó",
         "1 colher de sopa",
         "Bolo de Cenoura",
         "60",
         "8"
        ],
        [
         "6",
         "Leite condensado",
         "1 lata",
         "Pudim de Leite",
         "90",
         "6"
        ],
        [
         "7",
         "Leite",
         "2 latas",
         "Pudim de Leite",
         "90",
         "6"
        ],
        [
         "8",
         "Ovo",
         "3 unidades",
         "Pudim de Leite",
         "90",
         "6"
        ],
        [
         "9",
         "Açúcar",
         "1 xícara",
         "Pudim de Leite",
         "90",
         "6"
        ],
        [
         "10",
         "Essência de baunilha",
         "a gosto",
         "Pudim de Leite",
         "90",
         "6"
        ],
        [
         "11",
         "Maçã",
         "1 unidade",
         "Salada de Frutas",
         "15",
         "4"
        ],
        [
         "12",
         "Banana",
         "2 unidades",
         "Salada de Frutas",
         "15",
         "4"
        ],
        [
         "13",
         "Laranja",
         "1 unidade",
         "Salada de Frutas",
         "15",
         "4"
        ],
        [
         "14",
         "Uva",
         "1 cacho",
         "Salada de Frutas",
         "15",
         "4"
        ],
        [
         "15",
         "Mel",
         "a gosto",
         "Salada de Frutas",
         "15",
         "4"
        ]
       ],
       "shape": {
        "columns": 5,
        "rows": 16
       }
      },
      "text/html": [
       "<div>\n",
       "<style scoped>\n",
       "    .dataframe tbody tr th:only-of-type {\n",
       "        vertical-align: middle;\n",
       "    }\n",
       "\n",
       "    .dataframe tbody tr th {\n",
       "        vertical-align: top;\n",
       "    }\n",
       "\n",
       "    .dataframe thead th {\n",
       "        text-align: right;\n",
       "    }\n",
       "</style>\n",
       "<table border=\"1\" class=\"dataframe\">\n",
       "  <thead>\n",
       "    <tr style=\"text-align: right;\">\n",
       "      <th></th>\n",
       "      <th>ingrediente</th>\n",
       "      <th>quantidade</th>\n",
       "      <th>titulo</th>\n",
       "      <th>tempo_preparo</th>\n",
       "      <th>porcoes</th>\n",
       "    </tr>\n",
       "  </thead>\n",
       "  <tbody>\n",
       "    <tr>\n",
       "      <th>0</th>\n",
       "      <td>Cenoura</td>\n",
       "      <td>2 unidades</td>\n",
       "      <td>Bolo de Cenoura</td>\n",
       "      <td>60</td>\n",
       "      <td>8</td>\n",
       "    </tr>\n",
       "    <tr>\n",
       "      <th>1</th>\n",
       "      <td>Açúcar</td>\n",
       "      <td>2 xícaras</td>\n",
       "      <td>Bolo de Cenoura</td>\n",
       "      <td>60</td>\n",
       "      <td>8</td>\n",
       "    </tr>\n",
       "    <tr>\n",
       "      <th>2</th>\n",
       "      <td>Farinha de trigo</td>\n",
       "      <td>2 xícaras</td>\n",
       "      <td>Bolo de Cenoura</td>\n",
       "      <td>60</td>\n",
       "      <td>8</td>\n",
       "    </tr>\n",
       "    <tr>\n",
       "      <th>3</th>\n",
       "      <td>Ovo</td>\n",
       "      <td>3 unidades</td>\n",
       "      <td>Bolo de Cenoura</td>\n",
       "      <td>60</td>\n",
       "      <td>8</td>\n",
       "    </tr>\n",
       "    <tr>\n",
       "      <th>4</th>\n",
       "      <td>Óleo</td>\n",
       "      <td>1 xícara</td>\n",
       "      <td>Bolo de Cenoura</td>\n",
       "      <td>60</td>\n",
       "      <td>8</td>\n",
       "    </tr>\n",
       "    <tr>\n",
       "      <th>5</th>\n",
       "      <td>Fermento em pó</td>\n",
       "      <td>1 colher de sopa</td>\n",
       "      <td>Bolo de Cenoura</td>\n",
       "      <td>60</td>\n",
       "      <td>8</td>\n",
       "    </tr>\n",
       "    <tr>\n",
       "      <th>6</th>\n",
       "      <td>Leite condensado</td>\n",
       "      <td>1 lata</td>\n",
       "      <td>Pudim de Leite</td>\n",
       "      <td>90</td>\n",
       "      <td>6</td>\n",
       "    </tr>\n",
       "    <tr>\n",
       "      <th>7</th>\n",
       "      <td>Leite</td>\n",
       "      <td>2 latas</td>\n",
       "      <td>Pudim de Leite</td>\n",
       "      <td>90</td>\n",
       "      <td>6</td>\n",
       "    </tr>\n",
       "    <tr>\n",
       "      <th>8</th>\n",
       "      <td>Ovo</td>\n",
       "      <td>3 unidades</td>\n",
       "      <td>Pudim de Leite</td>\n",
       "      <td>90</td>\n",
       "      <td>6</td>\n",
       "    </tr>\n",
       "    <tr>\n",
       "      <th>9</th>\n",
       "      <td>Açúcar</td>\n",
       "      <td>1 xícara</td>\n",
       "      <td>Pudim de Leite</td>\n",
       "      <td>90</td>\n",
       "      <td>6</td>\n",
       "    </tr>\n",
       "    <tr>\n",
       "      <th>10</th>\n",
       "      <td>Essência de baunilha</td>\n",
       "      <td>a gosto</td>\n",
       "      <td>Pudim de Leite</td>\n",
       "      <td>90</td>\n",
       "      <td>6</td>\n",
       "    </tr>\n",
       "    <tr>\n",
       "      <th>11</th>\n",
       "      <td>Maçã</td>\n",
       "      <td>1 unidade</td>\n",
       "      <td>Salada de Frutas</td>\n",
       "      <td>15</td>\n",
       "      <td>4</td>\n",
       "    </tr>\n",
       "    <tr>\n",
       "      <th>12</th>\n",
       "      <td>Banana</td>\n",
       "      <td>2 unidades</td>\n",
       "      <td>Salada de Frutas</td>\n",
       "      <td>15</td>\n",
       "      <td>4</td>\n",
       "    </tr>\n",
       "    <tr>\n",
       "      <th>13</th>\n",
       "      <td>Laranja</td>\n",
       "      <td>1 unidade</td>\n",
       "      <td>Salada de Frutas</td>\n",
       "      <td>15</td>\n",
       "      <td>4</td>\n",
       "    </tr>\n",
       "    <tr>\n",
       "      <th>14</th>\n",
       "      <td>Uva</td>\n",
       "      <td>1 cacho</td>\n",
       "      <td>Salada de Frutas</td>\n",
       "      <td>15</td>\n",
       "      <td>4</td>\n",
       "    </tr>\n",
       "    <tr>\n",
       "      <th>15</th>\n",
       "      <td>Mel</td>\n",
       "      <td>a gosto</td>\n",
       "      <td>Salada de Frutas</td>\n",
       "      <td>15</td>\n",
       "      <td>4</td>\n",
       "    </tr>\n",
       "  </tbody>\n",
       "</table>\n",
       "</div>"
      ],
      "text/plain": [
       "             ingrediente        quantidade            titulo tempo_preparo  \\\n",
       "0                Cenoura        2 unidades   Bolo de Cenoura            60   \n",
       "1                 Açúcar         2 xícaras   Bolo de Cenoura            60   \n",
       "2       Farinha de trigo         2 xícaras   Bolo de Cenoura            60   \n",
       "3                    Ovo        3 unidades   Bolo de Cenoura            60   \n",
       "4                   Óleo          1 xícara   Bolo de Cenoura            60   \n",
       "5         Fermento em pó  1 colher de sopa   Bolo de Cenoura            60   \n",
       "6       Leite condensado            1 lata    Pudim de Leite            90   \n",
       "7                  Leite           2 latas    Pudim de Leite            90   \n",
       "8                    Ovo        3 unidades    Pudim de Leite            90   \n",
       "9                 Açúcar          1 xícara    Pudim de Leite            90   \n",
       "10  Essência de baunilha           a gosto    Pudim de Leite            90   \n",
       "11                  Maçã         1 unidade  Salada de Frutas            15   \n",
       "12                Banana        2 unidades  Salada de Frutas            15   \n",
       "13               Laranja         1 unidade  Salada de Frutas            15   \n",
       "14                   Uva           1 cacho  Salada de Frutas            15   \n",
       "15                   Mel           a gosto  Salada de Frutas            15   \n",
       "\n",
       "   porcoes  \n",
       "0        8  \n",
       "1        8  \n",
       "2        8  \n",
       "3        8  \n",
       "4        8  \n",
       "5        8  \n",
       "6        6  \n",
       "7        6  \n",
       "8        6  \n",
       "9        6  \n",
       "10       6  \n",
       "11       4  \n",
       "12       4  \n",
       "13       4  \n",
       "14       4  \n",
       "15       4  "
      ]
     },
     "execution_count": 10,
     "metadata": {},
     "output_type": "execute_result"
    }
   ],
   "source": [
    "df_receitas"
   ]
  }
 ],
 "metadata": {
  "kernelspec": {
   "display_name": ".venv",
   "language": "python",
   "name": "python3"
  },
  "language_info": {
   "codemirror_mode": {
    "name": "ipython",
    "version": 3
   },
   "file_extension": ".py",
   "mimetype": "text/x-python",
   "name": "python",
   "nbconvert_exporter": "python",
   "pygments_lexer": "ipython3",
   "version": "3.13.2"
  }
 },
 "nbformat": 4,
 "nbformat_minor": 5
}
