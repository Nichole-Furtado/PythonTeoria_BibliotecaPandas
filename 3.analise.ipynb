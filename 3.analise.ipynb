{
 "cells": [
  {
   "cell_type": "code",
   "execution_count": 8,
   "id": "4f78796f",
   "metadata": {},
   "outputs": [],
   "source": [
    "import pandas as pd"
   ]
  },
  {
   "cell_type": "code",
   "execution_count": 9,
   "id": "a63375f1",
   "metadata": {},
   "outputs": [],
   "source": [
    "dados_vendas = {\n",
    "    'Produto': [ 'Camisa', 'Calça', 'Saia', 'Camisa', 'Calça', 'Saia', 'Camisa', 'Calça', 'Saia' ],\n",
    "    'Preço': [ 50, 80, 40, 55, 85, 45, 60, 90, 50 ],\n",
    "    'Quantidade': [ 10, 5, 8, 12, 6, 7, 15, 4, 9 ],\n",
    "    'Mês': [ 'Janeiro', 'Janeiro', 'Janeiro', 'Fevereiro', 'Fevereiro', 'Fevereiro', 'Março', 'Março', 'Março' ]\n",
    "}"
   ]
  },
  {
   "cell_type": "code",
   "execution_count": 10,
   "id": "fdef6467",
   "metadata": {},
   "outputs": [
    {
     "data": {
      "application/vnd.microsoft.datawrangler.viewer.v0+json": {
       "columns": [
        {
         "name": "index",
         "rawType": "int64",
         "type": "integer"
        },
        {
         "name": "Produto",
         "rawType": "object",
         "type": "string"
        },
        {
         "name": "Preço",
         "rawType": "int64",
         "type": "integer"
        },
        {
         "name": "Quantidade",
         "rawType": "int64",
         "type": "integer"
        },
        {
         "name": "Mês",
         "rawType": "object",
         "type": "string"
        }
       ],
       "conversionMethod": "pd.DataFrame",
       "ref": "fec5b9f8-4a30-4f65-860e-79b94787ac62",
       "rows": [
        [
         "0",
         "Camisa",
         "50",
         "10",
         "Janeiro"
        ],
        [
         "1",
         "Calça",
         "80",
         "5",
         "Janeiro"
        ],
        [
         "2",
         "Saia",
         "40",
         "8",
         "Janeiro"
        ],
        [
         "3",
         "Camisa",
         "55",
         "12",
         "Fevereiro"
        ],
        [
         "4",
         "Calça",
         "85",
         "6",
         "Fevereiro"
        ],
        [
         "5",
         "Saia",
         "45",
         "7",
         "Fevereiro"
        ],
        [
         "6",
         "Camisa",
         "60",
         "15",
         "Março"
        ],
        [
         "7",
         "Calça",
         "90",
         "4",
         "Março"
        ],
        [
         "8",
         "Saia",
         "50",
         "9",
         "Março"
        ]
       ],
       "shape": {
        "columns": 4,
        "rows": 9
       }
      },
      "text/html": [
       "<div>\n",
       "<style scoped>\n",
       "    .dataframe tbody tr th:only-of-type {\n",
       "        vertical-align: middle;\n",
       "    }\n",
       "\n",
       "    .dataframe tbody tr th {\n",
       "        vertical-align: top;\n",
       "    }\n",
       "\n",
       "    .dataframe thead th {\n",
       "        text-align: right;\n",
       "    }\n",
       "</style>\n",
       "<table border=\"1\" class=\"dataframe\">\n",
       "  <thead>\n",
       "    <tr style=\"text-align: right;\">\n",
       "      <th></th>\n",
       "      <th>Produto</th>\n",
       "      <th>Preço</th>\n",
       "      <th>Quantidade</th>\n",
       "      <th>Mês</th>\n",
       "    </tr>\n",
       "  </thead>\n",
       "  <tbody>\n",
       "    <tr>\n",
       "      <th>0</th>\n",
       "      <td>Camisa</td>\n",
       "      <td>50</td>\n",
       "      <td>10</td>\n",
       "      <td>Janeiro</td>\n",
       "    </tr>\n",
       "    <tr>\n",
       "      <th>1</th>\n",
       "      <td>Calça</td>\n",
       "      <td>80</td>\n",
       "      <td>5</td>\n",
       "      <td>Janeiro</td>\n",
       "    </tr>\n",
       "    <tr>\n",
       "      <th>2</th>\n",
       "      <td>Saia</td>\n",
       "      <td>40</td>\n",
       "      <td>8</td>\n",
       "      <td>Janeiro</td>\n",
       "    </tr>\n",
       "    <tr>\n",
       "      <th>3</th>\n",
       "      <td>Camisa</td>\n",
       "      <td>55</td>\n",
       "      <td>12</td>\n",
       "      <td>Fevereiro</td>\n",
       "    </tr>\n",
       "    <tr>\n",
       "      <th>4</th>\n",
       "      <td>Calça</td>\n",
       "      <td>85</td>\n",
       "      <td>6</td>\n",
       "      <td>Fevereiro</td>\n",
       "    </tr>\n",
       "    <tr>\n",
       "      <th>5</th>\n",
       "      <td>Saia</td>\n",
       "      <td>45</td>\n",
       "      <td>7</td>\n",
       "      <td>Fevereiro</td>\n",
       "    </tr>\n",
       "    <tr>\n",
       "      <th>6</th>\n",
       "      <td>Camisa</td>\n",
       "      <td>60</td>\n",
       "      <td>15</td>\n",
       "      <td>Março</td>\n",
       "    </tr>\n",
       "    <tr>\n",
       "      <th>7</th>\n",
       "      <td>Calça</td>\n",
       "      <td>90</td>\n",
       "      <td>4</td>\n",
       "      <td>Março</td>\n",
       "    </tr>\n",
       "    <tr>\n",
       "      <th>8</th>\n",
       "      <td>Saia</td>\n",
       "      <td>50</td>\n",
       "      <td>9</td>\n",
       "      <td>Março</td>\n",
       "    </tr>\n",
       "  </tbody>\n",
       "</table>\n",
       "</div>"
      ],
      "text/plain": [
       "  Produto  Preço  Quantidade        Mês\n",
       "0  Camisa     50          10    Janeiro\n",
       "1   Calça     80           5    Janeiro\n",
       "2    Saia     40           8    Janeiro\n",
       "3  Camisa     55          12  Fevereiro\n",
       "4   Calça     85           6  Fevereiro\n",
       "5    Saia     45           7  Fevereiro\n",
       "6  Camisa     60          15      Março\n",
       "7   Calça     90           4      Março\n",
       "8    Saia     50           9      Março"
      ]
     },
     "execution_count": 10,
     "metadata": {},
     "output_type": "execute_result"
    }
   ],
   "source": [
    "df_vendas = pd.DataFrame(dados_vendas)\n",
    "df_vendas"
   ]
  },
  {
   "cell_type": "code",
   "execution_count": 11,
   "id": "c1e89a7c",
   "metadata": {},
   "outputs": [
    {
     "data": {
      "application/vnd.microsoft.datawrangler.viewer.v0+json": {
       "columns": [
        {
         "name": "index",
         "rawType": "int64",
         "type": "integer"
        },
        {
         "name": "Produto",
         "rawType": "object",
         "type": "string"
        },
        {
         "name": "Preço",
         "rawType": "int64",
         "type": "integer"
        },
        {
         "name": "Quantidade",
         "rawType": "int64",
         "type": "integer"
        },
        {
         "name": "Mês",
         "rawType": "object",
         "type": "string"
        },
        {
         "name": "Receita",
         "rawType": "int64",
         "type": "integer"
        }
       ],
       "conversionMethod": "pd.DataFrame",
       "ref": "a42f4ce3-edcd-4a00-a438-f6a0d533c8a1",
       "rows": [
        [
         "0",
         "Camisa",
         "50",
         "10",
         "Janeiro",
         "500"
        ],
        [
         "1",
         "Calça",
         "80",
         "5",
         "Janeiro",
         "400"
        ],
        [
         "2",
         "Saia",
         "40",
         "8",
         "Janeiro",
         "320"
        ],
        [
         "3",
         "Camisa",
         "55",
         "12",
         "Fevereiro",
         "660"
        ],
        [
         "4",
         "Calça",
         "85",
         "6",
         "Fevereiro",
         "510"
        ],
        [
         "5",
         "Saia",
         "45",
         "7",
         "Fevereiro",
         "315"
        ],
        [
         "6",
         "Camisa",
         "60",
         "15",
         "Março",
         "900"
        ],
        [
         "7",
         "Calça",
         "90",
         "4",
         "Março",
         "360"
        ],
        [
         "8",
         "Saia",
         "50",
         "9",
         "Março",
         "450"
        ]
       ],
       "shape": {
        "columns": 5,
        "rows": 9
       }
      },
      "text/html": [
       "<div>\n",
       "<style scoped>\n",
       "    .dataframe tbody tr th:only-of-type {\n",
       "        vertical-align: middle;\n",
       "    }\n",
       "\n",
       "    .dataframe tbody tr th {\n",
       "        vertical-align: top;\n",
       "    }\n",
       "\n",
       "    .dataframe thead th {\n",
       "        text-align: right;\n",
       "    }\n",
       "</style>\n",
       "<table border=\"1\" class=\"dataframe\">\n",
       "  <thead>\n",
       "    <tr style=\"text-align: right;\">\n",
       "      <th></th>\n",
       "      <th>Produto</th>\n",
       "      <th>Preço</th>\n",
       "      <th>Quantidade</th>\n",
       "      <th>Mês</th>\n",
       "      <th>Receita</th>\n",
       "    </tr>\n",
       "  </thead>\n",
       "  <tbody>\n",
       "    <tr>\n",
       "      <th>0</th>\n",
       "      <td>Camisa</td>\n",
       "      <td>50</td>\n",
       "      <td>10</td>\n",
       "      <td>Janeiro</td>\n",
       "      <td>500</td>\n",
       "    </tr>\n",
       "    <tr>\n",
       "      <th>1</th>\n",
       "      <td>Calça</td>\n",
       "      <td>80</td>\n",
       "      <td>5</td>\n",
       "      <td>Janeiro</td>\n",
       "      <td>400</td>\n",
       "    </tr>\n",
       "    <tr>\n",
       "      <th>2</th>\n",
       "      <td>Saia</td>\n",
       "      <td>40</td>\n",
       "      <td>8</td>\n",
       "      <td>Janeiro</td>\n",
       "      <td>320</td>\n",
       "    </tr>\n",
       "    <tr>\n",
       "      <th>3</th>\n",
       "      <td>Camisa</td>\n",
       "      <td>55</td>\n",
       "      <td>12</td>\n",
       "      <td>Fevereiro</td>\n",
       "      <td>660</td>\n",
       "    </tr>\n",
       "    <tr>\n",
       "      <th>4</th>\n",
       "      <td>Calça</td>\n",
       "      <td>85</td>\n",
       "      <td>6</td>\n",
       "      <td>Fevereiro</td>\n",
       "      <td>510</td>\n",
       "    </tr>\n",
       "    <tr>\n",
       "      <th>5</th>\n",
       "      <td>Saia</td>\n",
       "      <td>45</td>\n",
       "      <td>7</td>\n",
       "      <td>Fevereiro</td>\n",
       "      <td>315</td>\n",
       "    </tr>\n",
       "    <tr>\n",
       "      <th>6</th>\n",
       "      <td>Camisa</td>\n",
       "      <td>60</td>\n",
       "      <td>15</td>\n",
       "      <td>Março</td>\n",
       "      <td>900</td>\n",
       "    </tr>\n",
       "    <tr>\n",
       "      <th>7</th>\n",
       "      <td>Calça</td>\n",
       "      <td>90</td>\n",
       "      <td>4</td>\n",
       "      <td>Março</td>\n",
       "      <td>360</td>\n",
       "    </tr>\n",
       "    <tr>\n",
       "      <th>8</th>\n",
       "      <td>Saia</td>\n",
       "      <td>50</td>\n",
       "      <td>9</td>\n",
       "      <td>Março</td>\n",
       "      <td>450</td>\n",
       "    </tr>\n",
       "  </tbody>\n",
       "</table>\n",
       "</div>"
      ],
      "text/plain": [
       "  Produto  Preço  Quantidade        Mês  Receita\n",
       "0  Camisa     50          10    Janeiro      500\n",
       "1   Calça     80           5    Janeiro      400\n",
       "2    Saia     40           8    Janeiro      320\n",
       "3  Camisa     55          12  Fevereiro      660\n",
       "4   Calça     85           6  Fevereiro      510\n",
       "5    Saia     45           7  Fevereiro      315\n",
       "6  Camisa     60          15      Março      900\n",
       "7   Calça     90           4      Março      360\n",
       "8    Saia     50           9      Março      450"
      ]
     },
     "execution_count": 11,
     "metadata": {},
     "output_type": "execute_result"
    }
   ],
   "source": [
    "#Valor do preço *valor da quantidade\n",
    "df_vendas ['Receita'] = df_vendas['Preço'] * df_vendas['Quantidade']\n",
    "df_vendas"
   ]
  },
  {
   "cell_type": "code",
   "execution_count": 12,
   "id": "a8da05ba",
   "metadata": {},
   "outputs": [
    {
     "data": {
      "application/vnd.microsoft.datawrangler.viewer.v0+json": {
       "columns": [
        {
         "name": "index",
         "rawType": "int64",
         "type": "integer"
        },
        {
         "name": "Produto",
         "rawType": "object",
         "type": "string"
        },
        {
         "name": "Receita",
         "rawType": "int64",
         "type": "integer"
        }
       ],
       "conversionMethod": "pd.DataFrame",
       "ref": "63c8a6bd-3d4b-4cab-805b-e824e3127c4b",
       "rows": [
        [
         "0",
         "Calça",
         "1270"
        ],
        [
         "1",
         "Camisa",
         "2060"
        ],
        [
         "2",
         "Saia",
         "1085"
        ]
       ],
       "shape": {
        "columns": 2,
        "rows": 3
       }
      },
      "text/html": [
       "<div>\n",
       "<style scoped>\n",
       "    .dataframe tbody tr th:only-of-type {\n",
       "        vertical-align: middle;\n",
       "    }\n",
       "\n",
       "    .dataframe tbody tr th {\n",
       "        vertical-align: top;\n",
       "    }\n",
       "\n",
       "    .dataframe thead th {\n",
       "        text-align: right;\n",
       "    }\n",
       "</style>\n",
       "<table border=\"1\" class=\"dataframe\">\n",
       "  <thead>\n",
       "    <tr style=\"text-align: right;\">\n",
       "      <th></th>\n",
       "      <th>Produto</th>\n",
       "      <th>Receita</th>\n",
       "    </tr>\n",
       "  </thead>\n",
       "  <tbody>\n",
       "    <tr>\n",
       "      <th>0</th>\n",
       "      <td>Calça</td>\n",
       "      <td>1270</td>\n",
       "    </tr>\n",
       "    <tr>\n",
       "      <th>1</th>\n",
       "      <td>Camisa</td>\n",
       "      <td>2060</td>\n",
       "    </tr>\n",
       "    <tr>\n",
       "      <th>2</th>\n",
       "      <td>Saia</td>\n",
       "      <td>1085</td>\n",
       "    </tr>\n",
       "  </tbody>\n",
       "</table>\n",
       "</div>"
      ],
      "text/plain": [
       "  Produto  Receita\n",
       "0   Calça     1270\n",
       "1  Camisa     2060\n",
       "2    Saia     1085"
      ]
     },
     "execution_count": 12,
     "metadata": {},
     "output_type": "execute_result"
    }
   ],
   "source": [
    "#Calculando a Receita total por produto # groupby agrupa os dados por produto e soma as receitas\n",
    "resumo_vendas = df_vendas.groupby('Produto')['Receita'].sum().reset_index()\n",
    "resumo_vendas"
   ]
  },
  {
   "cell_type": "code",
   "execution_count": 13,
   "id": "eca16b8a",
   "metadata": {},
   "outputs": [
    {
     "data": {
      "application/vnd.microsoft.datawrangler.viewer.v0+json": {
       "columns": [
        {
         "name": "index",
         "rawType": "int64",
         "type": "integer"
        },
        {
         "name": "Produto",
         "rawType": "object",
         "type": "string"
        },
        {
         "name": "Receita",
         "rawType": "int64",
         "type": "integer"
        }
       ],
       "conversionMethod": "pd.DataFrame",
       "ref": "48c0fdda-f649-4e44-9a75-1fdda40d626d",
       "rows": [
        [
         "0",
         "Calça",
         "1270"
        ],
        [
         "1",
         "Camisa",
         "2060"
        ],
        [
         "2",
         "Saia",
         "1085"
        ]
       ],
       "shape": {
        "columns": 2,
        "rows": 3
       }
      },
      "text/html": [
       "<div>\n",
       "<style scoped>\n",
       "    .dataframe tbody tr th:only-of-type {\n",
       "        vertical-align: middle;\n",
       "    }\n",
       "\n",
       "    .dataframe tbody tr th {\n",
       "        vertical-align: top;\n",
       "    }\n",
       "\n",
       "    .dataframe thead th {\n",
       "        text-align: right;\n",
       "    }\n",
       "</style>\n",
       "<table border=\"1\" class=\"dataframe\">\n",
       "  <thead>\n",
       "    <tr style=\"text-align: right;\">\n",
       "      <th></th>\n",
       "      <th>Produto</th>\n",
       "      <th>Receita</th>\n",
       "    </tr>\n",
       "  </thead>\n",
       "  <tbody>\n",
       "    <tr>\n",
       "      <th>0</th>\n",
       "      <td>Calça</td>\n",
       "      <td>1270</td>\n",
       "    </tr>\n",
       "    <tr>\n",
       "      <th>1</th>\n",
       "      <td>Camisa</td>\n",
       "      <td>2060</td>\n",
       "    </tr>\n",
       "    <tr>\n",
       "      <th>2</th>\n",
       "      <td>Saia</td>\n",
       "      <td>1085</td>\n",
       "    </tr>\n",
       "  </tbody>\n",
       "</table>\n",
       "</div>"
      ],
      "text/plain": [
       "  Produto  Receita\n",
       "0   Calça     1270\n",
       "1  Camisa     2060\n",
       "2    Saia     1085"
      ]
     },
     "execution_count": 13,
     "metadata": {},
     "output_type": "execute_result"
    }
   ],
   "source": [
    "# Filtrando produtos com receita maior que 1000\n",
    "produtos_acima_100 = resumo_vendas[resumo_vendas['Receita'] > 1000]\n",
    "produtos_acima_100"
   ]
  },
  {
   "cell_type": "code",
   "execution_count": 14,
   "id": "6bd40ce3",
   "metadata": {},
   "outputs": [],
   "source": [
    "import matplotlib.pyplot as plt\n"
   ]
  },
  {
   "cell_type": "code",
   "execution_count": 20,
   "id": "da44cbbd",
   "metadata": {},
   "outputs": [
    {
     "data": {
      "text/plain": [
       "([0, 1, 2], [Text(0, 0, 'Calça'), Text(1, 0, 'Camisa'), Text(2, 0, 'Saia')])"
      ]
     },
     "execution_count": 20,
     "metadata": {},
     "output_type": "execute_result"
    },
    {
     "data": {
      "image/png": "[encoded data removed]",
      "text/plain": [
       "<Figure size 800x500 with 1 Axes>"
      ]
     },
     "metadata": {},
     "output_type": "display_data"
    }
   ],
   "source": [
    "plt.figure(figsize=(8, 5))\n",
    "plt.bar(resumo_vendas['Produto'], resumo_vendas['Receita'], color='skyblue')\n",
    "plt.title('Receita Total por Produto')\n",
    "plt.xlabel('Produto')\n",
    "plt.ylabel('Receita')\n",
    "plt.xticks(rotation=45)"
   ]
  },
  {
   "cell_type": "code",
   "execution_count": 16,
   "id": "71c834c1",
   "metadata": {},
   "outputs": [
    {
     "name": "stdout",
     "output_type": "stream",
     "text": [
      "n:\\Praticas Python\\Aula Udemy Teste\\Udemy\\Pandas\\.venv\\Scripts\\python.exe\n"
     ]
    }
   ],
   "source": [
    "import sys\n",
    "print(sys.executable)\n"
   ]
  },
  {
   "cell_type": "code",
   "execution_count": null,
   "id": "51d42d47",
   "metadata": {},
   "outputs": [],
   "source": []
  }
 ],
 "metadata": {
  "kernelspec": {
   "display_name": ".venv",
   "language": "python",
   "name": "python3"
  },
  "language_info": {
   "codemirror_mode": {
    "name": "ipython",
    "version": 3
   },
   "file_extension": ".py",
   "mimetype": "text/x-python",
   "name": "python",
   "nbconvert_exporter": "python",
   "pygments_lexer": "ipython3",
   "version": "3.13.2"
  }
 },
 "nbformat": 4,
 "nbformat_minor": 5
}
