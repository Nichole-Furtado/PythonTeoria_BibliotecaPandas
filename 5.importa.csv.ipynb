{
 "cells": [
  {
   "cell_type": "code",
   "execution_count": 20,
   "id": "b066deb1",
   "metadata": {},
   "outputs": [],
   "source": [
    "import pandas as pd"
   ]
  },
  {
   "cell_type": "code",
   "execution_count": 21,
   "metadata": {},
   "outputs": [
    {
     "data": {
      "application/vnd.microsoft.datawrangler.viewer.v0+json": {
       "columns": [
        {
         "name": "index",
         "rawType": "int64",
         "type": "integer"
        },
        {
         "name": "Produto",
         "rawType": "object",
         "type": "string"
        },
        {
         "name": "Categoria",
         "rawType": "object",
         "type": "string"
        },
        {
         "name": "Preço",
         "rawType": "float64",
         "type": "float"
        },
        {
         "name": "Quantidade",
         "rawType": "int64",
         "type": "integer"
        },
        {
         "name": "Data_Venda",
         "rawType": "object",
         "type": "string"
        }
       ],
       "conversionMethod": "pd.DataFrame",
       "ref": "3ab0d4f4-f251-42a4-a645-2dda39deafa4",
       "rows": [
        [
         "0",
         "Camisa",
         "Roupas",
         "50.0",
         "10",
         "01/01/2023"
        ],
        [
         "1",
         "Calça",
         "Roupas",
         "100.0",
         "15",
         "02/01/2023"
        ],
        [
         "2",
         "Saia",
         "Roupas",
         "80.0",
         "20",
         "03/01/2023"
        ],
        [
         "3",
         "Camiseta",
         "Roupas",
         "45.0",
         "30",
         "04/01/2023"
        ],
        [
         "4",
         "Jaqueta",
         "Roupas",
         "120.0",
         "5",
         "05/01/2023"
        ],
        [
         "5",
         "Vestido",
         "Roupas",
         "90.0",
         "12",
         "06/01/2023"
        ],
        [
         "6",
         "Bermuda",
         "Roupas",
         "60.0",
         "18",
         "07/01/2023"
        ],
        [
         "7",
         "Sapato",
         "Calçados",
         "150.0",
         "7",
         "08/01/2023"
        ],
        [
         "8",
         "Sandália",
         "Calçados",
         "70.0",
         "25",
         "09/01/2023"
        ],
        [
         "9",
         "Tênis",
         "Calçados",
         "200.0",
         "8",
         "10/01/2023"
        ],
        [
         "10",
         "Botas",
         "Calçados",
         "180.0",
         "6",
         "11/01/2023"
        ],
        [
         "11",
         "Mochila",
         "Acessórios",
         "70.0",
         "15",
         "12/01/2023"
        ],
        [
         "12",
         "Cinto",
         "Acessórios",
         "40.0",
         "22",
         "13/01/2023"
        ],
        [
         "13",
         "Óculos",
         "Acessórios",
         "120.0",
         "10",
         "14/01/2023"
        ],
        [
         "14",
         "Relógio",
         "Acessórios",
         "250.0",
         "4",
         "15/01/2023"
        ],
        [
         "15",
         "Brinco",
         "Acessórios",
         "35.0",
         "30",
         "16/01/2023"
        ],
        [
         "16",
         "Blusa",
         "Roupas",
         "55.0",
         "14",
         "17/01/2023"
        ],
        [
         "17",
         "Shorts",
         "Roupas",
         "65.0",
         "19",
         "18/01/2023"
        ],
        [
         "18",
         "Suéter",
         "Roupas",
         "95.0",
         "9",
         "19/01/2023"
        ],
        [
         "19",
         "Saia longa",
         "Roupas",
         "75.0",
         "11",
         "20/01/2023"
        ]
       ],
       "shape": {
        "columns": 5,
        "rows": 20
       }
      },
      "text/html": [
       "<div>\n",
       "<style scoped>\n",
       "    .dataframe tbody tr th:only-of-type {\n",
       "        vertical-align: middle;\n",
       "    }\n",
       "\n",
       "    .dataframe tbody tr th {\n",
       "        vertical-align: top;\n",
       "    }\n",
       "\n",
       "    .dataframe thead th {\n",
       "        text-align: right;\n",
       "    }\n",
       "</style>\n",
       "<table border=\"1\" class=\"dataframe\">\n",
       "  <thead>\n",
       "    <tr style=\"text-align: right;\">\n",
       "      <th></th>\n",
       "      <th>Produto</th>\n",
       "      <th>Categoria</th>\n",
       "      <th>Preço</th>\n",
       "      <th>Quantidade</th>\n",
       "      <th>Data_Venda</th>\n",
       "    </tr>\n",
       "  </thead>\n",
       "  <tbody>\n",
       "    <tr>\n",
       "      <th>0</th>\n",
       "      <td>Camisa</td>\n",
       "      <td>Roupas</td>\n",
       "      <td>50.0</td>\n",
       "      <td>10</td>\n",
       "      <td>01/01/2023</td>\n",
       "    </tr>\n",
       "    <tr>\n",
       "      <th>1</th>\n",
       "      <td>Calça</td>\n",
       "      <td>Roupas</td>\n",
       "      <td>100.0</td>\n",
       "      <td>15</td>\n",
       "      <td>02/01/2023</td>\n",
       "    </tr>\n",
       "    <tr>\n",
       "      <th>2</th>\n",
       "      <td>Saia</td>\n",
       "      <td>Roupas</td>\n",
       "      <td>80.0</td>\n",
       "      <td>20</td>\n",
       "      <td>03/01/2023</td>\n",
       "    </tr>\n",
       "    <tr>\n",
       "      <th>3</th>\n",
       "      <td>Camiseta</td>\n",
       "      <td>Roupas</td>\n",
       "      <td>45.0</td>\n",
       "      <td>30</td>\n",
       "      <td>04/01/2023</td>\n",
       "    </tr>\n",
       "    <tr>\n",
       "      <th>4</th>\n",
       "      <td>Jaqueta</td>\n",
       "      <td>Roupas</td>\n",
       "      <td>120.0</td>\n",
       "      <td>5</td>\n",
       "      <td>05/01/2023</td>\n",
       "    </tr>\n",
       "    <tr>\n",
       "      <th>5</th>\n",
       "      <td>Vestido</td>\n",
       "      <td>Roupas</td>\n",
       "      <td>90.0</td>\n",
       "      <td>12</td>\n",
       "      <td>06/01/2023</td>\n",
       "    </tr>\n",
       "    <tr>\n",
       "      <th>6</th>\n",
       "      <td>Bermuda</td>\n",
       "      <td>Roupas</td>\n",
       "      <td>60.0</td>\n",
       "      <td>18</td>\n",
       "      <td>07/01/2023</td>\n",
       "    </tr>\n",
       "    <tr>\n",
       "      <th>7</th>\n",
       "      <td>Sapato</td>\n",
       "      <td>Calçados</td>\n",
       "      <td>150.0</td>\n",
       "      <td>7</td>\n",
       "      <td>08/01/2023</td>\n",
       "    </tr>\n",
       "    <tr>\n",
       "      <th>8</th>\n",
       "      <td>Sandália</td>\n",
       "      <td>Calçados</td>\n",
       "      <td>70.0</td>\n",
       "      <td>25</td>\n",
       "      <td>09/01/2023</td>\n",
       "    </tr>\n",
       "    <tr>\n",
       "      <th>9</th>\n",
       "      <td>Tênis</td>\n",
       "      <td>Calçados</td>\n",
       "      <td>200.0</td>\n",
       "      <td>8</td>\n",
       "      <td>10/01/2023</td>\n",
       "    </tr>\n",
       "    <tr>\n",
       "      <th>10</th>\n",
       "      <td>Botas</td>\n",
       "      <td>Calçados</td>\n",
       "      <td>180.0</td>\n",
       "      <td>6</td>\n",
       "      <td>11/01/2023</td>\n",
       "    </tr>\n",
       "    <tr>\n",
       "      <th>11</th>\n",
       "      <td>Mochila</td>\n",
       "      <td>Acessórios</td>\n",
       "      <td>70.0</td>\n",
       "      <td>15</td>\n",
       "      <td>12/01/2023</td>\n",
       "    </tr>\n",
       "    <tr>\n",
       "      <th>12</th>\n",
       "      <td>Cinto</td>\n",
       "      <td>Acessórios</td>\n",
       "      <td>40.0</td>\n",
       "      <td>22</td>\n",
       "      <td>13/01/2023</td>\n",
       "    </tr>\n",
       "    <tr>\n",
       "      <th>13</th>\n",
       "      <td>Óculos</td>\n",
       "      <td>Acessórios</td>\n",
       "      <td>120.0</td>\n",
       "      <td>10</td>\n",
       "      <td>14/01/2023</td>\n",
       "    </tr>\n",
       "    <tr>\n",
       "      <th>14</th>\n",
       "      <td>Relógio</td>\n",
       "      <td>Acessórios</td>\n",
       "      <td>250.0</td>\n",
       "      <td>4</td>\n",
       "      <td>15/01/2023</td>\n",
       "    </tr>\n",
       "    <tr>\n",
       "      <th>15</th>\n",
       "      <td>Brinco</td>\n",
       "      <td>Acessórios</td>\n",
       "      <td>35.0</td>\n",
       "      <td>30</td>\n",
       "      <td>16/01/2023</td>\n",
       "    </tr>\n",
       "    <tr>\n",
       "      <th>16</th>\n",
       "      <td>Blusa</td>\n",
       "      <td>Roupas</td>\n",
       "      <td>55.0</td>\n",
       "      <td>14</td>\n",
       "      <td>17/01/2023</td>\n",
       "    </tr>\n",
       "    <tr>\n",
       "      <th>17</th>\n",
       "      <td>Shorts</td>\n",
       "      <td>Roupas</td>\n",
       "      <td>65.0</td>\n",
       "      <td>19</td>\n",
       "      <td>18/01/2023</td>\n",
       "    </tr>\n",
       "    <tr>\n",
       "      <th>18</th>\n",
       "      <td>Suéter</td>\n",
       "      <td>Roupas</td>\n",
       "      <td>95.0</td>\n",
       "      <td>9</td>\n",
       "      <td>19/01/2023</td>\n",
       "    </tr>\n",
       "    <tr>\n",
       "      <th>19</th>\n",
       "      <td>Saia longa</td>\n",
       "      <td>Roupas</td>\n",
       "      <td>75.0</td>\n",
       "      <td>11</td>\n",
       "      <td>20/01/2023</td>\n",
       "    </tr>\n",
       "  </tbody>\n",
       "</table>\n",
       "</div>"
      ],
      "text/plain": [
       "       Produto   Categoria  Preço  Quantidade  Data_Venda\n",
       "0       Camisa      Roupas   50.0          10  01/01/2023\n",
       "1        Calça      Roupas  100.0          15  02/01/2023\n",
       "2         Saia      Roupas   80.0          20  03/01/2023\n",
       "3     Camiseta      Roupas   45.0          30  04/01/2023\n",
       "4      Jaqueta      Roupas  120.0           5  05/01/2023\n",
       "5      Vestido      Roupas   90.0          12  06/01/2023\n",
       "6      Bermuda      Roupas   60.0          18  07/01/2023\n",
       "7       Sapato    Calçados  150.0           7  08/01/2023\n",
       "8     Sandália    Calçados   70.0          25  09/01/2023\n",
       "9        Tênis    Calçados  200.0           8  10/01/2023\n",
       "10       Botas    Calçados  180.0           6  11/01/2023\n",
       "11     Mochila  Acessórios   70.0          15  12/01/2023\n",
       "12       Cinto  Acessórios   40.0          22  13/01/2023\n",
       "13      Óculos  Acessórios  120.0          10  14/01/2023\n",
       "14     Relógio  Acessórios  250.0           4  15/01/2023\n",
       "15      Brinco  Acessórios   35.0          30  16/01/2023\n",
       "16       Blusa      Roupas   55.0          14  17/01/2023\n",
       "17      Shorts      Roupas   65.0          19  18/01/2023\n",
       "18      Suéter      Roupas   95.0           9  19/01/2023\n",
       "19  Saia longa      Roupas   75.0          11  20/01/2023"
      ]
     },
     "execution_count": 21,
     "metadata": {},
     "output_type": "execute_result"
    }
   ],
   "source": [
    "df_produtos = pd.read_csv(\"dados/dados.csv\", sep=\";\")\n",
    "df_produtos"
   ]
  },
  {
   "cell_type": "code",
   "execution_count": 22,
   "metadata": {},
   "outputs": [
    {
     "data": {
      "application/vnd.microsoft.datawrangler.viewer.v0+json": {
       "columns": [
        {
         "name": "index",
         "rawType": "int64",
         "type": "integer"
        },
        {
         "name": "Produto",
         "rawType": "object",
         "type": "string"
        },
        {
         "name": "Categoria",
         "rawType": "object",
         "type": "string"
        },
        {
         "name": "Preço",
         "rawType": "float64",
         "type": "float"
        },
        {
         "name": "Quantidade",
         "rawType": "int64",
         "type": "integer"
        },
        {
         "name": "Data_Venda",
         "rawType": "object",
         "type": "string"
        }
       ],
       "conversionMethod": "pd.DataFrame",
       "ref": "6d5ac2ea-5613-40dc-b034-61eb65a304f6",
       "rows": [
        [
         "0",
         "Camisa",
         "Roupas",
         "50.0",
         "10",
         "01/01/2023"
        ],
        [
         "1",
         "Calça",
         "Roupas",
         "100.0",
         "15",
         "02/01/2023"
        ],
        [
         "2",
         "Saia",
         "Roupas",
         "80.0",
         "20",
         "03/01/2023"
        ],
        [
         "3",
         "Camiseta",
         "Roupas",
         "45.0",
         "30",
         "04/01/2023"
        ],
        [
         "4",
         "Jaqueta",
         "Roupas",
         "120.0",
         "5",
         "05/01/2023"
        ],
        [
         "5",
         "Vestido",
         "Roupas",
         "90.0",
         "12",
         "06/01/2023"
        ],
        [
         "6",
         "Bermuda",
         "Roupas",
         "60.0",
         "18",
         "07/01/2023"
        ],
        [
         "7",
         "Sapato",
         "Calçados",
         "150.0",
         "7",
         "08/01/2023"
        ]
       ],
       "shape": {
        "columns": 5,
        "rows": 8
       }
      },
      "text/html": [
       "<div>\n",
       "<style scoped>\n",
       "    .dataframe tbody tr th:only-of-type {\n",
       "        vertical-align: middle;\n",
       "    }\n",
       "\n",
       "    .dataframe tbody tr th {\n",
       "        vertical-align: top;\n",
       "    }\n",
       "\n",
       "    .dataframe thead th {\n",
       "        text-align: right;\n",
       "    }\n",
       "</style>\n",
       "<table border=\"1\" class=\"dataframe\">\n",
       "  <thead>\n",
       "    <tr style=\"text-align: right;\">\n",
       "      <th></th>\n",
       "      <th>Produto</th>\n",
       "      <th>Categoria</th>\n",
       "      <th>Preço</th>\n",
       "      <th>Quantidade</th>\n",
       "      <th>Data_Venda</th>\n",
       "    </tr>\n",
       "  </thead>\n",
       "  <tbody>\n",
       "    <tr>\n",
       "      <th>0</th>\n",
       "      <td>Camisa</td>\n",
       "      <td>Roupas</td>\n",
       "      <td>50.0</td>\n",
       "      <td>10</td>\n",
       "      <td>01/01/2023</td>\n",
       "    </tr>\n",
       "    <tr>\n",
       "      <th>1</th>\n",
       "      <td>Calça</td>\n",
       "      <td>Roupas</td>\n",
       "      <td>100.0</td>\n",
       "      <td>15</td>\n",
       "      <td>02/01/2023</td>\n",
       "    </tr>\n",
       "    <tr>\n",
       "      <th>2</th>\n",
       "      <td>Saia</td>\n",
       "      <td>Roupas</td>\n",
       "      <td>80.0</td>\n",
       "      <td>20</td>\n",
       "      <td>03/01/2023</td>\n",
       "    </tr>\n",
       "    <tr>\n",
       "      <th>3</th>\n",
       "      <td>Camiseta</td>\n",
       "      <td>Roupas</td>\n",
       "      <td>45.0</td>\n",
       "      <td>30</td>\n",
       "      <td>04/01/2023</td>\n",
       "    </tr>\n",
       "    <tr>\n",
       "      <th>4</th>\n",
       "      <td>Jaqueta</td>\n",
       "      <td>Roupas</td>\n",
       "      <td>120.0</td>\n",
       "      <td>5</td>\n",
       "      <td>05/01/2023</td>\n",
       "    </tr>\n",
       "    <tr>\n",
       "      <th>5</th>\n",
       "      <td>Vestido</td>\n",
       "      <td>Roupas</td>\n",
       "      <td>90.0</td>\n",
       "      <td>12</td>\n",
       "      <td>06/01/2023</td>\n",
       "    </tr>\n",
       "    <tr>\n",
       "      <th>6</th>\n",
       "      <td>Bermuda</td>\n",
       "      <td>Roupas</td>\n",
       "      <td>60.0</td>\n",
       "      <td>18</td>\n",
       "      <td>07/01/2023</td>\n",
       "    </tr>\n",
       "    <tr>\n",
       "      <th>7</th>\n",
       "      <td>Sapato</td>\n",
       "      <td>Calçados</td>\n",
       "      <td>150.0</td>\n",
       "      <td>7</td>\n",
       "      <td>08/01/2023</td>\n",
       "    </tr>\n",
       "  </tbody>\n",
       "</table>\n",
       "</div>"
      ],
      "text/plain": [
       "    Produto Categoria  Preço  Quantidade  Data_Venda\n",
       "0    Camisa    Roupas   50.0          10  01/01/2023\n",
       "1     Calça    Roupas  100.0          15  02/01/2023\n",
       "2      Saia    Roupas   80.0          20  03/01/2023\n",
       "3  Camiseta    Roupas   45.0          30  04/01/2023\n",
       "4   Jaqueta    Roupas  120.0           5  05/01/2023\n",
       "5   Vestido    Roupas   90.0          12  06/01/2023\n",
       "6   Bermuda    Roupas   60.0          18  07/01/2023\n",
       "7    Sapato  Calçados  150.0           7  08/01/2023"
      ]
     },
     "execution_count": 22,
     "metadata": {},
     "output_type": "execute_result"
    }
   ],
   "source": [
    "df_produtos.head(8)#Primeiras 8 linhas"
   ]
  },
  {
   "cell_type": "code",
   "execution_count": 23,
   "id": "5fa03634",
   "metadata": {},
   "outputs": [
    {
     "data": {
      "application/vnd.microsoft.datawrangler.viewer.v0+json": {
       "columns": [
        {
         "name": "index",
         "rawType": "int64",
         "type": "integer"
        },
        {
         "name": "Produto",
         "rawType": "object",
         "type": "string"
        },
        {
         "name": "Categoria",
         "rawType": "object",
         "type": "string"
        },
        {
         "name": "Preço",
         "rawType": "float64",
         "type": "float"
        },
        {
         "name": "Quantidade",
         "rawType": "int64",
         "type": "integer"
        },
        {
         "name": "Data_Venda",
         "rawType": "object",
         "type": "string"
        }
       ],
       "conversionMethod": "pd.DataFrame",
       "ref": "a2452b5f-80bf-4f9e-a07d-f2d4b2a9c0f4",
       "rows": [
        [
         "12",
         "Cinto",
         "Acessórios",
         "40.0",
         "22",
         "13/01/2023"
        ],
        [
         "13",
         "Óculos",
         "Acessórios",
         "120.0",
         "10",
         "14/01/2023"
        ],
        [
         "14",
         "Relógio",
         "Acessórios",
         "250.0",
         "4",
         "15/01/2023"
        ],
        [
         "15",
         "Brinco",
         "Acessórios",
         "35.0",
         "30",
         "16/01/2023"
        ],
        [
         "16",
         "Blusa",
         "Roupas",
         "55.0",
         "14",
         "17/01/2023"
        ],
        [
         "17",
         "Shorts",
         "Roupas",
         "65.0",
         "19",
         "18/01/2023"
        ],
        [
         "18",
         "Suéter",
         "Roupas",
         "95.0",
         "9",
         "19/01/2023"
        ],
        [
         "19",
         "Saia longa",
         "Roupas",
         "75.0",
         "11",
         "20/01/2023"
        ]
       ],
       "shape": {
        "columns": 5,
        "rows": 8
       }
      },
      "text/html": [
       "<div>\n",
       "<style scoped>\n",
       "    .dataframe tbody tr th:only-of-type {\n",
       "        vertical-align: middle;\n",
       "    }\n",
       "\n",
       "    .dataframe tbody tr th {\n",
       "        vertical-align: top;\n",
       "    }\n",
       "\n",
       "    .dataframe thead th {\n",
       "        text-align: right;\n",
       "    }\n",
       "</style>\n",
       "<table border=\"1\" class=\"dataframe\">\n",
       "  <thead>\n",
       "    <tr style=\"text-align: right;\">\n",
       "      <th></th>\n",
       "      <th>Produto</th>\n",
       "      <th>Categoria</th>\n",
       "      <th>Preço</th>\n",
       "      <th>Quantidade</th>\n",
       "      <th>Data_Venda</th>\n",
       "    </tr>\n",
       "  </thead>\n",
       "  <tbody>\n",
       "    <tr>\n",
       "      <th>12</th>\n",
       "      <td>Cinto</td>\n",
       "      <td>Acessórios</td>\n",
       "      <td>40.0</td>\n",
       "      <td>22</td>\n",
       "      <td>13/01/2023</td>\n",
       "    </tr>\n",
       "    <tr>\n",
       "      <th>13</th>\n",
       "      <td>Óculos</td>\n",
       "      <td>Acessórios</td>\n",
       "      <td>120.0</td>\n",
       "      <td>10</td>\n",
       "      <td>14/01/2023</td>\n",
       "    </tr>\n",
       "    <tr>\n",
       "      <th>14</th>\n",
       "      <td>Relógio</td>\n",
       "      <td>Acessórios</td>\n",
       "      <td>250.0</td>\n",
       "      <td>4</td>\n",
       "      <td>15/01/2023</td>\n",
       "    </tr>\n",
       "    <tr>\n",
       "      <th>15</th>\n",
       "      <td>Brinco</td>\n",
       "      <td>Acessórios</td>\n",
       "      <td>35.0</td>\n",
       "      <td>30</td>\n",
       "      <td>16/01/2023</td>\n",
       "    </tr>\n",
       "    <tr>\n",
       "      <th>16</th>\n",
       "      <td>Blusa</td>\n",
       "      <td>Roupas</td>\n",
       "      <td>55.0</td>\n",
       "      <td>14</td>\n",
       "      <td>17/01/2023</td>\n",
       "    </tr>\n",
       "    <tr>\n",
       "      <th>17</th>\n",
       "      <td>Shorts</td>\n",
       "      <td>Roupas</td>\n",
       "      <td>65.0</td>\n",
       "      <td>19</td>\n",
       "      <td>18/01/2023</td>\n",
       "    </tr>\n",
       "    <tr>\n",
       "      <th>18</th>\n",
       "      <td>Suéter</td>\n",
       "      <td>Roupas</td>\n",
       "      <td>95.0</td>\n",
       "      <td>9</td>\n",
       "      <td>19/01/2023</td>\n",
       "    </tr>\n",
       "    <tr>\n",
       "      <th>19</th>\n",
       "      <td>Saia longa</td>\n",
       "      <td>Roupas</td>\n",
       "      <td>75.0</td>\n",
       "      <td>11</td>\n",
       "      <td>20/01/2023</td>\n",
       "    </tr>\n",
       "  </tbody>\n",
       "</table>\n",
       "</div>"
      ],
      "text/plain": [
       "       Produto   Categoria  Preço  Quantidade  Data_Venda\n",
       "12       Cinto  Acessórios   40.0          22  13/01/2023\n",
       "13      Óculos  Acessórios  120.0          10  14/01/2023\n",
       "14     Relógio  Acessórios  250.0           4  15/01/2023\n",
       "15      Brinco  Acessórios   35.0          30  16/01/2023\n",
       "16       Blusa      Roupas   55.0          14  17/01/2023\n",
       "17      Shorts      Roupas   65.0          19  18/01/2023\n",
       "18      Suéter      Roupas   95.0           9  19/01/2023\n",
       "19  Saia longa      Roupas   75.0          11  20/01/2023"
      ]
     },
     "execution_count": 23,
     "metadata": {},
     "output_type": "execute_result"
    }
   ],
   "source": [
    "df_produtos.tail(8) #Ultimos 8 registros"
   ]
  },
  {
   "cell_type": "code",
   "execution_count": 24,
   "metadata": {},
   "outputs": [
    {
     "data": {
      "text/plain": [
       "(20, 5)"
      ]
     },
     "execution_count": 24,
     "metadata": {},
     "output_type": "execute_result"
    }
   ],
   "source": [
    "df_produtos.shape#(linhas, colunas)"
   ]
  },
  {
   "cell_type": "code",
   "execution_count": 25,
   "metadata": {},
   "outputs": [
    {
     "data": {
      "text/plain": [
       "Produto        object\n",
       "Categoria      object\n",
       "Preço         float64\n",
       "Quantidade      int64\n",
       "Data_Venda     object\n",
       "dtype: object"
      ]
     },
     "execution_count": 25,
     "metadata": {},
     "output_type": "execute_result"
    }
   ],
   "source": [
    "df_produtos.dtypes#Verifica os tipos de dados"
   ]
  },
  {
   "cell_type": "code",
   "execution_count": 26,
   "id": "ec2bc201",
   "metadata": {},
   "outputs": [
    {
     "data": {
      "application/vnd.microsoft.datawrangler.viewer.v0+json": {
       "columns": [
        {
         "name": "index",
         "rawType": "int64",
         "type": "integer"
        },
        {
         "name": "Produto",
         "rawType": "object",
         "type": "string"
        },
        {
         "name": "Categoria",
         "rawType": "object",
         "type": "string"
        },
        {
         "name": "Preço",
         "rawType": "float64",
         "type": "float"
        },
        {
         "name": "Quantidade",
         "rawType": "int64",
         "type": "integer"
        },
        {
         "name": "Data_Venda",
         "rawType": "object",
         "type": "string"
        }
       ],
       "conversionMethod": "pd.DataFrame",
       "ref": "4b8f6fcc-5422-4dea-ac12-1b87f6144050",
       "rows": [
        [
         "3",
         "Camiseta",
         "Roupas",
         "45.0",
         "30",
         "04/01/2023"
        ],
        [
         "15",
         "Brinco",
         "Acessórios",
         "35.0",
         "30",
         "16/01/2023"
        ],
        [
         "8",
         "Sandália",
         "Calçados",
         "70.0",
         "25",
         "09/01/2023"
        ],
        [
         "12",
         "Cinto",
         "Acessórios",
         "40.0",
         "22",
         "13/01/2023"
        ],
        [
         "2",
         "Saia",
         "Roupas",
         "80.0",
         "20",
         "03/01/2023"
        ],
        [
         "17",
         "Shorts",
         "Roupas",
         "65.0",
         "19",
         "18/01/2023"
        ],
        [
         "6",
         "Bermuda",
         "Roupas",
         "60.0",
         "18",
         "07/01/2023"
        ],
        [
         "1",
         "Calça",
         "Roupas",
         "100.0",
         "15",
         "02/01/2023"
        ],
        [
         "11",
         "Mochila",
         "Acessórios",
         "70.0",
         "15",
         "12/01/2023"
        ],
        [
         "16",
         "Blusa",
         "Roupas",
         "55.0",
         "14",
         "17/01/2023"
        ],
        [
         "5",
         "Vestido",
         "Roupas",
         "90.0",
         "12",
         "06/01/2023"
        ],
        [
         "19",
         "Saia longa",
         "Roupas",
         "75.0",
         "11",
         "20/01/2023"
        ],
        [
         "0",
         "Camisa",
         "Roupas",
         "50.0",
         "10",
         "01/01/2023"
        ],
        [
         "13",
         "Óculos",
         "Acessórios",
         "120.0",
         "10",
         "14/01/2023"
        ],
        [
         "18",
         "Suéter",
         "Roupas",
         "95.0",
         "9",
         "19/01/2023"
        ],
        [
         "9",
         "Tênis",
         "Calçados",
         "200.0",
         "8",
         "10/01/2023"
        ],
        [
         "7",
         "Sapato",
         "Calçados",
         "150.0",
         "7",
         "08/01/2023"
        ],
        [
         "10",
         "Botas",
         "Calçados",
         "180.0",
         "6",
         "11/01/2023"
        ],
        [
         "4",
         "Jaqueta",
         "Roupas",
         "120.0",
         "5",
         "05/01/2023"
        ],
        [
         "14",
         "Relógio",
         "Acessórios",
         "250.0",
         "4",
         "15/01/2023"
        ]
       ],
       "shape": {
        "columns": 5,
        "rows": 20
       }
      },
      "text/html": [
       "<div>\n",
       "<style scoped>\n",
       "    .dataframe tbody tr th:only-of-type {\n",
       "        vertical-align: middle;\n",
       "    }\n",
       "\n",
       "    .dataframe tbody tr th {\n",
       "        vertical-align: top;\n",
       "    }\n",
       "\n",
       "    .dataframe thead th {\n",
       "        text-align: right;\n",
       "    }\n",
       "</style>\n",
       "<table border=\"1\" class=\"dataframe\">\n",
       "  <thead>\n",
       "    <tr style=\"text-align: right;\">\n",
       "      <th></th>\n",
       "      <th>Produto</th>\n",
       "      <th>Categoria</th>\n",
       "      <th>Preço</th>\n",
       "      <th>Quantidade</th>\n",
       "      <th>Data_Venda</th>\n",
       "    </tr>\n",
       "  </thead>\n",
       "  <tbody>\n",
       "    <tr>\n",
       "      <th>3</th>\n",
       "      <td>Camiseta</td>\n",
       "      <td>Roupas</td>\n",
       "      <td>45.0</td>\n",
       "      <td>30</td>\n",
       "      <td>04/01/2023</td>\n",
       "    </tr>\n",
       "    <tr>\n",
       "      <th>15</th>\n",
       "      <td>Brinco</td>\n",
       "      <td>Acessórios</td>\n",
       "      <td>35.0</td>\n",
       "      <td>30</td>\n",
       "      <td>16/01/2023</td>\n",
       "    </tr>\n",
       "    <tr>\n",
       "      <th>8</th>\n",
       "      <td>Sandália</td>\n",
       "      <td>Calçados</td>\n",
       "      <td>70.0</td>\n",
       "      <td>25</td>\n",
       "      <td>09/01/2023</td>\n",
       "    </tr>\n",
       "    <tr>\n",
       "      <th>12</th>\n",
       "      <td>Cinto</td>\n",
       "      <td>Acessórios</td>\n",
       "      <td>40.0</td>\n",
       "      <td>22</td>\n",
       "      <td>13/01/2023</td>\n",
       "    </tr>\n",
       "    <tr>\n",
       "      <th>2</th>\n",
       "      <td>Saia</td>\n",
       "      <td>Roupas</td>\n",
       "      <td>80.0</td>\n",
       "      <td>20</td>\n",
       "      <td>03/01/2023</td>\n",
       "    </tr>\n",
       "    <tr>\n",
       "      <th>17</th>\n",
       "      <td>Shorts</td>\n",
       "      <td>Roupas</td>\n",
       "      <td>65.0</td>\n",
       "      <td>19</td>\n",
       "      <td>18/01/2023</td>\n",
       "    </tr>\n",
       "    <tr>\n",
       "      <th>6</th>\n",
       "      <td>Bermuda</td>\n",
       "      <td>Roupas</td>\n",
       "      <td>60.0</td>\n",
       "      <td>18</td>\n",
       "      <td>07/01/2023</td>\n",
       "    </tr>\n",
       "    <tr>\n",
       "      <th>1</th>\n",
       "      <td>Calça</td>\n",
       "      <td>Roupas</td>\n",
       "      <td>100.0</td>\n",
       "      <td>15</td>\n",
       "      <td>02/01/2023</td>\n",
       "    </tr>\n",
       "    <tr>\n",
       "      <th>11</th>\n",
       "      <td>Mochila</td>\n",
       "      <td>Acessórios</td>\n",
       "      <td>70.0</td>\n",
       "      <td>15</td>\n",
       "      <td>12/01/2023</td>\n",
       "    </tr>\n",
       "    <tr>\n",
       "      <th>16</th>\n",
       "      <td>Blusa</td>\n",
       "      <td>Roupas</td>\n",
       "      <td>55.0</td>\n",
       "      <td>14</td>\n",
       "      <td>17/01/2023</td>\n",
       "    </tr>\n",
       "    <tr>\n",
       "      <th>5</th>\n",
       "      <td>Vestido</td>\n",
       "      <td>Roupas</td>\n",
       "      <td>90.0</td>\n",
       "      <td>12</td>\n",
       "      <td>06/01/2023</td>\n",
       "    </tr>\n",
       "    <tr>\n",
       "      <th>19</th>\n",
       "      <td>Saia longa</td>\n",
       "      <td>Roupas</td>\n",
       "      <td>75.0</td>\n",
       "      <td>11</td>\n",
       "      <td>20/01/2023</td>\n",
       "    </tr>\n",
       "    <tr>\n",
       "      <th>0</th>\n",
       "      <td>Camisa</td>\n",
       "      <td>Roupas</td>\n",
       "      <td>50.0</td>\n",
       "      <td>10</td>\n",
       "      <td>01/01/2023</td>\n",
       "    </tr>\n",
       "    <tr>\n",
       "      <th>13</th>\n",
       "      <td>Óculos</td>\n",
       "      <td>Acessórios</td>\n",
       "      <td>120.0</td>\n",
       "      <td>10</td>\n",
       "      <td>14/01/2023</td>\n",
       "    </tr>\n",
       "    <tr>\n",
       "      <th>18</th>\n",
       "      <td>Suéter</td>\n",
       "      <td>Roupas</td>\n",
       "      <td>95.0</td>\n",
       "      <td>9</td>\n",
       "      <td>19/01/2023</td>\n",
       "    </tr>\n",
       "    <tr>\n",
       "      <th>9</th>\n",
       "      <td>Tênis</td>\n",
       "      <td>Calçados</td>\n",
       "      <td>200.0</td>\n",
       "      <td>8</td>\n",
       "      <td>10/01/2023</td>\n",
       "    </tr>\n",
       "    <tr>\n",
       "      <th>7</th>\n",
       "      <td>Sapato</td>\n",
       "      <td>Calçados</td>\n",
       "      <td>150.0</td>\n",
       "      <td>7</td>\n",
       "      <td>08/01/2023</td>\n",
       "    </tr>\n",
       "    <tr>\n",
       "      <th>10</th>\n",
       "      <td>Botas</td>\n",
       "      <td>Calçados</td>\n",
       "      <td>180.0</td>\n",
       "      <td>6</td>\n",
       "      <td>11/01/2023</td>\n",
       "    </tr>\n",
       "    <tr>\n",
       "      <th>4</th>\n",
       "      <td>Jaqueta</td>\n",
       "      <td>Roupas</td>\n",
       "      <td>120.0</td>\n",
       "      <td>5</td>\n",
       "      <td>05/01/2023</td>\n",
       "    </tr>\n",
       "    <tr>\n",
       "      <th>14</th>\n",
       "      <td>Relógio</td>\n",
       "      <td>Acessórios</td>\n",
       "      <td>250.0</td>\n",
       "      <td>4</td>\n",
       "      <td>15/01/2023</td>\n",
       "    </tr>\n",
       "  </tbody>\n",
       "</table>\n",
       "</div>"
      ],
      "text/plain": [
       "       Produto   Categoria  Preço  Quantidade  Data_Venda\n",
       "3     Camiseta      Roupas   45.0          30  04/01/2023\n",
       "15      Brinco  Acessórios   35.0          30  16/01/2023\n",
       "8     Sandália    Calçados   70.0          25  09/01/2023\n",
       "12       Cinto  Acessórios   40.0          22  13/01/2023\n",
       "2         Saia      Roupas   80.0          20  03/01/2023\n",
       "17      Shorts      Roupas   65.0          19  18/01/2023\n",
       "6      Bermuda      Roupas   60.0          18  07/01/2023\n",
       "1        Calça      Roupas  100.0          15  02/01/2023\n",
       "11     Mochila  Acessórios   70.0          15  12/01/2023\n",
       "16       Blusa      Roupas   55.0          14  17/01/2023\n",
       "5      Vestido      Roupas   90.0          12  06/01/2023\n",
       "19  Saia longa      Roupas   75.0          11  20/01/2023\n",
       "0       Camisa      Roupas   50.0          10  01/01/2023\n",
       "13      Óculos  Acessórios  120.0          10  14/01/2023\n",
       "18      Suéter      Roupas   95.0           9  19/01/2023\n",
       "9        Tênis    Calçados  200.0           8  10/01/2023\n",
       "7       Sapato    Calçados  150.0           7  08/01/2023\n",
       "10       Botas    Calçados  180.0           6  11/01/2023\n",
       "4      Jaqueta      Roupas  120.0           5  05/01/2023\n",
       "14     Relógio  Acessórios  250.0           4  15/01/2023"
      ]
     },
     "execution_count": 26,
     "metadata": {},
     "output_type": "execute_result"
    }
   ],
   "source": [
    "df_produtos.sort_values(by='Quantidade', ascending=False) #Ordena pela quantidade de produtos em ordem decrescente"
   ]
  },
  {
   "cell_type": "code",
   "execution_count": 27,
   "metadata": {},
   "outputs": [
    {
     "data": {
      "text/plain": [
       "array(['Roupas', 'Roupas', 'Roupas', 'Roupas', 'Roupas', 'Roupas',\n",
       "       'Roupas', 'Calçados', 'Calçados', 'Calçados', 'Calçados',\n",
       "       'Acessórios', 'Acessórios', 'Acessórios', 'Acessórios',\n",
       "       'Acessórios', 'Roupas', 'Roupas', 'Roupas', 'Roupas'], dtype=object)"
      ]
     },
     "execution_count": 27,
     "metadata": {},
     "output_type": "execute_result"
    }
   ],
   "source": [
    "df_produtos['Categoria'].values #Verifica os valores únicos da coluna Categoria"
   ]
  }
 ],
 "metadata": {
  "kernelspec": {
   "display_name": ".venv",
   "language": "python",
   "name": "python3"
  },
  "language_info": {
   "codemirror_mode": {
    "name": "ipython",
    "version": 3
   },
   "file_extension": ".py",
   "mimetype": "text/x-python",
   "name": "python",
   "nbconvert_exporter": "python",
   "pygments_lexer": "ipython3",
   "version": "3.13.2"
  }
 },
 "nbformat": 4,
 "nbformat_minor": 5
}
