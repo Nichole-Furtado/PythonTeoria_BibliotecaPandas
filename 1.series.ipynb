{
 "cells": [
  {
   "cell_type": "code",
   "execution_count": 2,
   "id": "1a113db7",
   "metadata": {},
   "outputs": [],
   "source": [
    "import pandas as pd"
   ]
  },
  {
   "cell_type": "code",
   "execution_count": 4,
   "id": "0c2d5596",
   "metadata": {},
   "outputs": [
    {
     "data": {
      "text/plain": [
       "0    10\n",
       "1    20\n",
       "2    30\n",
       "3    40\n",
       "4    50\n",
       "dtype: int64"
      ]
     },
     "execution_count": 4,
     "metadata": {},
     "output_type": "execute_result"
    }
   ],
   "source": [
    "dados = [10, 20, 30, 40, 50]\n",
    "serie = pd.Series(dados)\n",
    "serie"
   ]
  },
  {
   "cell_type": "code",
   "execution_count": 5,
   "id": "115a0d9e",
   "metadata": {},
   "outputs": [
    {
     "data": {
      "text/plain": [
       "pandas.core.series.Series"
      ]
     },
     "execution_count": 5,
     "metadata": {},
     "output_type": "execute_result"
    }
   ],
   "source": [
    "type (serie)"
   ]
  },
  {
   "cell_type": "code",
   "execution_count": 6,
   "id": "74ee7ffa",
   "metadata": {},
   "outputs": [],
   "source": [
    "vendas_mensais = pd.Series(\n",
    "    [200, 2500, 3000, 3500, 4000, 4500, 5000, 5500, 6000, 6500, 7000],\n",
    "    index=[\n",
    "        'jan', 'fev', 'mar', 'abr', 'mai', 'jun', 'jul', 'ago', 'set', 'out', 'nov']\n",
    ")"
   ]
  },
  {
   "cell_type": "code",
   "execution_count": 7,
   "id": "f507a6cd",
   "metadata": {},
   "outputs": [
    {
     "data": {
      "text/plain": [
       "jan     200\n",
       "fev    2500\n",
       "mar    3000\n",
       "abr    3500\n",
       "mai    4000\n",
       "jun    4500\n",
       "jul    5000\n",
       "ago    5500\n",
       "set    6000\n",
       "out    6500\n",
       "nov    7000\n",
       "dtype: int64"
      ]
     },
     "execution_count": 7,
     "metadata": {},
     "output_type": "execute_result"
    }
   ],
   "source": [
    "vendas_mensais"
   ]
  },
  {
   "cell_type": "code",
   "execution_count": 8,
   "id": "fb781868",
   "metadata": {},
   "outputs": [
    {
     "data": {
      "text/plain": [
       "np.float64(4336.363636363636)"
      ]
     },
     "execution_count": 8,
     "metadata": {},
     "output_type": "execute_result"
    }
   ],
   "source": [
    "#Calcular  e exibir a média de vendas\n",
    "media_vendas = vendas_mensais.mean()\n",
    "media_vendas"
   ]
  },
  {
   "cell_type": "code",
   "execution_count": null,
   "id": "e751a03a",
   "metadata": {},
   "outputs": [],
   "source": [
    "#Identificando o mês com maior venda\n",
    "mes_maior_venda = vendas_mensais.idxmax()\n",
    "mes_maior_venda"
   ]
  },
  {
   "cell_type": "code",
   "execution_count": 9,
   "id": "79374c98",
   "metadata": {},
   "outputs": [
    {
     "data": {
      "text/plain": [
       "jun    4500\n",
       "jul    5000\n",
       "ago    5500\n",
       "set    6000\n",
       "out    6500\n",
       "nov    7000\n",
       "dtype: int64"
      ]
     },
     "execution_count": 9,
     "metadata": {},
     "output_type": "execute_result"
    }
   ],
   "source": [
    "#Exibir as vendas acima da media\n",
    "vendas_acima_media = vendas_mensais[vendas_mensais > media_vendas]\n",
    "vendas_acima_media"
   ]
  }
 ],
 "metadata": {
  "kernelspec": {
   "display_name": "Python 3",
   "language": "python",
   "name": "python3"
  },
  "language_info": {
   "codemirror_mode": {
    "name": "ipython",
    "version": 3
   },
   "file_extension": ".py",
   "mimetype": "text/x-python",
   "name": "python",
   "nbconvert_exporter": "python",
   "pygments_lexer": "ipython3",
   "version": "3.13.2"
  }
 },
 "nbformat": 4,
 "nbformat_minor": 5
}
