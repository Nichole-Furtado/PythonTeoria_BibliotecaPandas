{
 "cells": [
  {
   "cell_type": "code",
   "execution_count": 19,
   "id": "7221fe57",
   "metadata": {},
   "outputs": [],
   "source": [
    "import pandas as pd"
   ]
  },
  {
   "cell_type": "code",
   "execution_count": 20,
   "id": "b5cada71",
   "metadata": {},
   "outputs": [
    {
     "data": {
      "application/vnd.microsoft.datawrangler.viewer.v0+json": {
       "columns": [
        {
         "name": "index",
         "rawType": "int64",
         "type": "integer"
        },
        {
         "name": "Time",
         "rawType": "object",
         "type": "string"
        },
        {
         "name": "Partidas_Jogadas",
         "rawType": "int64",
         "type": "integer"
        },
        {
         "name": "Vitorias",
         "rawType": "int64",
         "type": "integer"
        },
        {
         "name": "Empates",
         "rawType": "int64",
         "type": "integer"
        },
        {
         "name": "Derrotas",
         "rawType": "int64",
         "type": "integer"
        },
        {
         "name": "Gols_Pro",
         "rawType": "int64",
         "type": "integer"
        },
        {
         "name": "Gols_Contra",
         "rawType": "int64",
         "type": "integer"
        },
        {
         "name": "Saldo_Gols",
         "rawType": "int64",
         "type": "integer"
        },
        {
         "name": "Pontos",
         "rawType": "int64",
         "type": "integer"
        }
       ],
       "conversionMethod": "pd.DataFrame",
       "ref": "23e06f00-4d9b-4ad2-87c2-d8f20f38f232",
       "rows": [
        [
         "0",
         "Corinthians",
         "10",
         "6",
         "2",
         "2",
         "25",
         "8",
         "17",
         "20"
        ],
        [
         "1",
         "Flamengo",
         "10",
         "5",
         "3",
         "2",
         "20",
         "10",
         "10",
         "18"
        ],
        [
         "2",
         "Botafogo",
         "10",
         "4",
         "2",
         "4",
         "12",
         "10",
         "2",
         "14"
        ],
        [
         "3",
         "Fluminense",
         "10",
         "3",
         "4",
         "3",
         "15",
         "12",
         "3",
         "13"
        ],
        [
         "4",
         "Vasco",
         "10",
         "2",
         "5",
         "3",
         "10",
         "15",
         "-5",
         "11"
        ]
       ],
       "shape": {
        "columns": 9,
        "rows": 5
       }
      },
      "text/html": [
       "<div>\n",
       "<style scoped>\n",
       "    .dataframe tbody tr th:only-of-type {\n",
       "        vertical-align: middle;\n",
       "    }\n",
       "\n",
       "    .dataframe tbody tr th {\n",
       "        vertical-align: top;\n",
       "    }\n",
       "\n",
       "    .dataframe thead th {\n",
       "        text-align: right;\n",
       "    }\n",
       "</style>\n",
       "<table border=\"1\" class=\"dataframe\">\n",
       "  <thead>\n",
       "    <tr style=\"text-align: right;\">\n",
       "      <th></th>\n",
       "      <th>Time</th>\n",
       "      <th>Partidas_Jogadas</th>\n",
       "      <th>Vitorias</th>\n",
       "      <th>Empates</th>\n",
       "      <th>Derrotas</th>\n",
       "      <th>Gols_Pro</th>\n",
       "      <th>Gols_Contra</th>\n",
       "      <th>Saldo_Gols</th>\n",
       "      <th>Pontos</th>\n",
       "    </tr>\n",
       "  </thead>\n",
       "  <tbody>\n",
       "    <tr>\n",
       "      <th>0</th>\n",
       "      <td>Corinthians</td>\n",
       "      <td>10</td>\n",
       "      <td>6</td>\n",
       "      <td>2</td>\n",
       "      <td>2</td>\n",
       "      <td>25</td>\n",
       "      <td>8</td>\n",
       "      <td>17</td>\n",
       "      <td>20</td>\n",
       "    </tr>\n",
       "    <tr>\n",
       "      <th>1</th>\n",
       "      <td>Flamengo</td>\n",
       "      <td>10</td>\n",
       "      <td>5</td>\n",
       "      <td>3</td>\n",
       "      <td>2</td>\n",
       "      <td>20</td>\n",
       "      <td>10</td>\n",
       "      <td>10</td>\n",
       "      <td>18</td>\n",
       "    </tr>\n",
       "    <tr>\n",
       "      <th>2</th>\n",
       "      <td>Botafogo</td>\n",
       "      <td>10</td>\n",
       "      <td>4</td>\n",
       "      <td>2</td>\n",
       "      <td>4</td>\n",
       "      <td>12</td>\n",
       "      <td>10</td>\n",
       "      <td>2</td>\n",
       "      <td>14</td>\n",
       "    </tr>\n",
       "    <tr>\n",
       "      <th>3</th>\n",
       "      <td>Fluminense</td>\n",
       "      <td>10</td>\n",
       "      <td>3</td>\n",
       "      <td>4</td>\n",
       "      <td>3</td>\n",
       "      <td>15</td>\n",
       "      <td>12</td>\n",
       "      <td>3</td>\n",
       "      <td>13</td>\n",
       "    </tr>\n",
       "    <tr>\n",
       "      <th>4</th>\n",
       "      <td>Vasco</td>\n",
       "      <td>10</td>\n",
       "      <td>2</td>\n",
       "      <td>5</td>\n",
       "      <td>3</td>\n",
       "      <td>10</td>\n",
       "      <td>15</td>\n",
       "      <td>-5</td>\n",
       "      <td>11</td>\n",
       "    </tr>\n",
       "  </tbody>\n",
       "</table>\n",
       "</div>"
      ],
      "text/plain": [
       "          Time  Partidas_Jogadas  Vitorias  Empates  Derrotas  Gols_Pro  \\\n",
       "0  Corinthians                10         6        2         2        25   \n",
       "1     Flamengo                10         5        3         2        20   \n",
       "2     Botafogo                10         4        2         4        12   \n",
       "3   Fluminense                10         3        4         3        15   \n",
       "4        Vasco                10         2        5         3        10   \n",
       "\n",
       "   Gols_Contra  Saldo_Gols  Pontos  \n",
       "0            8          17      20  \n",
       "1           10          10      18  \n",
       "2           10           2      14  \n",
       "3           12           3      13  \n",
       "4           15          -5      11  "
      ]
     },
     "execution_count": 20,
     "metadata": {},
     "output_type": "execute_result"
    }
   ],
   "source": [
    "df = pd.read_excel(\"dados/classificacao_campeonato.xlsx\")\n",
    "df"
   ]
  },
  {
   "cell_type": "code",
   "execution_count": 21,
   "id": "80256702",
   "metadata": {},
   "outputs": [
    {
     "data": {
      "application/vnd.microsoft.datawrangler.viewer.v0+json": {
       "columns": [
        {
         "name": "index",
         "rawType": "object",
         "type": "string"
        },
        {
         "name": "Partidas_Jogadas",
         "rawType": "float64",
         "type": "float"
        },
        {
         "name": "Vitorias",
         "rawType": "float64",
         "type": "float"
        },
        {
         "name": "Empates",
         "rawType": "float64",
         "type": "float"
        },
        {
         "name": "Derrotas",
         "rawType": "float64",
         "type": "float"
        },
        {
         "name": "Gols_Pro",
         "rawType": "float64",
         "type": "float"
        },
        {
         "name": "Gols_Contra",
         "rawType": "float64",
         "type": "float"
        },
        {
         "name": "Saldo_Gols",
         "rawType": "float64",
         "type": "float"
        },
        {
         "name": "Pontos",
         "rawType": "float64",
         "type": "float"
        }
       ],
       "conversionMethod": "pd.DataFrame",
       "ref": "eb3a67d7-d495-472f-899f-cfeee3c79a30",
       "rows": [
        [
         "count",
         "5.0",
         "5.0",
         "5.0",
         "5.0",
         "5.0",
         "5.0",
         "5.0",
         "5.0"
        ],
        [
         "mean",
         "10.0",
         "4.0",
         "3.2",
         "2.8",
         "16.4",
         "11.0",
         "5.4",
         "15.2"
        ],
        [
         "std",
         "0.0",
         "1.5811388300841898",
         "1.3038404810405297",
         "0.8366600265340756",
         "6.107372593840988",
         "2.6457513110645907",
         "8.384509526501834",
         "3.7013511046643495"
        ],
        [
         "min",
         "10.0",
         "2.0",
         "2.0",
         "2.0",
         "10.0",
         "8.0",
         "-5.0",
         "11.0"
        ],
        [
         "25%",
         "10.0",
         "3.0",
         "2.0",
         "2.0",
         "12.0",
         "10.0",
         "2.0",
         "13.0"
        ],
        [
         "50%",
         "10.0",
         "4.0",
         "3.0",
         "3.0",
         "15.0",
         "10.0",
         "3.0",
         "14.0"
        ],
        [
         "75%",
         "10.0",
         "5.0",
         "4.0",
         "3.0",
         "20.0",
         "12.0",
         "10.0",
         "18.0"
        ],
        [
         "max",
         "10.0",
         "6.0",
         "5.0",
         "4.0",
         "25.0",
         "15.0",
         "17.0",
         "20.0"
        ]
       ],
       "shape": {
        "columns": 8,
        "rows": 8
       }
      },
      "text/html": [
       "<div>\n",
       "<style scoped>\n",
       "    .dataframe tbody tr th:only-of-type {\n",
       "        vertical-align: middle;\n",
       "    }\n",
       "\n",
       "    .dataframe tbody tr th {\n",
       "        vertical-align: top;\n",
       "    }\n",
       "\n",
       "    .dataframe thead th {\n",
       "        text-align: right;\n",
       "    }\n",
       "</style>\n",
       "<table border=\"1\" class=\"dataframe\">\n",
       "  <thead>\n",
       "    <tr style=\"text-align: right;\">\n",
       "      <th></th>\n",
       "      <th>Partidas_Jogadas</th>\n",
       "      <th>Vitorias</th>\n",
       "      <th>Empates</th>\n",
       "      <th>Derrotas</th>\n",
       "      <th>Gols_Pro</th>\n",
       "      <th>Gols_Contra</th>\n",
       "      <th>Saldo_Gols</th>\n",
       "      <th>Pontos</th>\n",
       "    </tr>\n",
       "  </thead>\n",
       "  <tbody>\n",
       "    <tr>\n",
       "      <th>count</th>\n",
       "      <td>5.0</td>\n",
       "      <td>5.000000</td>\n",
       "      <td>5.00000</td>\n",
       "      <td>5.00000</td>\n",
       "      <td>5.000000</td>\n",
       "      <td>5.000000</td>\n",
       "      <td>5.00000</td>\n",
       "      <td>5.000000</td>\n",
       "    </tr>\n",
       "    <tr>\n",
       "      <th>mean</th>\n",
       "      <td>10.0</td>\n",
       "      <td>4.000000</td>\n",
       "      <td>3.20000</td>\n",
       "      <td>2.80000</td>\n",
       "      <td>16.400000</td>\n",
       "      <td>11.000000</td>\n",
       "      <td>5.40000</td>\n",
       "      <td>15.200000</td>\n",
       "    </tr>\n",
       "    <tr>\n",
       "      <th>std</th>\n",
       "      <td>0.0</td>\n",
       "      <td>1.581139</td>\n",
       "      <td>1.30384</td>\n",
       "      <td>0.83666</td>\n",
       "      <td>6.107373</td>\n",
       "      <td>2.645751</td>\n",
       "      <td>8.38451</td>\n",
       "      <td>3.701351</td>\n",
       "    </tr>\n",
       "    <tr>\n",
       "      <th>min</th>\n",
       "      <td>10.0</td>\n",
       "      <td>2.000000</td>\n",
       "      <td>2.00000</td>\n",
       "      <td>2.00000</td>\n",
       "      <td>10.000000</td>\n",
       "      <td>8.000000</td>\n",
       "      <td>-5.00000</td>\n",
       "      <td>11.000000</td>\n",
       "    </tr>\n",
       "    <tr>\n",
       "      <th>25%</th>\n",
       "      <td>10.0</td>\n",
       "      <td>3.000000</td>\n",
       "      <td>2.00000</td>\n",
       "      <td>2.00000</td>\n",
       "      <td>12.000000</td>\n",
       "      <td>10.000000</td>\n",
       "      <td>2.00000</td>\n",
       "      <td>13.000000</td>\n",
       "    </tr>\n",
       "    <tr>\n",
       "      <th>50%</th>\n",
       "      <td>10.0</td>\n",
       "      <td>4.000000</td>\n",
       "      <td>3.00000</td>\n",
       "      <td>3.00000</td>\n",
       "      <td>15.000000</td>\n",
       "      <td>10.000000</td>\n",
       "      <td>3.00000</td>\n",
       "      <td>14.000000</td>\n",
       "    </tr>\n",
       "    <tr>\n",
       "      <th>75%</th>\n",
       "      <td>10.0</td>\n",
       "      <td>5.000000</td>\n",
       "      <td>4.00000</td>\n",
       "      <td>3.00000</td>\n",
       "      <td>20.000000</td>\n",
       "      <td>12.000000</td>\n",
       "      <td>10.00000</td>\n",
       "      <td>18.000000</td>\n",
       "    </tr>\n",
       "    <tr>\n",
       "      <th>max</th>\n",
       "      <td>10.0</td>\n",
       "      <td>6.000000</td>\n",
       "      <td>5.00000</td>\n",
       "      <td>4.00000</td>\n",
       "      <td>25.000000</td>\n",
       "      <td>15.000000</td>\n",
       "      <td>17.00000</td>\n",
       "      <td>20.000000</td>\n",
       "    </tr>\n",
       "  </tbody>\n",
       "</table>\n",
       "</div>"
      ],
      "text/plain": [
       "       Partidas_Jogadas  Vitorias  Empates  Derrotas   Gols_Pro  Gols_Contra  \\\n",
       "count               5.0  5.000000  5.00000   5.00000   5.000000     5.000000   \n",
       "mean               10.0  4.000000  3.20000   2.80000  16.400000    11.000000   \n",
       "std                 0.0  1.581139  1.30384   0.83666   6.107373     2.645751   \n",
       "min                10.0  2.000000  2.00000   2.00000  10.000000     8.000000   \n",
       "25%                10.0  3.000000  2.00000   2.00000  12.000000    10.000000   \n",
       "50%                10.0  4.000000  3.00000   3.00000  15.000000    10.000000   \n",
       "75%                10.0  5.000000  4.00000   3.00000  20.000000    12.000000   \n",
       "max                10.0  6.000000  5.00000   4.00000  25.000000    15.000000   \n",
       "\n",
       "       Saldo_Gols     Pontos  \n",
       "count     5.00000   5.000000  \n",
       "mean      5.40000  15.200000  \n",
       "std       8.38451   3.701351  \n",
       "min      -5.00000  11.000000  \n",
       "25%       2.00000  13.000000  \n",
       "50%       3.00000  14.000000  \n",
       "75%      10.00000  18.000000  \n",
       "max      17.00000  20.000000  "
      ]
     },
     "execution_count": 21,
     "metadata": {},
     "output_type": "execute_result"
    }
   ],
   "source": [
    "df.describe()"
   ]
  },
  {
   "cell_type": "code",
   "execution_count": 22,
   "id": "690e36d3",
   "metadata": {},
   "outputs": [
    {
     "data": {
      "application/vnd.microsoft.datawrangler.viewer.v0+json": {
       "columns": [
        {
         "name": "index",
         "rawType": "int64",
         "type": "integer"
        },
        {
         "name": "Time",
         "rawType": "object",
         "type": "string"
        },
        {
         "name": "Partidas_Jogadas",
         "rawType": "int64",
         "type": "integer"
        },
        {
         "name": "Vitorias",
         "rawType": "int64",
         "type": "integer"
        },
        {
         "name": "Empates",
         "rawType": "int64",
         "type": "integer"
        },
        {
         "name": "Derrotas",
         "rawType": "int64",
         "type": "integer"
        },
        {
         "name": "Gols_Pro",
         "rawType": "int64",
         "type": "integer"
        },
        {
         "name": "Gols_Contra",
         "rawType": "int64",
         "type": "integer"
        },
        {
         "name": "Saldo_Gols",
         "rawType": "int64",
         "type": "integer"
        },
        {
         "name": "Pontos",
         "rawType": "int64",
         "type": "integer"
        }
       ],
       "conversionMethod": "pd.DataFrame",
       "ref": "50ddb255-e054-4ea4-ab20-286ef2a125b4",
       "rows": [
        [
         "0",
         "Corinthians",
         "10",
         "6",
         "2",
         "2",
         "25",
         "8",
         "17",
         "20"
        ],
        [
         "1",
         "Flamengo",
         "10",
         "5",
         "3",
         "2",
         "20",
         "10",
         "10",
         "18"
        ]
       ],
       "shape": {
        "columns": 9,
        "rows": 2
       }
      },
      "text/html": [
       "<div>\n",
       "<style scoped>\n",
       "    .dataframe tbody tr th:only-of-type {\n",
       "        vertical-align: middle;\n",
       "    }\n",
       "\n",
       "    .dataframe tbody tr th {\n",
       "        vertical-align: top;\n",
       "    }\n",
       "\n",
       "    .dataframe thead th {\n",
       "        text-align: right;\n",
       "    }\n",
       "</style>\n",
       "<table border=\"1\" class=\"dataframe\">\n",
       "  <thead>\n",
       "    <tr style=\"text-align: right;\">\n",
       "      <th></th>\n",
       "      <th>Time</th>\n",
       "      <th>Partidas_Jogadas</th>\n",
       "      <th>Vitorias</th>\n",
       "      <th>Empates</th>\n",
       "      <th>Derrotas</th>\n",
       "      <th>Gols_Pro</th>\n",
       "      <th>Gols_Contra</th>\n",
       "      <th>Saldo_Gols</th>\n",
       "      <th>Pontos</th>\n",
       "    </tr>\n",
       "  </thead>\n",
       "  <tbody>\n",
       "    <tr>\n",
       "      <th>0</th>\n",
       "      <td>Corinthians</td>\n",
       "      <td>10</td>\n",
       "      <td>6</td>\n",
       "      <td>2</td>\n",
       "      <td>2</td>\n",
       "      <td>25</td>\n",
       "      <td>8</td>\n",
       "      <td>17</td>\n",
       "      <td>20</td>\n",
       "    </tr>\n",
       "    <tr>\n",
       "      <th>1</th>\n",
       "      <td>Flamengo</td>\n",
       "      <td>10</td>\n",
       "      <td>5</td>\n",
       "      <td>3</td>\n",
       "      <td>2</td>\n",
       "      <td>20</td>\n",
       "      <td>10</td>\n",
       "      <td>10</td>\n",
       "      <td>18</td>\n",
       "    </tr>\n",
       "  </tbody>\n",
       "</table>\n",
       "</div>"
      ],
      "text/plain": [
       "          Time  Partidas_Jogadas  Vitorias  Empates  Derrotas  Gols_Pro  \\\n",
       "0  Corinthians                10         6        2         2        25   \n",
       "1     Flamengo                10         5        3         2        20   \n",
       "\n",
       "   Gols_Contra  Saldo_Gols  Pontos  \n",
       "0            8          17      20  \n",
       "1           10          10      18  "
      ]
     },
     "execution_count": 22,
     "metadata": {},
     "output_type": "execute_result"
    }
   ],
   "source": [
    "df.head(2)"
   ]
  },
  {
   "cell_type": "code",
   "execution_count": 23,
   "id": "9c59f8b3",
   "metadata": {},
   "outputs": [
    {
     "data": {
      "application/vnd.microsoft.datawrangler.viewer.v0+json": {
       "columns": [
        {
         "name": "index",
         "rawType": "int64",
         "type": "integer"
        },
        {
         "name": "Time",
         "rawType": "object",
         "type": "string"
        },
        {
         "name": "Partidas_Jogadas",
         "rawType": "int64",
         "type": "integer"
        },
        {
         "name": "Vitorias",
         "rawType": "int64",
         "type": "integer"
        },
        {
         "name": "Empates",
         "rawType": "int64",
         "type": "integer"
        },
        {
         "name": "Derrotas",
         "rawType": "int64",
         "type": "integer"
        },
        {
         "name": "Gols_Pro",
         "rawType": "int64",
         "type": "integer"
        },
        {
         "name": "Gols_Contra",
         "rawType": "int64",
         "type": "integer"
        },
        {
         "name": "Saldo_Gols",
         "rawType": "int64",
         "type": "integer"
        },
        {
         "name": "Pontos",
         "rawType": "int64",
         "type": "integer"
        }
       ],
       "conversionMethod": "pd.DataFrame",
       "ref": "93f075d2-3e86-443a-9f9a-ff872017f27f",
       "rows": [
        [
         "3",
         "Fluminense",
         "10",
         "3",
         "4",
         "3",
         "15",
         "12",
         "3",
         "13"
        ],
        [
         "4",
         "Vasco",
         "10",
         "2",
         "5",
         "3",
         "10",
         "15",
         "-5",
         "11"
        ]
       ],
       "shape": {
        "columns": 9,
        "rows": 2
       }
      },
      "text/html": [
       "<div>\n",
       "<style scoped>\n",
       "    .dataframe tbody tr th:only-of-type {\n",
       "        vertical-align: middle;\n",
       "    }\n",
       "\n",
       "    .dataframe tbody tr th {\n",
       "        vertical-align: top;\n",
       "    }\n",
       "\n",
       "    .dataframe thead th {\n",
       "        text-align: right;\n",
       "    }\n",
       "</style>\n",
       "<table border=\"1\" class=\"dataframe\">\n",
       "  <thead>\n",
       "    <tr style=\"text-align: right;\">\n",
       "      <th></th>\n",
       "      <th>Time</th>\n",
       "      <th>Partidas_Jogadas</th>\n",
       "      <th>Vitorias</th>\n",
       "      <th>Empates</th>\n",
       "      <th>Derrotas</th>\n",
       "      <th>Gols_Pro</th>\n",
       "      <th>Gols_Contra</th>\n",
       "      <th>Saldo_Gols</th>\n",
       "      <th>Pontos</th>\n",
       "    </tr>\n",
       "  </thead>\n",
       "  <tbody>\n",
       "    <tr>\n",
       "      <th>3</th>\n",
       "      <td>Fluminense</td>\n",
       "      <td>10</td>\n",
       "      <td>3</td>\n",
       "      <td>4</td>\n",
       "      <td>3</td>\n",
       "      <td>15</td>\n",
       "      <td>12</td>\n",
       "      <td>3</td>\n",
       "      <td>13</td>\n",
       "    </tr>\n",
       "    <tr>\n",
       "      <th>4</th>\n",
       "      <td>Vasco</td>\n",
       "      <td>10</td>\n",
       "      <td>2</td>\n",
       "      <td>5</td>\n",
       "      <td>3</td>\n",
       "      <td>10</td>\n",
       "      <td>15</td>\n",
       "      <td>-5</td>\n",
       "      <td>11</td>\n",
       "    </tr>\n",
       "  </tbody>\n",
       "</table>\n",
       "</div>"
      ],
      "text/plain": [
       "         Time  Partidas_Jogadas  Vitorias  Empates  Derrotas  Gols_Pro  \\\n",
       "3  Fluminense                10         3        4         3        15   \n",
       "4       Vasco                10         2        5         3        10   \n",
       "\n",
       "   Gols_Contra  Saldo_Gols  Pontos  \n",
       "3           12           3      13  \n",
       "4           15          -5      11  "
      ]
     },
     "execution_count": 23,
     "metadata": {},
     "output_type": "execute_result"
    }
   ],
   "source": [
    "df.tail(2)"
   ]
  },
  {
   "cell_type": "code",
   "execution_count": 24,
   "id": "9bb40b35",
   "metadata": {},
   "outputs": [
    {
     "data": {
      "application/vnd.microsoft.datawrangler.viewer.v0+json": {
       "columns": [
        {
         "name": "Time",
         "rawType": "object",
         "type": "string"
        },
        {
         "name": "Pontos",
         "rawType": "int64",
         "type": "integer"
        },
        {
         "name": "Vitorias",
         "rawType": "int64",
         "type": "integer"
        },
        {
         "name": "Saldo_Gols",
         "rawType": "int64",
         "type": "integer"
        }
       ],
       "conversionMethod": "pd.DataFrame",
       "ref": "a91dc8c6-d4b3-4b0d-8db9-9ffde5de09ce",
       "rows": [
        [
         "Corinthians",
         "20",
         "6",
         "17"
        ],
        [
         "Flamengo",
         "18",
         "5",
         "10"
        ],
        [
         "Botafogo",
         "14",
         "4",
         "2"
        ],
        [
         "Fluminense",
         "13",
         "3",
         "3"
        ],
        [
         "Vasco",
         "11",
         "2",
         "-5"
        ]
       ],
       "shape": {
        "columns": 3,
        "rows": 5
       }
      },
      "text/html": [
       "<div>\n",
       "<style scoped>\n",
       "    .dataframe tbody tr th:only-of-type {\n",
       "        vertical-align: middle;\n",
       "    }\n",
       "\n",
       "    .dataframe tbody tr th {\n",
       "        vertical-align: top;\n",
       "    }\n",
       "\n",
       "    .dataframe thead th {\n",
       "        text-align: right;\n",
       "    }\n",
       "</style>\n",
       "<table border=\"1\" class=\"dataframe\">\n",
       "  <thead>\n",
       "    <tr style=\"text-align: right;\">\n",
       "      <th></th>\n",
       "      <th>Pontos</th>\n",
       "      <th>Vitorias</th>\n",
       "      <th>Saldo_Gols</th>\n",
       "    </tr>\n",
       "    <tr>\n",
       "      <th>Time</th>\n",
       "      <th></th>\n",
       "      <th></th>\n",
       "      <th></th>\n",
       "    </tr>\n",
       "  </thead>\n",
       "  <tbody>\n",
       "    <tr>\n",
       "      <th>Corinthians</th>\n",
       "      <td>20</td>\n",
       "      <td>6</td>\n",
       "      <td>17</td>\n",
       "    </tr>\n",
       "    <tr>\n",
       "      <th>Flamengo</th>\n",
       "      <td>18</td>\n",
       "      <td>5</td>\n",
       "      <td>10</td>\n",
       "    </tr>\n",
       "    <tr>\n",
       "      <th>Botafogo</th>\n",
       "      <td>14</td>\n",
       "      <td>4</td>\n",
       "      <td>2</td>\n",
       "    </tr>\n",
       "    <tr>\n",
       "      <th>Fluminense</th>\n",
       "      <td>13</td>\n",
       "      <td>3</td>\n",
       "      <td>3</td>\n",
       "    </tr>\n",
       "    <tr>\n",
       "      <th>Vasco</th>\n",
       "      <td>11</td>\n",
       "      <td>2</td>\n",
       "      <td>-5</td>\n",
       "    </tr>\n",
       "  </tbody>\n",
       "</table>\n",
       "</div>"
      ],
      "text/plain": [
       "             Pontos  Vitorias  Saldo_Gols\n",
       "Time                                     \n",
       "Corinthians      20         6          17\n",
       "Flamengo         18         5          10\n",
       "Botafogo         14         4           2\n",
       "Fluminense       13         3           3\n",
       "Vasco            11         2          -5"
      ]
     },
     "execution_count": 24,
     "metadata": {},
     "output_type": "execute_result"
    }
   ],
   "source": [
    "#Analise de desempenho por time\n",
    "desempenho_info = df[[\"Time\", \"Pontos\", \"Vitorias\", \"Saldo_Gols\"]].set_index(\"Time\")\n",
    "desempenho_info"
   ]
  },
  {
   "cell_type": "code",
   "execution_count": 25,
   "id": "33294fe4",
   "metadata": {},
   "outputs": [
    {
     "data": {
      "application/vnd.microsoft.datawrangler.viewer.v0+json": {
       "columns": [
        {
         "name": "index",
         "rawType": "int64",
         "type": "integer"
        },
        {
         "name": "Time",
         "rawType": "object",
         "type": "string"
        },
        {
         "name": "Partidas_Jogadas",
         "rawType": "int64",
         "type": "integer"
        },
        {
         "name": "Vitorias",
         "rawType": "int64",
         "type": "integer"
        },
        {
         "name": "Empates",
         "rawType": "int64",
         "type": "integer"
        },
        {
         "name": "Derrotas",
         "rawType": "int64",
         "type": "integer"
        },
        {
         "name": "Gols_Pro",
         "rawType": "int64",
         "type": "integer"
        },
        {
         "name": "Gols_Contra",
         "rawType": "int64",
         "type": "integer"
        },
        {
         "name": "Saldo_Gols",
         "rawType": "int64",
         "type": "integer"
        },
        {
         "name": "Pontos",
         "rawType": "int64",
         "type": "integer"
        }
       ],
       "conversionMethod": "pd.DataFrame",
       "ref": "4959f756-2e90-461b-b0bd-020dd59a1c49",
       "rows": [
        [
         "0",
         "Corinthians",
         "10",
         "6",
         "2",
         "2",
         "25",
         "8",
         "17",
         "20"
        ]
       ],
       "shape": {
        "columns": 9,
        "rows": 1
       }
      },
      "text/html": [
       "<div>\n",
       "<style scoped>\n",
       "    .dataframe tbody tr th:only-of-type {\n",
       "        vertical-align: middle;\n",
       "    }\n",
       "\n",
       "    .dataframe tbody tr th {\n",
       "        vertical-align: top;\n",
       "    }\n",
       "\n",
       "    .dataframe thead th {\n",
       "        text-align: right;\n",
       "    }\n",
       "</style>\n",
       "<table border=\"1\" class=\"dataframe\">\n",
       "  <thead>\n",
       "    <tr style=\"text-align: right;\">\n",
       "      <th></th>\n",
       "      <th>Time</th>\n",
       "      <th>Partidas_Jogadas</th>\n",
       "      <th>Vitorias</th>\n",
       "      <th>Empates</th>\n",
       "      <th>Derrotas</th>\n",
       "      <th>Gols_Pro</th>\n",
       "      <th>Gols_Contra</th>\n",
       "      <th>Saldo_Gols</th>\n",
       "      <th>Pontos</th>\n",
       "    </tr>\n",
       "  </thead>\n",
       "  <tbody>\n",
       "    <tr>\n",
       "      <th>0</th>\n",
       "      <td>Corinthians</td>\n",
       "      <td>10</td>\n",
       "      <td>6</td>\n",
       "      <td>2</td>\n",
       "      <td>2</td>\n",
       "      <td>25</td>\n",
       "      <td>8</td>\n",
       "      <td>17</td>\n",
       "      <td>20</td>\n",
       "    </tr>\n",
       "  </tbody>\n",
       "</table>\n",
       "</div>"
      ],
      "text/plain": [
       "          Time  Partidas_Jogadas  Vitorias  Empates  Derrotas  Gols_Pro  \\\n",
       "0  Corinthians                10         6        2         2        25   \n",
       "\n",
       "   Gols_Contra  Saldo_Gols  Pontos  \n",
       "0            8          17      20  "
      ]
     },
     "execution_count": 25,
     "metadata": {},
     "output_type": "execute_result"
    }
   ],
   "source": [
    "#Time com mais vitorias e menos vitorias\n",
    "time_mais_vitorias = df[df[\"Vitorias\"] == df[\"Vitorias\"].max()]\n",
    "time_mais_vitorias"
   ]
  },
  {
   "cell_type": "code",
   "execution_count": 26,
   "metadata": {},
   "outputs": [
    {
     "data": {
      "application/vnd.microsoft.datawrangler.viewer.v0+json": {
       "columns": [
        {
         "name": "index",
         "rawType": "int64",
         "type": "integer"
        },
        {
         "name": "Time",
         "rawType": "object",
         "type": "string"
        },
        {
         "name": "Partidas_Jogadas",
         "rawType": "int64",
         "type": "integer"
        },
        {
         "name": "Vitorias",
         "rawType": "int64",
         "type": "integer"
        },
        {
         "name": "Empates",
         "rawType": "int64",
         "type": "integer"
        },
        {
         "name": "Derrotas",
         "rawType": "int64",
         "type": "integer"
        },
        {
         "name": "Gols_Pro",
         "rawType": "int64",
         "type": "integer"
        },
        {
         "name": "Gols_Contra",
         "rawType": "int64",
         "type": "integer"
        },
        {
         "name": "Saldo_Gols",
         "rawType": "int64",
         "type": "integer"
        },
        {
         "name": "Pontos",
         "rawType": "int64",
         "type": "integer"
        }
       ],
       "conversionMethod": "pd.DataFrame",
       "ref": "0f4a58cc-4d84-4e1a-98be-834ec0a242c4",
       "rows": [
        [
         "4",
         "Vasco",
         "10",
         "2",
         "5",
         "3",
         "10",
         "15",
         "-5",
         "11"
        ]
       ],
       "shape": {
        "columns": 9,
        "rows": 1
       }
      },
      "text/html": [
       "<div>\n",
       "<style scoped>\n",
       "    .dataframe tbody tr th:only-of-type {\n",
       "        vertical-align: middle;\n",
       "    }\n",
       "\n",
       "    .dataframe tbody tr th {\n",
       "        vertical-align: top;\n",
       "    }\n",
       "\n",
       "    .dataframe thead th {\n",
       "        text-align: right;\n",
       "    }\n",
       "</style>\n",
       "<table border=\"1\" class=\"dataframe\">\n",
       "  <thead>\n",
       "    <tr style=\"text-align: right;\">\n",
       "      <th></th>\n",
       "      <th>Time</th>\n",
       "      <th>Partidas_Jogadas</th>\n",
       "      <th>Vitorias</th>\n",
       "      <th>Empates</th>\n",
       "      <th>Derrotas</th>\n",
       "      <th>Gols_Pro</th>\n",
       "      <th>Gols_Contra</th>\n",
       "      <th>Saldo_Gols</th>\n",
       "      <th>Pontos</th>\n",
       "    </tr>\n",
       "  </thead>\n",
       "  <tbody>\n",
       "    <tr>\n",
       "      <th>4</th>\n",
       "      <td>Vasco</td>\n",
       "      <td>10</td>\n",
       "      <td>2</td>\n",
       "      <td>5</td>\n",
       "      <td>3</td>\n",
       "      <td>10</td>\n",
       "      <td>15</td>\n",
       "      <td>-5</td>\n",
       "      <td>11</td>\n",
       "    </tr>\n",
       "  </tbody>\n",
       "</table>\n",
       "</div>"
      ],
      "text/plain": [
       "    Time  Partidas_Jogadas  Vitorias  Empates  Derrotas  Gols_Pro  \\\n",
       "4  Vasco                10         2        5         3        10   \n",
       "\n",
       "   Gols_Contra  Saldo_Gols  Pontos  \n",
       "4           15          -5      11  "
      ]
     },
     "execution_count": 26,
     "metadata": {},
     "output_type": "execute_result"
    }
   ],
   "source": [
    "#Time com mais vitorias e menos vitorias\n",
    "time_mais_vitorias = df[df[\"Vitorias\"] == df[\"Vitorias\"].min()]\n",
    "time_mais_vitorias"
   ]
  },
  {
   "cell_type": "code",
   "execution_count": 27,
   "id": "9153e846",
   "metadata": {},
   "outputs": [
    {
     "data": {
      "text/plain": [
       "Gols_Pro\n",
       "25    1\n",
       "20    1\n",
       "12    1\n",
       "15    1\n",
       "10    1\n",
       "Name: count, dtype: int64"
      ]
     },
     "execution_count": 27,
     "metadata": {},
     "output_type": "execute_result"
    }
   ],
   "source": [
    "# Distribuição de Gols pró\n",
    "df[\"Gols_Pro\"].value_counts()"
   ]
  },
  {
   "cell_type": "code",
   "execution_count": 28,
   "id": "e68d38b3",
   "metadata": {},
   "outputs": [
    {
     "data": {
      "text/plain": [
       "np.float64(0.9577302419246964)"
      ]
     },
     "execution_count": 28,
     "metadata": {},
     "output_type": "execute_result"
    }
   ],
   "source": [
    "#Relação entre Gols Pro e pontos\n",
    "correlacao = df[\"Gols_Pro\"].corr(df['Pontos'])\n",
    "correlacao"
   ]
  },
  {
   "cell_type": "code",
   "execution_count": 29,
   "metadata": {},
   "outputs": [
    {
     "data": {
      "text/plain": [
       "np.float64(-0.8935086257186198)"
      ]
     },
     "execution_count": 29,
     "metadata": {},
     "output_type": "execute_result"
    }
   ],
   "source": [
    "# Distribuição de Gols contra\n",
    "correlacao = df[\"Gols_Contra\"].corr(df['Pontos'])\n",
    "correlacao"
   ]
  }
 ],
 "metadata": {
  "kernelspec": {
   "display_name": ".venv",
   "language": "python",
   "name": "python3"
  },
  "language_info": {
   "codemirror_mode": {
    "name": "ipython",
    "version": 3
   },
   "file_extension": ".py",
   "mimetype": "text/x-python",
   "name": "python",
   "nbconvert_exporter": "python",
   "pygments_lexer": "ipython3",
   "version": "3.13.2"
  }
 },
 "nbformat": 4,
 "nbformat_minor": 5
}
