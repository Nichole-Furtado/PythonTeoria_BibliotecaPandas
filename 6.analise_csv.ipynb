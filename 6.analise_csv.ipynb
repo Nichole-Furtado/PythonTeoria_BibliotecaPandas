{
 "cells": [
  {
   "cell_type": "code",
   "execution_count": 1,
   "id": "81fdcf17",
   "metadata": {},
   "outputs": [],
   "source": [
    "import pandas as pd"
   ]
  },
  {
   "cell_type": "code",
   "execution_count": 4,
   "id": "bf42e375",
   "metadata": {},
   "outputs": [
    {
     "data": {
      "application/vnd.microsoft.datawrangler.viewer.v0+json": {
       "columns": [
        {
         "name": "index",
         "rawType": "int64",
         "type": "integer"
        },
        {
         "name": "Produto",
         "rawType": "object",
         "type": "string"
        },
        {
         "name": "Categoria",
         "rawType": "object",
         "type": "string"
        },
        {
         "name": "Preço",
         "rawType": "float64",
         "type": "float"
        },
        {
         "name": "Quantidade",
         "rawType": "int64",
         "type": "integer"
        },
        {
         "name": "Data_Venda",
         "rawType": "object",
         "type": "string"
        }
       ],
       "conversionMethod": "pd.DataFrame",
       "ref": "a3940d50-d71a-451f-a5cc-0b06a899cb3b",
       "rows": [
        [
         "0",
         "Camisa",
         "Roupas",
         "50.0",
         "10",
         "01/01/2023"
        ],
        [
         "1",
         "Calça",
         "Roupas",
         "100.0",
         "15",
         "02/01/2023"
        ],
        [
         "2",
         "Saia",
         "Roupas",
         "80.0",
         "20",
         "03/01/2023"
        ],
        [
         "3",
         "Camiseta",
         "Roupas",
         "45.0",
         "30",
         "04/01/2023"
        ],
        [
         "4",
         "Jaqueta",
         "Roupas",
         "120.0",
         "5",
         "05/01/2023"
        ],
        [
         "5",
         "Vestido",
         "Roupas",
         "90.0",
         "12",
         "06/01/2023"
        ],
        [
         "6",
         "Bermuda",
         "Roupas",
         "60.0",
         "18",
         "07/01/2023"
        ],
        [
         "7",
         "Sapato",
         "Calçados",
         "150.0",
         "7",
         "08/01/2023"
        ],
        [
         "8",
         "Sandália",
         "Calçados",
         "70.0",
         "25",
         "09/01/2023"
        ],
        [
         "9",
         "Tênis",
         "Calçados",
         "200.0",
         "8",
         "10/01/2023"
        ],
        [
         "10",
         "Botas",
         "Calçados",
         "180.0",
         "6",
         "11/01/2023"
        ],
        [
         "11",
         "Mochila",
         "Acessórios",
         "70.0",
         "15",
         "12/01/2023"
        ],
        [
         "12",
         "Cinto",
         "Acessórios",
         "40.0",
         "22",
         "13/01/2023"
        ],
        [
         "13",
         "Óculos",
         "Acessórios",
         "120.0",
         "10",
         "14/01/2023"
        ],
        [
         "14",
         "Relógio",
         "Acessórios",
         "250.0",
         "4",
         "15/01/2023"
        ],
        [
         "15",
         "Brinco",
         "Acessórios",
         "35.0",
         "30",
         "16/01/2023"
        ],
        [
         "16",
         "Blusa",
         "Roupas",
         "55.0",
         "14",
         "17/01/2023"
        ],
        [
         "17",
         "Shorts",
         "Roupas",
         "65.0",
         "19",
         "18/01/2023"
        ],
        [
         "18",
         "Suéter",
         "Roupas",
         "95.0",
         "9",
         "19/01/2023"
        ],
        [
         "19",
         "Saia longa",
         "Roupas",
         "75.0",
         "11",
         "20/01/2023"
        ]
       ],
       "shape": {
        "columns": 5,
        "rows": 20
       }
      },
      "text/html": [
       "<div>\n",
       "<style scoped>\n",
       "    .dataframe tbody tr th:only-of-type {\n",
       "        vertical-align: middle;\n",
       "    }\n",
       "\n",
       "    .dataframe tbody tr th {\n",
       "        vertical-align: top;\n",
       "    }\n",
       "\n",
       "    .dataframe thead th {\n",
       "        text-align: right;\n",
       "    }\n",
       "</style>\n",
       "<table border=\"1\" class=\"dataframe\">\n",
       "  <thead>\n",
       "    <tr style=\"text-align: right;\">\n",
       "      <th></th>\n",
       "      <th>Produto</th>\n",
       "      <th>Categoria</th>\n",
       "      <th>Preço</th>\n",
       "      <th>Quantidade</th>\n",
       "      <th>Data_Venda</th>\n",
       "    </tr>\n",
       "  </thead>\n",
       "  <tbody>\n",
       "    <tr>\n",
       "      <th>0</th>\n",
       "      <td>Camisa</td>\n",
       "      <td>Roupas</td>\n",
       "      <td>50.0</td>\n",
       "      <td>10</td>\n",
       "      <td>01/01/2023</td>\n",
       "    </tr>\n",
       "    <tr>\n",
       "      <th>1</th>\n",
       "      <td>Calça</td>\n",
       "      <td>Roupas</td>\n",
       "      <td>100.0</td>\n",
       "      <td>15</td>\n",
       "      <td>02/01/2023</td>\n",
       "    </tr>\n",
       "    <tr>\n",
       "      <th>2</th>\n",
       "      <td>Saia</td>\n",
       "      <td>Roupas</td>\n",
       "      <td>80.0</td>\n",
       "      <td>20</td>\n",
       "      <td>03/01/2023</td>\n",
       "    </tr>\n",
       "    <tr>\n",
       "      <th>3</th>\n",
       "      <td>Camiseta</td>\n",
       "      <td>Roupas</td>\n",
       "      <td>45.0</td>\n",
       "      <td>30</td>\n",
       "      <td>04/01/2023</td>\n",
       "    </tr>\n",
       "    <tr>\n",
       "      <th>4</th>\n",
       "      <td>Jaqueta</td>\n",
       "      <td>Roupas</td>\n",
       "      <td>120.0</td>\n",
       "      <td>5</td>\n",
       "      <td>05/01/2023</td>\n",
       "    </tr>\n",
       "    <tr>\n",
       "      <th>5</th>\n",
       "      <td>Vestido</td>\n",
       "      <td>Roupas</td>\n",
       "      <td>90.0</td>\n",
       "      <td>12</td>\n",
       "      <td>06/01/2023</td>\n",
       "    </tr>\n",
       "    <tr>\n",
       "      <th>6</th>\n",
       "      <td>Bermuda</td>\n",
       "      <td>Roupas</td>\n",
       "      <td>60.0</td>\n",
       "      <td>18</td>\n",
       "      <td>07/01/2023</td>\n",
       "    </tr>\n",
       "    <tr>\n",
       "      <th>7</th>\n",
       "      <td>Sapato</td>\n",
       "      <td>Calçados</td>\n",
       "      <td>150.0</td>\n",
       "      <td>7</td>\n",
       "      <td>08/01/2023</td>\n",
       "    </tr>\n",
       "    <tr>\n",
       "      <th>8</th>\n",
       "      <td>Sandália</td>\n",
       "      <td>Calçados</td>\n",
       "      <td>70.0</td>\n",
       "      <td>25</td>\n",
       "      <td>09/01/2023</td>\n",
       "    </tr>\n",
       "    <tr>\n",
       "      <th>9</th>\n",
       "      <td>Tênis</td>\n",
       "      <td>Calçados</td>\n",
       "      <td>200.0</td>\n",
       "      <td>8</td>\n",
       "      <td>10/01/2023</td>\n",
       "    </tr>\n",
       "    <tr>\n",
       "      <th>10</th>\n",
       "      <td>Botas</td>\n",
       "      <td>Calçados</td>\n",
       "      <td>180.0</td>\n",
       "      <td>6</td>\n",
       "      <td>11/01/2023</td>\n",
       "    </tr>\n",
       "    <tr>\n",
       "      <th>11</th>\n",
       "      <td>Mochila</td>\n",
       "      <td>Acessórios</td>\n",
       "      <td>70.0</td>\n",
       "      <td>15</td>\n",
       "      <td>12/01/2023</td>\n",
       "    </tr>\n",
       "    <tr>\n",
       "      <th>12</th>\n",
       "      <td>Cinto</td>\n",
       "      <td>Acessórios</td>\n",
       "      <td>40.0</td>\n",
       "      <td>22</td>\n",
       "      <td>13/01/2023</td>\n",
       "    </tr>\n",
       "    <tr>\n",
       "      <th>13</th>\n",
       "      <td>Óculos</td>\n",
       "      <td>Acessórios</td>\n",
       "      <td>120.0</td>\n",
       "      <td>10</td>\n",
       "      <td>14/01/2023</td>\n",
       "    </tr>\n",
       "    <tr>\n",
       "      <th>14</th>\n",
       "      <td>Relógio</td>\n",
       "      <td>Acessórios</td>\n",
       "      <td>250.0</td>\n",
       "      <td>4</td>\n",
       "      <td>15/01/2023</td>\n",
       "    </tr>\n",
       "    <tr>\n",
       "      <th>15</th>\n",
       "      <td>Brinco</td>\n",
       "      <td>Acessórios</td>\n",
       "      <td>35.0</td>\n",
       "      <td>30</td>\n",
       "      <td>16/01/2023</td>\n",
       "    </tr>\n",
       "    <tr>\n",
       "      <th>16</th>\n",
       "      <td>Blusa</td>\n",
       "      <td>Roupas</td>\n",
       "      <td>55.0</td>\n",
       "      <td>14</td>\n",
       "      <td>17/01/2023</td>\n",
       "    </tr>\n",
       "    <tr>\n",
       "      <th>17</th>\n",
       "      <td>Shorts</td>\n",
       "      <td>Roupas</td>\n",
       "      <td>65.0</td>\n",
       "      <td>19</td>\n",
       "      <td>18/01/2023</td>\n",
       "    </tr>\n",
       "    <tr>\n",
       "      <th>18</th>\n",
       "      <td>Suéter</td>\n",
       "      <td>Roupas</td>\n",
       "      <td>95.0</td>\n",
       "      <td>9</td>\n",
       "      <td>19/01/2023</td>\n",
       "    </tr>\n",
       "    <tr>\n",
       "      <th>19</th>\n",
       "      <td>Saia longa</td>\n",
       "      <td>Roupas</td>\n",
       "      <td>75.0</td>\n",
       "      <td>11</td>\n",
       "      <td>20/01/2023</td>\n",
       "    </tr>\n",
       "  </tbody>\n",
       "</table>\n",
       "</div>"
      ],
      "text/plain": [
       "       Produto   Categoria  Preço  Quantidade  Data_Venda\n",
       "0       Camisa      Roupas   50.0          10  01/01/2023\n",
       "1        Calça      Roupas  100.0          15  02/01/2023\n",
       "2         Saia      Roupas   80.0          20  03/01/2023\n",
       "3     Camiseta      Roupas   45.0          30  04/01/2023\n",
       "4      Jaqueta      Roupas  120.0           5  05/01/2023\n",
       "5      Vestido      Roupas   90.0          12  06/01/2023\n",
       "6      Bermuda      Roupas   60.0          18  07/01/2023\n",
       "7       Sapato    Calçados  150.0           7  08/01/2023\n",
       "8     Sandália    Calçados   70.0          25  09/01/2023\n",
       "9        Tênis    Calçados  200.0           8  10/01/2023\n",
       "10       Botas    Calçados  180.0           6  11/01/2023\n",
       "11     Mochila  Acessórios   70.0          15  12/01/2023\n",
       "12       Cinto  Acessórios   40.0          22  13/01/2023\n",
       "13      Óculos  Acessórios  120.0          10  14/01/2023\n",
       "14     Relógio  Acessórios  250.0           4  15/01/2023\n",
       "15      Brinco  Acessórios   35.0          30  16/01/2023\n",
       "16       Blusa      Roupas   55.0          14  17/01/2023\n",
       "17      Shorts      Roupas   65.0          19  18/01/2023\n",
       "18      Suéter      Roupas   95.0           9  19/01/2023\n",
       "19  Saia longa      Roupas   75.0          11  20/01/2023"
      ]
     },
     "execution_count": 4,
     "metadata": {},
     "output_type": "execute_result"
    }
   ],
   "source": [
    "df_produtos = pd.read_csv(\"dados/dados.csv\", sep=';')\n",
    "df_produtos"
   ]
  },
  {
   "cell_type": "code",
   "execution_count": null,
   "id": "c5d84ea6",
   "metadata": {},
   "outputs": [],
   "source": [
    "df_produtos.dtypes"
   ]
  },
  {
   "cell_type": "code",
   "execution_count": 5,
   "id": "2d8c100c",
   "metadata": {},
   "outputs": [],
   "source": [
    "df_produtos ['Quantidade'] = pd.to_numeric(df_produtos['Quantidade'])\n",
    "df_produtos['Preço'] = pd.to_numeric(df_produtos['Preço'])"
   ]
  },
  {
   "cell_type": "code",
   "execution_count": 6,
   "id": "8534943d",
   "metadata": {},
   "outputs": [
    {
     "data": {
      "application/vnd.microsoft.datawrangler.viewer.v0+json": {
       "columns": [
        {
         "name": "Categoria",
         "rawType": "object",
         "type": "string"
        },
        {
         "name": "Quantidade",
         "rawType": "int64",
         "type": "integer"
        },
        {
         "name": "Preço",
         "rawType": "float64",
         "type": "float"
        }
       ],
       "conversionMethod": "pd.DataFrame",
       "ref": "6674d518-2da0-4b93-8bb9-e774eb7723b6",
       "rows": [
        [
         "Acessórios",
         "81",
         "515.0"
        ],
        [
         "Calçados",
         "46",
         "600.0"
        ],
        [
         "Roupas",
         "163",
         "835.0"
        ]
       ],
       "shape": {
        "columns": 2,
        "rows": 3
       }
      },
      "text/html": [
       "<div>\n",
       "<style scoped>\n",
       "    .dataframe tbody tr th:only-of-type {\n",
       "        vertical-align: middle;\n",
       "    }\n",
       "\n",
       "    .dataframe tbody tr th {\n",
       "        vertical-align: top;\n",
       "    }\n",
       "\n",
       "    .dataframe thead th {\n",
       "        text-align: right;\n",
       "    }\n",
       "</style>\n",
       "<table border=\"1\" class=\"dataframe\">\n",
       "  <thead>\n",
       "    <tr style=\"text-align: right;\">\n",
       "      <th></th>\n",
       "      <th>Quantidade</th>\n",
       "      <th>Preço</th>\n",
       "    </tr>\n",
       "    <tr>\n",
       "      <th>Categoria</th>\n",
       "      <th></th>\n",
       "      <th></th>\n",
       "    </tr>\n",
       "  </thead>\n",
       "  <tbody>\n",
       "    <tr>\n",
       "      <th>Acessórios</th>\n",
       "      <td>81</td>\n",
       "      <td>515.0</td>\n",
       "    </tr>\n",
       "    <tr>\n",
       "      <th>Calçados</th>\n",
       "      <td>46</td>\n",
       "      <td>600.0</td>\n",
       "    </tr>\n",
       "    <tr>\n",
       "      <th>Roupas</th>\n",
       "      <td>163</td>\n",
       "      <td>835.0</td>\n",
       "    </tr>\n",
       "  </tbody>\n",
       "</table>\n",
       "</div>"
      ],
      "text/plain": [
       "            Quantidade  Preço\n",
       "Categoria                    \n",
       "Acessórios          81  515.0\n",
       "Calçados            46  600.0\n",
       "Roupas             163  835.0"
      ]
     },
     "execution_count": 6,
     "metadata": {},
     "output_type": "execute_result"
    }
   ],
   "source": [
    "#criar uma cópia do dataframe\n",
    "vendas_categoria = df_produtos.groupby(['Categoria'])[['Quantidade', 'Preço']].sum()\n",
    "vendas_categoria"
   ]
  },
  {
   "cell_type": "code",
   "execution_count": 12,
   "id": "299ad12c",
   "metadata": {},
   "outputs": [
    {
     "data": {
      "text/plain": [
       "'Brinco'"
      ]
     },
     "execution_count": 12,
     "metadata": {},
     "output_type": "execute_result"
    }
   ],
   "source": [
    "# Qual foi o produto mais vendido?\n",
    "produto_mais_vendido = df_produtos.groupby('Produto')['Quantidade'].sum().idxmax()\n",
    "#idmax() retorna o índice do maior valor\n",
    "produto_mais_vendido"
   ]
  },
  {
   "cell_type": "code",
   "execution_count": 13,
   "id": "782ecb9a",
   "metadata": {},
   "outputs": [
    {
     "data": {
      "application/vnd.microsoft.datawrangler.viewer.v0+json": {
       "columns": [
        {
         "name": "Produto",
         "rawType": "object",
         "type": "string"
        },
        {
         "name": "Quantidade",
         "rawType": "int64",
         "type": "integer"
        }
       ],
       "conversionMethod": "pd.DataFrame",
       "ref": "716b721b-0f99-46be-82d5-a8ddc4a08f84",
       "rows": [
        [
         "Bermuda",
         "18"
        ],
        [
         "Blusa",
         "14"
        ],
        [
         "Botas",
         "6"
        ],
        [
         "Brinco",
         "30"
        ],
        [
         "Calça",
         "15"
        ],
        [
         "Camisa",
         "10"
        ],
        [
         "Camiseta",
         "30"
        ],
        [
         "Cinto",
         "22"
        ],
        [
         "Jaqueta",
         "5"
        ],
        [
         "Mochila",
         "15"
        ],
        [
         "Relógio",
         "4"
        ],
        [
         "Saia",
         "20"
        ],
        [
         "Saia longa",
         "11"
        ],
        [
         "Sandália",
         "25"
        ],
        [
         "Sapato",
         "7"
        ],
        [
         "Shorts",
         "19"
        ],
        [
         "Suéter",
         "9"
        ],
        [
         "Tênis",
         "8"
        ],
        [
         "Vestido",
         "12"
        ],
        [
         "Óculos",
         "10"
        ]
       ],
       "shape": {
        "columns": 1,
        "rows": 20
       }
      },
      "text/html": [
       "<div>\n",
       "<style scoped>\n",
       "    .dataframe tbody tr th:only-of-type {\n",
       "        vertical-align: middle;\n",
       "    }\n",
       "\n",
       "    .dataframe tbody tr th {\n",
       "        vertical-align: top;\n",
       "    }\n",
       "\n",
       "    .dataframe thead th {\n",
       "        text-align: right;\n",
       "    }\n",
       "</style>\n",
       "<table border=\"1\" class=\"dataframe\">\n",
       "  <thead>\n",
       "    <tr style=\"text-align: right;\">\n",
       "      <th></th>\n",
       "      <th>Quantidade</th>\n",
       "    </tr>\n",
       "    <tr>\n",
       "      <th>Produto</th>\n",
       "      <th></th>\n",
       "    </tr>\n",
       "  </thead>\n",
       "  <tbody>\n",
       "    <tr>\n",
       "      <th>Bermuda</th>\n",
       "      <td>18</td>\n",
       "    </tr>\n",
       "    <tr>\n",
       "      <th>Blusa</th>\n",
       "      <td>14</td>\n",
       "    </tr>\n",
       "    <tr>\n",
       "      <th>Botas</th>\n",
       "      <td>6</td>\n",
       "    </tr>\n",
       "    <tr>\n",
       "      <th>Brinco</th>\n",
       "      <td>30</td>\n",
       "    </tr>\n",
       "    <tr>\n",
       "      <th>Calça</th>\n",
       "      <td>15</td>\n",
       "    </tr>\n",
       "    <tr>\n",
       "      <th>Camisa</th>\n",
       "      <td>10</td>\n",
       "    </tr>\n",
       "    <tr>\n",
       "      <th>Camiseta</th>\n",
       "      <td>30</td>\n",
       "    </tr>\n",
       "    <tr>\n",
       "      <th>Cinto</th>\n",
       "      <td>22</td>\n",
       "    </tr>\n",
       "    <tr>\n",
       "      <th>Jaqueta</th>\n",
       "      <td>5</td>\n",
       "    </tr>\n",
       "    <tr>\n",
       "      <th>Mochila</th>\n",
       "      <td>15</td>\n",
       "    </tr>\n",
       "    <tr>\n",
       "      <th>Relógio</th>\n",
       "      <td>4</td>\n",
       "    </tr>\n",
       "    <tr>\n",
       "      <th>Saia</th>\n",
       "      <td>20</td>\n",
       "    </tr>\n",
       "    <tr>\n",
       "      <th>Saia longa</th>\n",
       "      <td>11</td>\n",
       "    </tr>\n",
       "    <tr>\n",
       "      <th>Sandália</th>\n",
       "      <td>25</td>\n",
       "    </tr>\n",
       "    <tr>\n",
       "      <th>Sapato</th>\n",
       "      <td>7</td>\n",
       "    </tr>\n",
       "    <tr>\n",
       "      <th>Shorts</th>\n",
       "      <td>19</td>\n",
       "    </tr>\n",
       "    <tr>\n",
       "      <th>Suéter</th>\n",
       "      <td>9</td>\n",
       "    </tr>\n",
       "    <tr>\n",
       "      <th>Tênis</th>\n",
       "      <td>8</td>\n",
       "    </tr>\n",
       "    <tr>\n",
       "      <th>Vestido</th>\n",
       "      <td>12</td>\n",
       "    </tr>\n",
       "    <tr>\n",
       "      <th>Óculos</th>\n",
       "      <td>10</td>\n",
       "    </tr>\n",
       "  </tbody>\n",
       "</table>\n",
       "</div>"
      ],
      "text/plain": [
       "            Quantidade\n",
       "Produto               \n",
       "Bermuda             18\n",
       "Blusa               14\n",
       "Botas                6\n",
       "Brinco              30\n",
       "Calça               15\n",
       "Camisa              10\n",
       "Camiseta            30\n",
       "Cinto               22\n",
       "Jaqueta              5\n",
       "Mochila             15\n",
       "Relógio              4\n",
       "Saia                20\n",
       "Saia longa          11\n",
       "Sandália            25\n",
       "Sapato               7\n",
       "Shorts              19\n",
       "Suéter               9\n",
       "Tênis                8\n",
       "Vestido             12\n",
       "Óculos              10"
      ]
     },
     "execution_count": 13,
     "metadata": {},
     "output_type": "execute_result"
    }
   ],
   "source": [
    "#Total de unidades vendidas por produto\n",
    "produto_mais_vendido = df_produtos.groupby(['Produto'])[['Quantidade']].sum()\n",
    "produto_mais_vendido"
   ]
  },
  {
   "cell_type": "code",
   "execution_count": 14,
   "id": "8d9f2a1b",
   "metadata": {},
   "outputs": [
    {
     "data": {
      "application/vnd.microsoft.datawrangler.viewer.v0+json": {
       "columns": [
        {
         "name": "Produto",
         "rawType": "object",
         "type": "string"
        },
        {
         "name": "Preço",
         "rawType": "float64",
         "type": "float"
        }
       ],
       "conversionMethod": "pd.DataFrame",
       "ref": "e75c5e43-48be-47a7-b3b6-a6d84c3b4558",
       "rows": [
        [
         "Bermuda",
         "60.0"
        ],
        [
         "Blusa",
         "55.0"
        ],
        [
         "Botas",
         "180.0"
        ],
        [
         "Brinco",
         "35.0"
        ],
        [
         "Calça",
         "100.0"
        ],
        [
         "Camisa",
         "50.0"
        ],
        [
         "Camiseta",
         "45.0"
        ],
        [
         "Cinto",
         "40.0"
        ],
        [
         "Jaqueta",
         "120.0"
        ],
        [
         "Mochila",
         "70.0"
        ],
        [
         "Relógio",
         "250.0"
        ],
        [
         "Saia",
         "80.0"
        ],
        [
         "Saia longa",
         "75.0"
        ],
        [
         "Sandália",
         "70.0"
        ],
        [
         "Sapato",
         "150.0"
        ],
        [
         "Shorts",
         "65.0"
        ],
        [
         "Suéter",
         "95.0"
        ],
        [
         "Tênis",
         "200.0"
        ],
        [
         "Vestido",
         "90.0"
        ],
        [
         "Óculos",
         "120.0"
        ]
       ],
       "shape": {
        "columns": 1,
        "rows": 20
       }
      },
      "text/html": [
       "<div>\n",
       "<style scoped>\n",
       "    .dataframe tbody tr th:only-of-type {\n",
       "        vertical-align: middle;\n",
       "    }\n",
       "\n",
       "    .dataframe tbody tr th {\n",
       "        vertical-align: top;\n",
       "    }\n",
       "\n",
       "    .dataframe thead th {\n",
       "        text-align: right;\n",
       "    }\n",
       "</style>\n",
       "<table border=\"1\" class=\"dataframe\">\n",
       "  <thead>\n",
       "    <tr style=\"text-align: right;\">\n",
       "      <th></th>\n",
       "      <th>Preço</th>\n",
       "    </tr>\n",
       "    <tr>\n",
       "      <th>Produto</th>\n",
       "      <th></th>\n",
       "    </tr>\n",
       "  </thead>\n",
       "  <tbody>\n",
       "    <tr>\n",
       "      <th>Bermuda</th>\n",
       "      <td>60.0</td>\n",
       "    </tr>\n",
       "    <tr>\n",
       "      <th>Blusa</th>\n",
       "      <td>55.0</td>\n",
       "    </tr>\n",
       "    <tr>\n",
       "      <th>Botas</th>\n",
       "      <td>180.0</td>\n",
       "    </tr>\n",
       "    <tr>\n",
       "      <th>Brinco</th>\n",
       "      <td>35.0</td>\n",
       "    </tr>\n",
       "    <tr>\n",
       "      <th>Calça</th>\n",
       "      <td>100.0</td>\n",
       "    </tr>\n",
       "    <tr>\n",
       "      <th>Camisa</th>\n",
       "      <td>50.0</td>\n",
       "    </tr>\n",
       "    <tr>\n",
       "      <th>Camiseta</th>\n",
       "      <td>45.0</td>\n",
       "    </tr>\n",
       "    <tr>\n",
       "      <th>Cinto</th>\n",
       "      <td>40.0</td>\n",
       "    </tr>\n",
       "    <tr>\n",
       "      <th>Jaqueta</th>\n",
       "      <td>120.0</td>\n",
       "    </tr>\n",
       "    <tr>\n",
       "      <th>Mochila</th>\n",
       "      <td>70.0</td>\n",
       "    </tr>\n",
       "    <tr>\n",
       "      <th>Relógio</th>\n",
       "      <td>250.0</td>\n",
       "    </tr>\n",
       "    <tr>\n",
       "      <th>Saia</th>\n",
       "      <td>80.0</td>\n",
       "    </tr>\n",
       "    <tr>\n",
       "      <th>Saia longa</th>\n",
       "      <td>75.0</td>\n",
       "    </tr>\n",
       "    <tr>\n",
       "      <th>Sandália</th>\n",
       "      <td>70.0</td>\n",
       "    </tr>\n",
       "    <tr>\n",
       "      <th>Sapato</th>\n",
       "      <td>150.0</td>\n",
       "    </tr>\n",
       "    <tr>\n",
       "      <th>Shorts</th>\n",
       "      <td>65.0</td>\n",
       "    </tr>\n",
       "    <tr>\n",
       "      <th>Suéter</th>\n",
       "      <td>95.0</td>\n",
       "    </tr>\n",
       "    <tr>\n",
       "      <th>Tênis</th>\n",
       "      <td>200.0</td>\n",
       "    </tr>\n",
       "    <tr>\n",
       "      <th>Vestido</th>\n",
       "      <td>90.0</td>\n",
       "    </tr>\n",
       "    <tr>\n",
       "      <th>Óculos</th>\n",
       "      <td>120.0</td>\n",
       "    </tr>\n",
       "  </tbody>\n",
       "</table>\n",
       "</div>"
      ],
      "text/plain": [
       "            Preço\n",
       "Produto          \n",
       "Bermuda      60.0\n",
       "Blusa        55.0\n",
       "Botas       180.0\n",
       "Brinco       35.0\n",
       "Calça       100.0\n",
       "Camisa       50.0\n",
       "Camiseta     45.0\n",
       "Cinto        40.0\n",
       "Jaqueta     120.0\n",
       "Mochila      70.0\n",
       "Relógio     250.0\n",
       "Saia         80.0\n",
       "Saia longa   75.0\n",
       "Sandália     70.0\n",
       "Sapato      150.0\n",
       "Shorts       65.0\n",
       "Suéter       95.0\n",
       "Tênis       200.0\n",
       "Vestido      90.0\n",
       "Óculos      120.0"
      ]
     },
     "execution_count": 14,
     "metadata": {},
     "output_type": "execute_result"
    }
   ],
   "source": [
    "#Preço médio por produto\n",
    "media_preco_produto = df_produtos.groupby(['Produto'])[['Preço']].mean()\n",
    "media_preco_produto"
   ]
  },
  {
   "cell_type": "code",
   "execution_count": null,
   "id": "9f9aca43",
   "metadata": {},
   "outputs": [
    {
     "data": {
      "text/plain": [
       "np.float64(-0.7228821786680254)"
      ]
     },
     "execution_count": 16,
     "metadata": {},
     "output_type": "execute_result"
    }
   ],
   "source": [
    "#Correlação entre Unidades Vendidas e Preço Unitário\n",
    "correlacao = df_produtos['Quantidade'].corr(df_produtos['Preço'])\n",
    "correlacao\n",
    "# Quer dizer que quanto mais unidades vendidas, maior o preço unitário? Não necessariamente. A correlação não implica causalidade.\n",
    "# Pode ser que o preço unitário seja maior para produtos que são vendidos em menor quantidade."
   ]
  },
  {
   "cell_type": "code",
   "execution_count": 28,
   "id": "f00e4d39",
   "metadata": {},
   "outputs": [],
   "source": [
    "vendas_categoria = df_produtos.groupby('Categoria')['Quantidade'].sum()\n",
    "vendas_categoria_df = vendas_categoria.reset_index()\n",
    "vendas_categoria_df.columns = ['Categoria', 'Unidades Vendidas']\n"
   ]
  },
  {
   "cell_type": "code",
   "execution_count": 29,
   "id": "0915e287",
   "metadata": {},
   "outputs": [
    {
     "data": {
      "application/vnd.microsoft.datawrangler.viewer.v0+json": {
       "columns": [
        {
         "name": "index",
         "rawType": "int64",
         "type": "integer"
        },
        {
         "name": "Categoria",
         "rawType": "object",
         "type": "string"
        },
        {
         "name": "Unidades Vendidas",
         "rawType": "int64",
         "type": "integer"
        }
       ],
       "conversionMethod": "pd.DataFrame",
       "ref": "20785a0f-5961-44fb-9f1f-d32e40674873",
       "rows": [
        [
         "0",
         "Acessórios",
         "81"
        ],
        [
         "1",
         "Calçados",
         "46"
        ],
        [
         "2",
         "Roupas",
         "163"
        ]
       ],
       "shape": {
        "columns": 2,
        "rows": 3
       }
      },
      "text/html": [
       "<div>\n",
       "<style scoped>\n",
       "    .dataframe tbody tr th:only-of-type {\n",
       "        vertical-align: middle;\n",
       "    }\n",
       "\n",
       "    .dataframe tbody tr th {\n",
       "        vertical-align: top;\n",
       "    }\n",
       "\n",
       "    .dataframe thead th {\n",
       "        text-align: right;\n",
       "    }\n",
       "</style>\n",
       "<table border=\"1\" class=\"dataframe\">\n",
       "  <thead>\n",
       "    <tr style=\"text-align: right;\">\n",
       "      <th></th>\n",
       "      <th>Categoria</th>\n",
       "      <th>Unidades Vendidas</th>\n",
       "    </tr>\n",
       "  </thead>\n",
       "  <tbody>\n",
       "    <tr>\n",
       "      <th>0</th>\n",
       "      <td>Acessórios</td>\n",
       "      <td>81</td>\n",
       "    </tr>\n",
       "    <tr>\n",
       "      <th>1</th>\n",
       "      <td>Calçados</td>\n",
       "      <td>46</td>\n",
       "    </tr>\n",
       "    <tr>\n",
       "      <th>2</th>\n",
       "      <td>Roupas</td>\n",
       "      <td>163</td>\n",
       "    </tr>\n",
       "  </tbody>\n",
       "</table>\n",
       "</div>"
      ],
      "text/plain": [
       "    Categoria  Unidades Vendidas\n",
       "0  Acessórios                 81\n",
       "1    Calçados                 46\n",
       "2      Roupas                163"
      ]
     },
     "execution_count": 29,
     "metadata": {},
     "output_type": "execute_result"
    }
   ],
   "source": [
    "vendas_categoria_df"
   ]
  },
  {
   "cell_type": "code",
   "execution_count": 30,
   "id": "b4e24921",
   "metadata": {},
   "outputs": [],
   "source": [
    "vendas_categoria_df.to_csv('dados/vendas_categoria.csv', sep=';', index=False)\n",
    "# Exportando o dataframe para um arquivo CSV"
   ]
  },
  {
   "cell_type": "code",
   "execution_count": null,
   "id": "6d49b9d8",
   "metadata": {},
   "outputs": [],
   "source": []
  }
 ],
 "metadata": {
  "kernelspec": {
   "display_name": ".venv",
   "language": "python",
   "name": "python3"
  },
  "language_info": {
   "codemirror_mode": {
    "name": "ipython",
    "version": 3
   },
   "file_extension": ".py",
   "mimetype": "text/x-python",
   "name": "python",
   "nbconvert_exporter": "python",
   "pygments_lexer": "ipython3",
   "version": "3.13.2"
  }
 },
 "nbformat": 4,
 "nbformat_minor": 5
}
