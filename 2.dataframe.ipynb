{
 "cells": [
  {
   "cell_type": "code",
   "execution_count": 1,
   "id": "770c230a",
   "metadata": {},
   "outputs": [],
   "source": [
    "import pandas as pd"
   ]
  },
  {
   "cell_type": "code",
   "execution_count": 2,
   "metadata": {},
   "outputs": [],
   "source": [
    "dados = {\n",
    "    'nome': ['Ana', 'Bia', 'Carlos', 'Daniel'],\n",
    "    'idade': [23, 34, 45, 56],\n",
    "    'cidade': ['São Paulo', 'Rio de Janeiro', 'Belo Horizonte', 'Curitiba']\n",
    "}"
   ]
  },
  {
   "cell_type": "code",
   "execution_count": 3,
   "id": "9c42a754",
   "metadata": {},
   "outputs": [],
   "source": [
    "df = pd.DataFrame(dados)\n",
    "# Criando um DataFrame a partir de um dicionário"
   ]
  },
  {
   "cell_type": "code",
   "execution_count": 4,
   "id": "19660468",
   "metadata": {},
   "outputs": [
    {
     "data": {
      "application/vnd.microsoft.datawrangler.viewer.v0+json": {
       "columns": [
        {
         "name": "index",
         "rawType": "int64",
         "type": "integer"
        },
        {
         "name": "nome",
         "rawType": "object",
         "type": "string"
        },
        {
         "name": "idade",
         "rawType": "int64",
         "type": "integer"
        },
        {
         "name": "cidade",
         "rawType": "object",
         "type": "string"
        }
       ],
       "conversionMethod": "pd.DataFrame",
       "ref": "427a2c4a-5e99-4896-a6cb-d5c3b895db5e",
       "rows": [
        [
         "0",
         "Ana",
         "23",
         "São Paulo"
        ],
        [
         "1",
         "Bia",
         "34",
         "Rio de Janeiro"
        ],
        [
         "2",
         "Carlos",
         "45",
         "Belo Horizonte"
        ],
        [
         "3",
         "Daniel",
         "56",
         "Curitiba"
        ]
       ],
       "shape": {
        "columns": 3,
        "rows": 4
       }
      },
      "text/html": [
       "<div>\n",
       "<style scoped>\n",
       "    .dataframe tbody tr th:only-of-type {\n",
       "        vertical-align: middle;\n",
       "    }\n",
       "\n",
       "    .dataframe tbody tr th {\n",
       "        vertical-align: top;\n",
       "    }\n",
       "\n",
       "    .dataframe thead th {\n",
       "        text-align: right;\n",
       "    }\n",
       "</style>\n",
       "<table border=\"1\" class=\"dataframe\">\n",
       "  <thead>\n",
       "    <tr style=\"text-align: right;\">\n",
       "      <th></th>\n",
       "      <th>nome</th>\n",
       "      <th>idade</th>\n",
       "      <th>cidade</th>\n",
       "    </tr>\n",
       "  </thead>\n",
       "  <tbody>\n",
       "    <tr>\n",
       "      <th>0</th>\n",
       "      <td>Ana</td>\n",
       "      <td>23</td>\n",
       "      <td>São Paulo</td>\n",
       "    </tr>\n",
       "    <tr>\n",
       "      <th>1</th>\n",
       "      <td>Bia</td>\n",
       "      <td>34</td>\n",
       "      <td>Rio de Janeiro</td>\n",
       "    </tr>\n",
       "    <tr>\n",
       "      <th>2</th>\n",
       "      <td>Carlos</td>\n",
       "      <td>45</td>\n",
       "      <td>Belo Horizonte</td>\n",
       "    </tr>\n",
       "    <tr>\n",
       "      <th>3</th>\n",
       "      <td>Daniel</td>\n",
       "      <td>56</td>\n",
       "      <td>Curitiba</td>\n",
       "    </tr>\n",
       "  </tbody>\n",
       "</table>\n",
       "</div>"
      ],
      "text/plain": [
       "     nome  idade          cidade\n",
       "0     Ana     23       São Paulo\n",
       "1     Bia     34  Rio de Janeiro\n",
       "2  Carlos     45  Belo Horizonte\n",
       "3  Daniel     56        Curitiba"
      ]
     },
     "execution_count": 4,
     "metadata": {},
     "output_type": "execute_result"
    }
   ],
   "source": [
    "df # Exibindo o DataFrame df é variavel que armazena o DataFrame"
   ]
  },
  {
   "cell_type": "code",
   "execution_count": 5,
   "id": "832ff441",
   "metadata": {},
   "outputs": [
    {
     "data": {
      "application/vnd.microsoft.datawrangler.viewer.v0+json": {
       "columns": [
        {
         "name": "index",
         "rawType": "int64",
         "type": "integer"
        },
        {
         "name": "nome",
         "rawType": "object",
         "type": "string"
        },
        {
         "name": "idade",
         "rawType": "int64",
         "type": "integer"
        },
        {
         "name": "cidade",
         "rawType": "object",
         "type": "string"
        }
       ],
       "conversionMethod": "pd.DataFrame",
       "ref": "6defa2d0-3770-4a50-8e41-d2570a3fac1c",
       "rows": [
        [
         "0",
         "Ana",
         "23",
         "São Paulo"
        ]
       ],
       "shape": {
        "columns": 3,
        "rows": 1
       }
      },
      "text/html": [
       "<div>\n",
       "<style scoped>\n",
       "    .dataframe tbody tr th:only-of-type {\n",
       "        vertical-align: middle;\n",
       "    }\n",
       "\n",
       "    .dataframe tbody tr th {\n",
       "        vertical-align: top;\n",
       "    }\n",
       "\n",
       "    .dataframe thead th {\n",
       "        text-align: right;\n",
       "    }\n",
       "</style>\n",
       "<table border=\"1\" class=\"dataframe\">\n",
       "  <thead>\n",
       "    <tr style=\"text-align: right;\">\n",
       "      <th></th>\n",
       "      <th>nome</th>\n",
       "      <th>idade</th>\n",
       "      <th>cidade</th>\n",
       "    </tr>\n",
       "  </thead>\n",
       "  <tbody>\n",
       "    <tr>\n",
       "      <th>0</th>\n",
       "      <td>Ana</td>\n",
       "      <td>23</td>\n",
       "      <td>São Paulo</td>\n",
       "    </tr>\n",
       "  </tbody>\n",
       "</table>\n",
       "</div>"
      ],
      "text/plain": [
       "  nome  idade     cidade\n",
       "0  Ana     23  São Paulo"
      ]
     },
     "execution_count": 5,
     "metadata": {},
     "output_type": "execute_result"
    }
   ],
   "source": [
    "df.head(1) # Exibindo as 5 primeiras linhas do DataFrame,\n",
    " # () sem argumentos, o método head() exibe as 5 primeiras linhas do DataFrame\t"
   ]
  },
  {
   "cell_type": "code",
   "execution_count": 6,
   "id": "d6ddbde0",
   "metadata": {},
   "outputs": [
    {
     "data": {
      "application/vnd.microsoft.datawrangler.viewer.v0+json": {
       "columns": [
        {
         "name": "index",
         "rawType": "int64",
         "type": "integer"
        },
        {
         "name": "nome",
         "rawType": "object",
         "type": "string"
        },
        {
         "name": "idade",
         "rawType": "int64",
         "type": "integer"
        },
        {
         "name": "cidade",
         "rawType": "object",
         "type": "string"
        }
       ],
       "conversionMethod": "pd.DataFrame",
       "ref": "b1d4df67-4ecd-414a-95c3-c099476e2b61",
       "rows": [
        [
         "3",
         "Daniel",
         "56",
         "Curitiba"
        ]
       ],
       "shape": {
        "columns": 3,
        "rows": 1
       }
      },
      "text/html": [
       "<div>\n",
       "<style scoped>\n",
       "    .dataframe tbody tr th:only-of-type {\n",
       "        vertical-align: middle;\n",
       "    }\n",
       "\n",
       "    .dataframe tbody tr th {\n",
       "        vertical-align: top;\n",
       "    }\n",
       "\n",
       "    .dataframe thead th {\n",
       "        text-align: right;\n",
       "    }\n",
       "</style>\n",
       "<table border=\"1\" class=\"dataframe\">\n",
       "  <thead>\n",
       "    <tr style=\"text-align: right;\">\n",
       "      <th></th>\n",
       "      <th>nome</th>\n",
       "      <th>idade</th>\n",
       "      <th>cidade</th>\n",
       "    </tr>\n",
       "  </thead>\n",
       "  <tbody>\n",
       "    <tr>\n",
       "      <th>3</th>\n",
       "      <td>Daniel</td>\n",
       "      <td>56</td>\n",
       "      <td>Curitiba</td>\n",
       "    </tr>\n",
       "  </tbody>\n",
       "</table>\n",
       "</div>"
      ],
      "text/plain": [
       "     nome  idade    cidade\n",
       "3  Daniel     56  Curitiba"
      ]
     },
     "execution_count": 6,
     "metadata": {},
     "output_type": "execute_result"
    }
   ],
   "source": [
    "df.tail(1) # Exibindo as 2 últimas linhas do DataFrame\n",
    "# tail é o oposto de head, ou seja, exibe as últimas linhas do DataFrame"
   ]
  },
  {
   "cell_type": "code",
   "execution_count": 7,
   "id": "3904527a",
   "metadata": {},
   "outputs": [],
   "source": [
    "dados_notas ={\n",
    "    'Nome': ['Ana', 'Bia', 'Carlos', 'Daniel'],\n",
    "    'Matematica': [9, 8, 7, 6],\n",
    "    'Fisica': [7, 8, 9, 6],\n",
    "    'Quimica': [8, 9, 7, 6]\n",
    "}"
   ]
  },
  {
   "cell_type": "code",
   "execution_count": 8,
   "id": "5bf53436",
   "metadata": {},
   "outputs": [],
   "source": [
    "df_notas = pd.DataFrame(dados_notas)"
   ]
  },
  {
   "cell_type": "code",
   "execution_count": 9,
   "id": "3241b094",
   "metadata": {},
   "outputs": [
    {
     "data": {
      "application/vnd.microsoft.datawrangler.viewer.v0+json": {
       "columns": [
        {
         "name": "index",
         "rawType": "int64",
         "type": "integer"
        },
        {
         "name": "Nome",
         "rawType": "object",
         "type": "string"
        },
        {
         "name": "Matematica",
         "rawType": "int64",
         "type": "integer"
        },
        {
         "name": "Fisica",
         "rawType": "int64",
         "type": "integer"
        },
        {
         "name": "Quimica",
         "rawType": "int64",
         "type": "integer"
        }
       ],
       "conversionMethod": "pd.DataFrame",
       "ref": "474f06d6-a0a4-400a-9530-a370c09ae7a2",
       "rows": [
        [
         "0",
         "Ana",
         "9",
         "7",
         "8"
        ],
        [
         "1",
         "Bia",
         "8",
         "8",
         "9"
        ],
        [
         "2",
         "Carlos",
         "7",
         "9",
         "7"
        ],
        [
         "3",
         "Daniel",
         "6",
         "6",
         "6"
        ]
       ],
       "shape": {
        "columns": 4,
        "rows": 4
       }
      },
      "text/html": [
       "<div>\n",
       "<style scoped>\n",
       "    .dataframe tbody tr th:only-of-type {\n",
       "        vertical-align: middle;\n",
       "    }\n",
       "\n",
       "    .dataframe tbody tr th {\n",
       "        vertical-align: top;\n",
       "    }\n",
       "\n",
       "    .dataframe thead th {\n",
       "        text-align: right;\n",
       "    }\n",
       "</style>\n",
       "<table border=\"1\" class=\"dataframe\">\n",
       "  <thead>\n",
       "    <tr style=\"text-align: right;\">\n",
       "      <th></th>\n",
       "      <th>Nome</th>\n",
       "      <th>Matematica</th>\n",
       "      <th>Fisica</th>\n",
       "      <th>Quimica</th>\n",
       "    </tr>\n",
       "  </thead>\n",
       "  <tbody>\n",
       "    <tr>\n",
       "      <th>0</th>\n",
       "      <td>Ana</td>\n",
       "      <td>9</td>\n",
       "      <td>7</td>\n",
       "      <td>8</td>\n",
       "    </tr>\n",
       "    <tr>\n",
       "      <th>1</th>\n",
       "      <td>Bia</td>\n",
       "      <td>8</td>\n",
       "      <td>8</td>\n",
       "      <td>9</td>\n",
       "    </tr>\n",
       "    <tr>\n",
       "      <th>2</th>\n",
       "      <td>Carlos</td>\n",
       "      <td>7</td>\n",
       "      <td>9</td>\n",
       "      <td>7</td>\n",
       "    </tr>\n",
       "    <tr>\n",
       "      <th>3</th>\n",
       "      <td>Daniel</td>\n",
       "      <td>6</td>\n",
       "      <td>6</td>\n",
       "      <td>6</td>\n",
       "    </tr>\n",
       "  </tbody>\n",
       "</table>\n",
       "</div>"
      ],
      "text/plain": [
       "     Nome  Matematica  Fisica  Quimica\n",
       "0     Ana           9       7        8\n",
       "1     Bia           8       8        9\n",
       "2  Carlos           7       9        7\n",
       "3  Daniel           6       6        6"
      ]
     },
     "execution_count": 9,
     "metadata": {},
     "output_type": "execute_result"
    }
   ],
   "source": [
    "df_notas"
   ]
  },
  {
   "cell_type": "code",
   "execution_count": 10,
   "id": "18430918",
   "metadata": {},
   "outputs": [
    {
     "data": {
      "application/vnd.microsoft.datawrangler.viewer.v0+json": {
       "columns": [
        {
         "name": "index",
         "rawType": "int64",
         "type": "integer"
        },
        {
         "name": "Nome",
         "rawType": "object",
         "type": "string"
        },
        {
         "name": "Matematica",
         "rawType": "int64",
         "type": "integer"
        },
        {
         "name": "Fisica",
         "rawType": "int64",
         "type": "integer"
        },
        {
         "name": "Quimica",
         "rawType": "int64",
         "type": "integer"
        }
       ],
       "conversionMethod": "pd.DataFrame",
       "ref": "52cf7ecd-76ed-498a-ab3d-415d9eeef3b3",
       "rows": [
        [
         "0",
         "Ana",
         "9",
         "7",
         "8"
        ],
        [
         "1",
         "Bia",
         "8",
         "8",
         "9"
        ],
        [
         "2",
         "Carlos",
         "7",
         "9",
         "7"
        ],
        [
         "3",
         "Daniel",
         "6",
         "6",
         "6"
        ]
       ],
       "shape": {
        "columns": 4,
        "rows": 4
       }
      },
      "text/html": [
       "<div>\n",
       "<style scoped>\n",
       "    .dataframe tbody tr th:only-of-type {\n",
       "        vertical-align: middle;\n",
       "    }\n",
       "\n",
       "    .dataframe tbody tr th {\n",
       "        vertical-align: top;\n",
       "    }\n",
       "\n",
       "    .dataframe thead th {\n",
       "        text-align: right;\n",
       "    }\n",
       "</style>\n",
       "<table border=\"1\" class=\"dataframe\">\n",
       "  <thead>\n",
       "    <tr style=\"text-align: right;\">\n",
       "      <th></th>\n",
       "      <th>Nome</th>\n",
       "      <th>Matematica</th>\n",
       "      <th>Fisica</th>\n",
       "      <th>Quimica</th>\n",
       "    </tr>\n",
       "  </thead>\n",
       "  <tbody>\n",
       "    <tr>\n",
       "      <th>0</th>\n",
       "      <td>Ana</td>\n",
       "      <td>9</td>\n",
       "      <td>7</td>\n",
       "      <td>8</td>\n",
       "    </tr>\n",
       "    <tr>\n",
       "      <th>1</th>\n",
       "      <td>Bia</td>\n",
       "      <td>8</td>\n",
       "      <td>8</td>\n",
       "      <td>9</td>\n",
       "    </tr>\n",
       "    <tr>\n",
       "      <th>2</th>\n",
       "      <td>Carlos</td>\n",
       "      <td>7</td>\n",
       "      <td>9</td>\n",
       "      <td>7</td>\n",
       "    </tr>\n",
       "    <tr>\n",
       "      <th>3</th>\n",
       "      <td>Daniel</td>\n",
       "      <td>6</td>\n",
       "      <td>6</td>\n",
       "      <td>6</td>\n",
       "    </tr>\n",
       "  </tbody>\n",
       "</table>\n",
       "</div>"
      ],
      "text/plain": [
       "     Nome  Matematica  Fisica  Quimica\n",
       "0     Ana           9       7        8\n",
       "1     Bia           8       8        9\n",
       "2  Carlos           7       9        7\n",
       "3  Daniel           6       6        6"
      ]
     },
     "execution_count": 10,
     "metadata": {},
     "output_type": "execute_result"
    }
   ],
   "source": [
    "#Calculando a media das notas\n",
    "df_notas"
   ]
  },
  {
   "cell_type": "code",
   "execution_count": 11,
   "id": "45815f47",
   "metadata": {},
   "outputs": [
    {
     "data": {
      "application/vnd.microsoft.datawrangler.viewer.v0+json": {
       "columns": [
        {
         "name": "index",
         "rawType": "int64",
         "type": "integer"
        },
        {
         "name": "Nome",
         "rawType": "object",
         "type": "string"
        },
        {
         "name": "Matematica",
         "rawType": "int64",
         "type": "integer"
        },
        {
         "name": "Fisica",
         "rawType": "int64",
         "type": "integer"
        },
        {
         "name": "Quimica",
         "rawType": "int64",
         "type": "integer"
        },
        {
         "name": "Média",
         "rawType": "float64",
         "type": "float"
        }
       ],
       "conversionMethod": "pd.DataFrame",
       "ref": "e761d305-cfd3-4b14-9ee7-74385daa0da3",
       "rows": [
        [
         "0",
         "Ana",
         "9",
         "7",
         "8",
         "8.0"
        ],
        [
         "1",
         "Bia",
         "8",
         "8",
         "9",
         "8.333333333333334"
        ],
        [
         "2",
         "Carlos",
         "7",
         "9",
         "7",
         "7.666666666666667"
        ],
        [
         "3",
         "Daniel",
         "6",
         "6",
         "6",
         "6.0"
        ]
       ],
       "shape": {
        "columns": 5,
        "rows": 4
       }
      },
      "text/html": [
       "<div>\n",
       "<style scoped>\n",
       "    .dataframe tbody tr th:only-of-type {\n",
       "        vertical-align: middle;\n",
       "    }\n",
       "\n",
       "    .dataframe tbody tr th {\n",
       "        vertical-align: top;\n",
       "    }\n",
       "\n",
       "    .dataframe thead th {\n",
       "        text-align: right;\n",
       "    }\n",
       "</style>\n",
       "<table border=\"1\" class=\"dataframe\">\n",
       "  <thead>\n",
       "    <tr style=\"text-align: right;\">\n",
       "      <th></th>\n",
       "      <th>Nome</th>\n",
       "      <th>Matematica</th>\n",
       "      <th>Fisica</th>\n",
       "      <th>Quimica</th>\n",
       "      <th>Média</th>\n",
       "    </tr>\n",
       "  </thead>\n",
       "  <tbody>\n",
       "    <tr>\n",
       "      <th>0</th>\n",
       "      <td>Ana</td>\n",
       "      <td>9</td>\n",
       "      <td>7</td>\n",
       "      <td>8</td>\n",
       "      <td>8.000000</td>\n",
       "    </tr>\n",
       "    <tr>\n",
       "      <th>1</th>\n",
       "      <td>Bia</td>\n",
       "      <td>8</td>\n",
       "      <td>8</td>\n",
       "      <td>9</td>\n",
       "      <td>8.333333</td>\n",
       "    </tr>\n",
       "    <tr>\n",
       "      <th>2</th>\n",
       "      <td>Carlos</td>\n",
       "      <td>7</td>\n",
       "      <td>9</td>\n",
       "      <td>7</td>\n",
       "      <td>7.666667</td>\n",
       "    </tr>\n",
       "    <tr>\n",
       "      <th>3</th>\n",
       "      <td>Daniel</td>\n",
       "      <td>6</td>\n",
       "      <td>6</td>\n",
       "      <td>6</td>\n",
       "      <td>6.000000</td>\n",
       "    </tr>\n",
       "  </tbody>\n",
       "</table>\n",
       "</div>"
      ],
      "text/plain": [
       "     Nome  Matematica  Fisica  Quimica     Média\n",
       "0     Ana           9       7        8  8.000000\n",
       "1     Bia           8       8        9  8.333333\n",
       "2  Carlos           7       9        7  7.666667\n",
       "3  Daniel           6       6        6  6.000000"
      ]
     },
     "execution_count": 11,
     "metadata": {},
     "output_type": "execute_result"
    }
   ],
   "source": [
    "df_notas['Média'] = (df_notas['Matematica'] + df_notas['Fisica'] + df_notas['Quimica']) / 3\n",
    "#Escreva CERTO o nome das colunas, se não, não puxa\n",
    "df_notas"
   ]
  },
  {
   "cell_type": "code",
   "execution_count": 12,
   "id": "7875a7c4",
   "metadata": {},
   "outputs": [
    {
     "data": {
      "application/vnd.microsoft.datawrangler.viewer.v0+json": {
       "columns": [
        {
         "name": "index",
         "rawType": "int64",
         "type": "integer"
        },
        {
         "name": "Nome",
         "rawType": "object",
         "type": "string"
        },
        {
         "name": "Matematica",
         "rawType": "int64",
         "type": "integer"
        },
        {
         "name": "Fisica",
         "rawType": "int64",
         "type": "integer"
        },
        {
         "name": "Quimica",
         "rawType": "int64",
         "type": "integer"
        },
        {
         "name": "Média",
         "rawType": "float64",
         "type": "float"
        }
       ],
       "conversionMethod": "pd.DataFrame",
       "ref": "5c9ca346-942f-460e-8aac-90defc926c1e",
       "rows": [
        [
         "0",
         "Ana",
         "9",
         "7",
         "8",
         "8.0"
        ],
        [
         "1",
         "Bia",
         "8",
         "8",
         "9",
         "8.333333333333334"
        ]
       ],
       "shape": {
        "columns": 5,
        "rows": 2
       }
      },
      "text/html": [
       "<div>\n",
       "<style scoped>\n",
       "    .dataframe tbody tr th:only-of-type {\n",
       "        vertical-align: middle;\n",
       "    }\n",
       "\n",
       "    .dataframe tbody tr th {\n",
       "        vertical-align: top;\n",
       "    }\n",
       "\n",
       "    .dataframe thead th {\n",
       "        text-align: right;\n",
       "    }\n",
       "</style>\n",
       "<table border=\"1\" class=\"dataframe\">\n",
       "  <thead>\n",
       "    <tr style=\"text-align: right;\">\n",
       "      <th></th>\n",
       "      <th>Nome</th>\n",
       "      <th>Matematica</th>\n",
       "      <th>Fisica</th>\n",
       "      <th>Quimica</th>\n",
       "      <th>Média</th>\n",
       "    </tr>\n",
       "  </thead>\n",
       "  <tbody>\n",
       "    <tr>\n",
       "      <th>0</th>\n",
       "      <td>Ana</td>\n",
       "      <td>9</td>\n",
       "      <td>7</td>\n",
       "      <td>8</td>\n",
       "      <td>8.000000</td>\n",
       "    </tr>\n",
       "    <tr>\n",
       "      <th>1</th>\n",
       "      <td>Bia</td>\n",
       "      <td>8</td>\n",
       "      <td>8</td>\n",
       "      <td>9</td>\n",
       "      <td>8.333333</td>\n",
       "    </tr>\n",
       "  </tbody>\n",
       "</table>\n",
       "</div>"
      ],
      "text/plain": [
       "  Nome  Matematica  Fisica  Quimica     Média\n",
       "0  Ana           9       7        8  8.000000\n",
       "1  Bia           8       8        9  8.333333"
      ]
     },
     "execution_count": 12,
     "metadata": {},
     "output_type": "execute_result"
    }
   ],
   "source": [
    "#Identificar alunos aprovados com nota boa (precisa ser maior media >=82.5)\n",
    "df_notas_aprovados = df_notas[df_notas['Média'] >= 8]\n",
    "df_notas_aprovados\n"
   ]
  },
  {
   "cell_type": "code",
   "execution_count": 13,
   "id": "3eac543c",
   "metadata": {},
   "outputs": [
    {
     "data": {
      "application/vnd.microsoft.datawrangler.viewer.v0+json": {
       "columns": [
        {
         "name": "index",
         "rawType": "int64",
         "type": "integer"
        },
        {
         "name": "Nome",
         "rawType": "object",
         "type": "string"
        },
        {
         "name": "Média",
         "rawType": "float64",
         "type": "float"
        }
       ],
       "conversionMethod": "pd.DataFrame",
       "ref": "3da3e00c-1145-4d3b-828e-6b4e5e1623af",
       "rows": [
        [
         "0",
         "Ana",
         "8.0"
        ],
        [
         "1",
         "Bia",
         "8.333333333333334"
        ],
        [
         "2",
         "Carlos",
         "7.666666666666667"
        ],
        [
         "3",
         "Daniel",
         "6.0"
        ]
       ],
       "shape": {
        "columns": 2,
        "rows": 4
       }
      },
      "text/html": [
       "<div>\n",
       "<style scoped>\n",
       "    .dataframe tbody tr th:only-of-type {\n",
       "        vertical-align: middle;\n",
       "    }\n",
       "\n",
       "    .dataframe tbody tr th {\n",
       "        vertical-align: top;\n",
       "    }\n",
       "\n",
       "    .dataframe thead th {\n",
       "        text-align: right;\n",
       "    }\n",
       "</style>\n",
       "<table border=\"1\" class=\"dataframe\">\n",
       "  <thead>\n",
       "    <tr style=\"text-align: right;\">\n",
       "      <th></th>\n",
       "      <th>Nome</th>\n",
       "      <th>Média</th>\n",
       "    </tr>\n",
       "  </thead>\n",
       "  <tbody>\n",
       "    <tr>\n",
       "      <th>0</th>\n",
       "      <td>Ana</td>\n",
       "      <td>8.000000</td>\n",
       "    </tr>\n",
       "    <tr>\n",
       "      <th>1</th>\n",
       "      <td>Bia</td>\n",
       "      <td>8.333333</td>\n",
       "    </tr>\n",
       "    <tr>\n",
       "      <th>2</th>\n",
       "      <td>Carlos</td>\n",
       "      <td>7.666667</td>\n",
       "    </tr>\n",
       "    <tr>\n",
       "      <th>3</th>\n",
       "      <td>Daniel</td>\n",
       "      <td>6.000000</td>\n",
       "    </tr>\n",
       "  </tbody>\n",
       "</table>\n",
       "</div>"
      ],
      "text/plain": [
       "     Nome     Média\n",
       "0     Ana  8.000000\n",
       "1     Bia  8.333333\n",
       "2  Carlos  7.666667\n",
       "3  Daniel  6.000000"
      ]
     },
     "execution_count": 13,
     "metadata": {},
     "output_type": "execute_result"
    }
   ],
   "source": [
    "df_notas [['Nome', 'Média']]"
   ]
  },
  {
   "cell_type": "code",
   "execution_count": 14,
   "id": "fb2f8f03",
   "metadata": {},
   "outputs": [
    {
     "data": {
      "application/vnd.microsoft.datawrangler.viewer.v0+json": {
       "columns": [
        {
         "name": "index",
         "rawType": "int64",
         "type": "integer"
        },
        {
         "name": "Nome",
         "rawType": "object",
         "type": "string"
        },
        {
         "name": "Média",
         "rawType": "float64",
         "type": "float"
        }
       ],
       "conversionMethod": "pd.DataFrame",
       "ref": "d3e076c0-8f4c-46c2-8936-6afbe32b969f",
       "rows": [
        [
         "0",
         "Ana",
         "8.0"
        ],
        [
         "1",
         "Bia",
         "8.333333333333334"
        ]
       ],
       "shape": {
        "columns": 2,
        "rows": 2
       }
      },
      "text/html": [
       "<div>\n",
       "<style scoped>\n",
       "    .dataframe tbody tr th:only-of-type {\n",
       "        vertical-align: middle;\n",
       "    }\n",
       "\n",
       "    .dataframe tbody tr th {\n",
       "        vertical-align: top;\n",
       "    }\n",
       "\n",
       "    .dataframe thead th {\n",
       "        text-align: right;\n",
       "    }\n",
       "</style>\n",
       "<table border=\"1\" class=\"dataframe\">\n",
       "  <thead>\n",
       "    <tr style=\"text-align: right;\">\n",
       "      <th></th>\n",
       "      <th>Nome</th>\n",
       "      <th>Média</th>\n",
       "    </tr>\n",
       "  </thead>\n",
       "  <tbody>\n",
       "    <tr>\n",
       "      <th>0</th>\n",
       "      <td>Ana</td>\n",
       "      <td>8.000000</td>\n",
       "    </tr>\n",
       "    <tr>\n",
       "      <th>1</th>\n",
       "      <td>Bia</td>\n",
       "      <td>8.333333</td>\n",
       "    </tr>\n",
       "  </tbody>\n",
       "</table>\n",
       "</div>"
      ],
      "text/plain": [
       "  Nome     Média\n",
       "0  Ana  8.000000\n",
       "1  Bia  8.333333"
      ]
     },
     "execution_count": 14,
     "metadata": {},
     "output_type": "execute_result"
    }
   ],
   "source": [
    "df_notas_aprovados [['Nome','Média']]"
   ]
  }
 ],
 "metadata": {
  "kernelspec": {
   "display_name": ".venv",
   "language": "python",
   "name": "python3"
  },
  "language_info": {
   "codemirror_mode": {
    "name": "ipython",
    "version": 3
   },
   "file_extension": ".py",
   "mimetype": "text/x-python",
   "name": "python",
   "nbconvert_exporter": "python",
   "pygments_lexer": "ipython3",
   "version": "3.13.2"
  }
 },
 "nbformat": 4,
 "nbformat_minor": 5
}
